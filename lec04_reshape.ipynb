{
 "cells": [
  {
   "cell_type": "code",
   "execution_count": 9,
   "id": "c4528974-d05c-4632-853b-accd2e94171d",
   "metadata": {
    "tags": []
   },
   "outputs": [],
   "source": [
    "import pandas as pd\n",
    "import numpy as np"
   ]
  },
  {
   "cell_type": "code",
   "execution_count": 3,
   "id": "f98bf14b-9390-4d39-9112-14caca8f14c6",
   "metadata": {
    "tags": []
   },
   "outputs": [],
   "source": [
    "num_list = [1,2,3,4]\n",
    "num_arr = np.array(num_list)\n",
    "s = pd.Series(num_arr)\n"
   ]
  },
  {
   "cell_type": "markdown",
   "id": "afa197fe-bea1-461b-a772-0f22794d27e5",
   "metadata": {},
   "source": [
    "## np.arange()"
   ]
  },
  {
   "cell_type": "code",
   "execution_count": 12,
   "id": "754f04b7-8e30-45db-a396-1ac92d2aceb3",
   "metadata": {
    "tags": []
   },
   "outputs": [
    {
     "data": {
      "text/plain": [
       "array([ 0,  1,  2,  3,  4,  5,  6,  7,  8,  9, 10, 11])"
      ]
     },
     "execution_count": 12,
     "metadata": {},
     "output_type": "execute_result"
    }
   ],
   "source": [
    "a = np.arange(12)\n",
    "a"
   ]
  },
  {
   "cell_type": "code",
   "execution_count": 16,
   "id": "6d620678-805d-4b7a-8586-d607ff4c80ff",
   "metadata": {
    "tags": []
   },
   "outputs": [
    {
     "name": "stdout",
     "output_type": "stream",
     "text": [
      "range(0, 12)\n",
      "[0, 1, 2, 3, 4, 5, 6, 7, 8, 9, 10, 11]\n"
     ]
    }
   ],
   "source": [
    "a = range(12)\n",
    "print(a)\n",
    "print(list(a))"
   ]
  },
  {
   "cell_type": "code",
   "execution_count": 13,
   "id": "031c34ca-3f20-4a51-b3bd-818bb3fe4dd6",
   "metadata": {
    "tags": []
   },
   "outputs": [
    {
     "data": {
      "text/plain": [
       "array([ 4,  6,  8, 10])"
      ]
     },
     "execution_count": 13,
     "metadata": {},
     "output_type": "execute_result"
    }
   ],
   "source": [
    "a = np.arange(4,12,2)\n",
    "a"
   ]
  },
  {
   "cell_type": "markdown",
   "id": "15581e3f-661d-4a4c-ba60-ffc1a4952832",
   "metadata": {},
   "source": [
    "## for문"
   ]
  },
  {
   "cell_type": "code",
   "execution_count": 29,
   "id": "6ceb2632-6eac-40c2-a660-a61abc7c6ee7",
   "metadata": {
    "tags": []
   },
   "outputs": [
    {
     "name": "stdout",
     "output_type": "stream",
     "text": [
      "1\n",
      "2\n",
      "3\n",
      "\t 1\n",
      "\t 2\n",
      "\t 3\n",
      "1\n",
      "2\n",
      "3\n"
     ]
    }
   ],
   "source": [
    "for i in [1,2,3]:\n",
    "    print(i)\n",
    "    \n",
    "for i in range(1,4):\n",
    "    print('\\t',i)\n",
    "    \n",
    "for i in np.arange(1,4):\n",
    "    print(i)"
   ]
  },
  {
   "cell_type": "code",
   "execution_count": 30,
   "id": "0cd882ec-6727-48d2-9529-cb8fd164f104",
   "metadata": {
    "tags": []
   },
   "outputs": [
    {
     "name": "stdout",
     "output_type": "stream",
     "text": [
      "0\n",
      "1\n",
      "2\n",
      "\t 0\n",
      "\t 1\n",
      "\t 2\n"
     ]
    }
   ],
   "source": [
    "for i in range(3):\n",
    "    print(i)\n",
    "    \n",
    "for i in np.arange(3):\n",
    "    print('\\t',i)\n",
    "    "
   ]
  },
  {
   "cell_type": "markdown",
   "id": "cd9471ca-21cd-4270-a7fa-8191355f392b",
   "metadata": {},
   "source": [
    "# np.zeros(), np.ones() &  _like()"
   ]
  },
  {
   "cell_type": "markdown",
   "id": "9b4bf9f6-972d-4418-9d93-306ac5bf3408",
   "metadata": {},
   "source": [
    "- zeros"
   ]
  },
  {
   "cell_type": "code",
   "execution_count": 35,
   "id": "90f5c764-26bd-4f00-84e3-6d385a114271",
   "metadata": {
    "tags": []
   },
   "outputs": [
    {
     "data": {
      "text/plain": [
       "array([0, 0, 0, 0, 0])"
      ]
     },
     "execution_count": 35,
     "metadata": {},
     "output_type": "execute_result"
    }
   ],
   "source": [
    "np.zeros(5, dtype = int)\n",
    "# np.zeros(5, dtype = object)"
   ]
  },
  {
   "cell_type": "code",
   "execution_count": 37,
   "id": "54080381-2d73-4822-8b9d-f75d98cc4d1a",
   "metadata": {
    "tags": []
   },
   "outputs": [
    {
     "data": {
      "text/plain": [
       "array([[0, 0, 0, 0, 0],\n",
       "       [0, 0, 0, 0, 0],\n",
       "       [0, 0, 0, 0, 0],\n",
       "       [0, 0, 0, 0, 0],\n",
       "       [0, 0, 0, 0, 0]])"
      ]
     },
     "execution_count": 37,
     "metadata": {},
     "output_type": "execute_result"
    }
   ],
   "source": [
    "np.zeros((5,5), dtype = int)"
   ]
  },
  {
   "cell_type": "code",
   "execution_count": 42,
   "id": "42c964b2-a208-4695-8989-d9f18e84f887",
   "metadata": {
    "tags": []
   },
   "outputs": [
    {
     "name": "stdout",
     "output_type": "stream",
     "text": [
      "[0 0 0 0 0]\n"
     ]
    }
   ],
   "source": [
    "a = np.arange(5)\n",
    "print(np.zeros_like(a))"
   ]
  },
  {
   "cell_type": "markdown",
   "id": "59414804-fff7-4751-8ff2-b75693aedda7",
   "metadata": {},
   "source": [
    "----"
   ]
  },
  {
   "cell_type": "markdown",
   "id": "f642187b-49e1-4286-be27-07367a8ac4c5",
   "metadata": {},
   "source": [
    "- ones"
   ]
  },
  {
   "cell_type": "code",
   "execution_count": 36,
   "id": "05419402-cd4d-4688-8b59-12f5a5c18c9b",
   "metadata": {
    "tags": []
   },
   "outputs": [
    {
     "data": {
      "text/plain": [
       "array([1, 1, 1, 1, 1])"
      ]
     },
     "execution_count": 36,
     "metadata": {},
     "output_type": "execute_result"
    }
   ],
   "source": [
    "np.ones(5, dtype = int)\n",
    "# np.ones(5, dtype = object)"
   ]
  },
  {
   "cell_type": "code",
   "execution_count": 39,
   "id": "0fb1a6f5-d270-4b86-b7a7-049e03cdcb49",
   "metadata": {
    "tags": []
   },
   "outputs": [
    {
     "data": {
      "text/plain": [
       "array([[1, 1, 1],\n",
       "       [1, 1, 1],\n",
       "       [1, 1, 1],\n",
       "       [1, 1, 1],\n",
       "       [1, 1, 1]])"
      ]
     },
     "execution_count": 39,
     "metadata": {},
     "output_type": "execute_result"
    }
   ],
   "source": [
    "np.ones((5,3), dtype = int)"
   ]
  },
  {
   "cell_type": "code",
   "execution_count": 43,
   "id": "88c49675-8848-4920-9655-ebc9549909fe",
   "metadata": {
    "tags": []
   },
   "outputs": [
    {
     "name": "stdout",
     "output_type": "stream",
     "text": [
      "[1 1 1 1 1]\n"
     ]
    }
   ],
   "source": [
    "a = np.arange(5)\n",
    "print(np.ones_like(a))"
   ]
  },
  {
   "cell_type": "markdown",
   "id": "cb88ab7c-656c-46e2-afb2-c948bea3bd9e",
   "metadata": {},
   "source": [
    "---"
   ]
  },
  {
   "cell_type": "markdown",
   "id": "e2357859-8c4f-431e-82f8-8c0cb8a8d2ca",
   "metadata": {},
   "source": [
    "# 차수 Dimension\n",
    "<img src ='https://img1.daumcdn.net/thumb/R1280x0/?scode=mtistory2&fname=https%3A%2F%2Fblog.kakaocdn.net%2Fdn%2FcSoMOs%2Fbtqt0a2Dc2y%2FQhkfwhiWqeUKvNfsM2H29K%2Fimg.png\n",
    "'>"
   ]
  },
  {
   "cell_type": "markdown",
   "id": "a79dc872-fd7b-463c-a634-0f5515718039",
   "metadata": {},
   "source": [
    "## 1D\n",
    "- axis 0"
   ]
  },
  {
   "cell_type": "code",
   "execution_count": 4,
   "id": "f11bd368-ab23-418c-950d-58dc65ebad9e",
   "metadata": {
    "tags": []
   },
   "outputs": [
    {
     "name": "stdout",
     "output_type": "stream",
     "text": [
      "1\n",
      "1\n",
      "1\n"
     ]
    }
   ],
   "source": [
    "# np.ndim : 차원이 몇 차원이야?\n",
    "print(np.ndim(num_list))\n",
    "print(np.ndim(num_arr))\n",
    "print(np.ndim(s))"
   ]
  },
  {
   "cell_type": "markdown",
   "id": "a6907e0c-0231-4f4e-957d-39ced57cc518",
   "metadata": {},
   "source": [
    "## 2D\n",
    "- axis 0, axis 1"
   ]
  },
  {
   "cell_type": "code",
   "execution_count": 11,
   "id": "dd97c1f5-e3e6-4e0b-a13e-825b398b8715",
   "metadata": {
    "tags": []
   },
   "outputs": [
    {
     "name": "stdout",
     "output_type": "stream",
     "text": [
      "2\n"
     ]
    }
   ],
   "source": [
    "num_2d = [[1,2,3,4]]\n",
    "print(np.ndim(num_2d))"
   ]
  },
  {
   "cell_type": "markdown",
   "id": "71edbb29-ddf9-4741-bffe-adaaeb85b86e",
   "metadata": {
    "tags": []
   },
   "source": [
    "## 3D \n",
    "* (덩어리, 줄, 칸)\n",
    "<pre>\n",
    "<font color=red><b>axis=0 : (_____ 줄,칸)   세로(↓)\n",
    "<font color=red><b>axis=1 : (덩어리,__,칸)  가로(→)\n",
    "<font color=red><b>axis=2 : (덩어리,줄,__)  폭"
   ]
  },
  {
   "cell_type": "code",
   "execution_count": 51,
   "id": "997f381b-5958-4fd3-94af-74db6dfce9d9",
   "metadata": {
    "tags": []
   },
   "outputs": [
    {
     "name": "stdout",
     "output_type": "stream",
     "text": [
      "[[[1. 1. 1.]\n",
      "  [1. 1. 1.]\n",
      "  [1. 1. 1.]]\n",
      "\n",
      " [[1. 1. 1.]\n",
      "  [1. 1. 1.]\n",
      "  [1. 1. 1.]]\n",
      "\n",
      " [[1. 1. 1.]\n",
      "  [1. 1. 1.]\n",
      "  [1. 1. 1.]]\n",
      "\n",
      " [[1. 1. 1.]\n",
      "  [1. 1. 1.]\n",
      "  [1. 1. 1.]]\n",
      "\n",
      " [[1. 1. 1.]\n",
      "  [1. 1. 1.]\n",
      "  [1. 1. 1.]]]\n",
      "차원 수 : 3\n"
     ]
    }
   ],
   "source": [
    "one_3 =  np.ones((5,3,3))\n",
    "\n",
    "print(one_3)\n",
    "print(f'차원 수 : {np.ndim(one_3)}')"
   ]
  },
  {
   "cell_type": "markdown",
   "id": "247e22aa-f3c7-4040-8e09-726fcfd0c71c",
   "metadata": {},
   "source": [
    "# reshape()"
   ]
  },
  {
   "cell_type": "code",
   "execution_count": 56,
   "id": "f50cfb78-24c7-4aa7-b64d-329461477263",
   "metadata": {
    "tags": []
   },
   "outputs": [
    {
     "name": "stdout",
     "output_type": "stream",
     "text": [
      "(24,) \n",
      " [ 0  1  2  3  4  5  6  7  8  9 10 11 12 13 14 15 16 17 18 19 20 21 22 23]\n",
      "(6, 4) \n",
      " [[ 0  1  2  3]\n",
      " [ 4  5  6  7]\n",
      " [ 8  9 10 11]\n",
      " [12 13 14 15]\n",
      " [16 17 18 19]\n",
      " [20 21 22 23]]\n",
      "(2, 12) \n",
      " [[ 0  1  2  3  4  5  6  7  8  9 10 11]\n",
      " [12 13 14 15 16 17 18 19 20 21 22 23]]\n",
      "(2, 2, 6) \n",
      " [[[ 0  1  2  3  4  5]\n",
      "  [ 6  7  8  9 10 11]]\n",
      "\n",
      " [[12 13 14 15 16 17]\n",
      "  [18 19 20 21 22 23]]]\n"
     ]
    }
   ],
   "source": [
    "num_arr = np.arange(0,24)\n",
    "print(num_arr.shape, '\\n', num_arr)\n",
    "\n",
    "re_arr = num_arr.reshape(6,4)\n",
    "print(re_arr.shape, '\\n', re_arr)\n",
    "\n",
    "re_arr = num_arr.reshape(2,12)\n",
    "print(re_arr.shape, '\\n', re_arr)\n",
    "\n",
    "re_arr = num_arr.reshape(2,2,6)\n",
    "print(re_arr.shape, '\\n', re_arr)"
   ]
  },
  {
   "cell_type": "markdown",
   "id": "f52bcbd5-4c0a-4cc1-a280-be31a68ecd72",
   "metadata": {},
   "source": [
    "## reshape() vs resize()\n",
    "- <b>reshape()</b> : 원본에 복제를 함, 리턴이 있음\n",
    "- <b>resize()</b>  : 원본을 바로 바꿔버림, 리턴이 없음"
   ]
  },
  {
   "cell_type": "code",
   "execution_count": 18,
   "id": "6a7cb921-685b-469b-be9e-b34d55988b7c",
   "metadata": {
    "tags": []
   },
   "outputs": [
    {
     "name": "stdout",
     "output_type": "stream",
     "text": [
      "[ 0  1  2  3  4  5  6  7  8  9 10 11 12 13 14 15 16 17 18 19 20 21 22 23]\n",
      "[[ 0  1  2  3]\n",
      " [ 4  5  6  7]\n",
      " [ 8  9 10 11]\n",
      " [12 13 14 15]\n",
      " [16 17 18 19]\n",
      " [20 21 22 23]]\n"
     ]
    }
   ],
   "source": [
    "num_arr = np.arange(0,24)\n",
    "re_arr = num_arr.reshape(6,4)\n",
    "\n",
    "print(num_arr)\n",
    "print(re_arr)"
   ]
  },
  {
   "cell_type": "code",
   "execution_count": 19,
   "id": "e0d28908-7f89-4bc3-af97-5e59aa1b7f14",
   "metadata": {
    "tags": []
   },
   "outputs": [
    {
     "name": "stdout",
     "output_type": "stream",
     "text": [
      "[[ 0  1  2  3]\n",
      " [ 4  5  6  7]\n",
      " [ 8  9 10 11]\n",
      " [12 13 14 15]\n",
      " [16 17 18 19]\n",
      " [20 21 22 23]]\n",
      "None\n"
     ]
    }
   ],
   "source": [
    "num_arr = np.arange(0,24)\n",
    "re_arr = num_arr.resize(6,4)\n",
    "\n",
    "print(num_arr)\n",
    "print(re_arr)"
   ]
  },
  {
   "cell_type": "markdown",
   "id": "19b91b73-5159-4ac7-ba2c-2ab7918477ce",
   "metadata": {},
   "source": [
    "# 차원 확대\n",
    "- <b>reshape()\n",
    "-  <b>슬라이싱 [:, np.newaxis or None]\n",
    "-  <b>np.expand_dims(a,axis)"
   ]
  },
  {
   "cell_type": "markdown",
   "id": "39391849-12a4-4f19-8d2a-1dcaf761f8ca",
   "metadata": {},
   "source": [
    "## reshape()\n"
   ]
  },
  {
   "cell_type": "code",
   "execution_count": 23,
   "id": "1ba87339-3340-4c3e-8bb1-4416daa52f60",
   "metadata": {
    "tags": []
   },
   "outputs": [
    {
     "name": "stdout",
     "output_type": "stream",
     "text": [
      "1 (24,) \n",
      " [ 0  1  2  3  4  5  6  7  8  9 10 11 12 13 14 15 16 17 18 19 20 21 22 23]\n",
      "2 (1, 24) \n",
      " [[ 0  1  2  3  4  5  6  7  8  9 10 11 12 13 14 15 16 17 18 19 20 21 22 23]]\n",
      "2 (24, 1) \n",
      " [[ 0]\n",
      " [ 1]\n",
      " [ 2]\n",
      " [ 3]\n",
      " [ 4]\n",
      " [ 5]\n",
      " [ 6]\n",
      " [ 7]\n",
      " [ 8]\n",
      " [ 9]\n",
      " [10]\n",
      " [11]\n",
      " [12]\n",
      " [13]\n",
      " [14]\n",
      " [15]\n",
      " [16]\n",
      " [17]\n",
      " [18]\n",
      " [19]\n",
      " [20]\n",
      " [21]\n",
      " [22]\n",
      " [23]]\n"
     ]
    }
   ],
   "source": [
    "num_arr = np.arange(0,24)\n",
    "print(num_arr.ndim, num_arr.shape,'\\n', num_arr)\n",
    "\n",
    "res = num_arr.reshape(1,-1)\n",
    "print(res.ndim,res.shape, '\\n', res)\n",
    "# res = num_arr.reshape(1,24)\n",
    "# print(res.ndim,,res.shape, '\\n', res)\n",
    "\n",
    "res = num_arr.reshape(-1,1)\n",
    "print(res.ndim,res.shape, '\\n', res)\n",
    "# res = num_arr.reshape(24,1)\n",
    "# print(res.ndim,,res.shape, '\\n', res)"
   ]
  },
  {
   "cell_type": "code",
   "execution_count": 24,
   "id": "c8d11adf-dc15-4b7d-9117-a85b1b6bb49a",
   "metadata": {
    "tags": []
   },
   "outputs": [
    {
     "name": "stdout",
     "output_type": "stream",
     "text": [
      "1 (24,) \n",
      " [ 0  1  2  3  4  5  6  7  8  9 10 11 12 13 14 15 16 17 18 19 20 21 22 23]\n",
      "3 (2, 3, 4) \n",
      " [[[ 0  1  2  3]\n",
      "  [ 4  5  6  7]\n",
      "  [ 8  9 10 11]]\n",
      "\n",
      " [[12 13 14 15]\n",
      "  [16 17 18 19]\n",
      "  [20 21 22 23]]]\n"
     ]
    }
   ],
   "source": [
    "num_arr = np.arange(0,24)\n",
    "print(num_arr.ndim, num_arr.shape,'\\n', num_arr)\n",
    "\n",
    "res = num_arr.reshape(2,3,4)\n",
    "print(res.ndim,res.shape, '\\n', res)"
   ]
  },
  {
   "cell_type": "markdown",
   "id": "70cbec43-4811-4363-9055-3185fe19994c",
   "metadata": {},
   "source": [
    "## 슬라이싱 [:, np.newaxis or None]"
   ]
  },
  {
   "cell_type": "code",
   "execution_count": 28,
   "id": "1606690b-c256-4611-935c-c54b15907352",
   "metadata": {
    "tags": []
   },
   "outputs": [
    {
     "name": "stdout",
     "output_type": "stream",
     "text": [
      "1 (24,) \n",
      " [ 0  1  2  3  4  5  6  7  8  9 10 11 12 13 14 15 16 17 18 19 20 21 22 23]\n",
      "2 (1, 24) \n",
      " [[ 0  1  2  3  4  5  6  7  8  9 10 11 12 13 14 15 16 17 18 19 20 21 22 23]]\n",
      "2 (24, 1) \n",
      " [[ 0]\n",
      " [ 1]\n",
      " [ 2]\n",
      " [ 3]\n",
      " [ 4]\n",
      " [ 5]\n",
      " [ 6]\n",
      " [ 7]\n",
      " [ 8]\n",
      " [ 9]\n",
      " [10]\n",
      " [11]\n",
      " [12]\n",
      " [13]\n",
      " [14]\n",
      " [15]\n",
      " [16]\n",
      " [17]\n",
      " [18]\n",
      " [19]\n",
      " [20]\n",
      " [21]\n",
      " [22]\n",
      " [23]]\n"
     ]
    }
   ],
   "source": [
    "num_arr = np.arange(0,24)\n",
    "print(num_arr.ndim, num_arr.shape,'\\n', num_arr)\n",
    "\n",
    "res = num_arr[np.newaxis,:]\n",
    "print(res.ndim,res.shape, '\\n', res)\n",
    "# res = num_arr[None,:]\n",
    "# print(res.ndim,res.shape, '\\n', res)\n",
    "\n",
    "res = num_arr[:, np.newaxis]\n",
    "print(res.ndim,res.shape, '\\n', res)\n",
    "# res = num_arr[:, None]\n",
    "# print(res.ndim,res.shape, '\\n', res)"
   ]
  },
  {
   "cell_type": "markdown",
   "id": "da5e0973-f081-49b6-a59e-62bc09dc93cc",
   "metadata": {},
   "source": [
    "## np.expand_dims(a,axis)\n"
   ]
  },
  {
   "cell_type": "code",
   "execution_count": 35,
   "id": "f30b6a92-bdf3-4b47-889f-553b19abafc3",
   "metadata": {
    "tags": []
   },
   "outputs": [
    {
     "name": "stdout",
     "output_type": "stream",
     "text": [
      "1 (24,) \n",
      " [ 0  1  2  3  4  5  6  7  8  9 10 11 12 13 14 15 16 17 18 19 20 21 22 23]\n",
      "2 (1, 24) \n",
      " [[ 0  1  2  3  4  5  6  7  8  9 10 11 12 13 14 15 16 17 18 19 20 21 22 23]]\n",
      "2 (24, 1) \n",
      " [[0]\n",
      " [1]]\n",
      "3 (24, 1, 1) \n",
      " [[[0]]\n",
      "\n",
      " [[1]]]\n",
      "3 (1, 24, 1) \n",
      " [[[ 0]\n",
      "  [ 1]\n",
      "  [ 2]\n",
      "  [ 3]\n",
      "  [ 4]\n",
      "  [ 5]\n",
      "  [ 6]\n",
      "  [ 7]\n",
      "  [ 8]\n",
      "  [ 9]\n",
      "  [10]\n",
      "  [11]\n",
      "  [12]\n",
      "  [13]\n",
      "  [14]\n",
      "  [15]\n",
      "  [16]\n",
      "  [17]\n",
      "  [18]\n",
      "  [19]\n",
      "  [20]\n",
      "  [21]\n",
      "  [22]\n",
      "  [23]]]\n"
     ]
    }
   ],
   "source": [
    "num_arr = np.arange(0,24)\n",
    "print(num_arr.ndim, num_arr.shape,'\\n', num_arr)\n",
    "\n",
    "res = np.expand_dims(num_arr, axis = 0)\n",
    "print(res.ndim,res.shape, '\\n', res)\n",
    "\n",
    "res = np.expand_dims(num_arr, axis = 1)\n",
    "print(res.ndim,res.shape, '\\n', res[:2])\n",
    "\n",
    "res = np.expand_dims(num_arr, axis = (1,2))\n",
    "print(res.ndim,res.shape, '\\n', res[:2])\n",
    "\n",
    "res = np.expand_dims(num_arr, axis = (0,2))\n",
    "print(res.ndim,res.shape, '\\n', res[:2])"
   ]
  },
  {
   "cell_type": "markdown",
   "id": "a4a599e2-bc9f-4470-bbf4-547eb7bf416d",
   "metadata": {},
   "source": [
    "# 차원 축소\n",
    "- 1차원 : reshape(-1,) ravel() flatten()\n",
    "- 슬라이싱 : \n",
    "- np.squeeze()"
   ]
  },
  {
   "cell_type": "markdown",
   "id": "f2d93f56-9178-4cc2-ac03-37694b8a841d",
   "metadata": {
    "tags": []
   },
   "source": [
    "## reshape()\n",
    "* reshape(행,열) : (행, -1) : 알아서 계산\n",
    "* <font color=red><b>reshpae(-1) == ravel() == flatten() : 1차로 만들기"
   ]
  },
  {
   "cell_type": "code",
   "execution_count": 37,
   "id": "461a5bbe-69f7-466c-bcf8-16d4eead198d",
   "metadata": {
    "tags": []
   },
   "outputs": [
    {
     "name": "stdout",
     "output_type": "stream",
     "text": [
      "[ 0  1  2  3  4  5  6  7  8  9 10 11 12 13 14 15 16 17 18 19 20 21 22 23]\n",
      "[[[ 0  1  2  3]\n",
      "  [ 4  5  6  7]\n",
      "  [ 8  9 10 11]]\n",
      "\n",
      " [[12 13 14 15]\n",
      "  [16 17 18 19]\n",
      "  [20 21 22 23]]]\n",
      "[ 0  1  2  3  4  5  6  7  8  9 10 11 12 13 14 15 16 17 18 19 20 21 22 23]\n",
      "[ 0  1  2  3  4  5  6  7  8  9 10 11 12 13 14 15 16 17 18 19 20 21 22 23]\n",
      "[ 0  1  2  3  4  5  6  7  8  9 10 11 12 13 14 15 16 17 18 19 20 21 22 23]\n"
     ]
    }
   ],
   "source": [
    "num_arr = np.arange(0,24)\n",
    "print(num_arr)\n",
    "# re_arr = num_arr.reshape(6,4) #6줄4칸\n",
    "re_arr = num_arr.reshape(2,3,-1) #6줄 , 칸은 알아서 계산\n",
    "print(re_arr)\n",
    "\n",
    "aa = re_arr.reshape(-1) \n",
    "print(aa)\n",
    "\n",
    "bb = re_arr.ravel() \n",
    "print(bb)\n",
    "\n",
    "cc = re_arr.flatten()\n",
    "print(cc)\n"
   ]
  },
  {
   "cell_type": "markdown",
   "id": "884c4561-3808-4e07-906b-d4b47ef4fd33",
   "metadata": {},
   "source": [
    "## 슬라이싱"
   ]
  },
  {
   "cell_type": "code",
   "execution_count": 39,
   "id": "f34015e7-670f-4bbb-b40c-c63a2092c3eb",
   "metadata": {
    "tags": []
   },
   "outputs": [
    {
     "name": "stdout",
     "output_type": "stream",
     "text": [
      "1 (24,) \n",
      " [ 0  1  2  3  4  5  6  7  8  9 10 11 12 13 14 15 16 17 18 19 20 21 22 23]\n",
      "2 (6, 4) \n",
      " [[ 0  1  2  3]\n",
      " [ 4  5  6  7]\n",
      " [ 8  9 10 11]\n",
      " [12 13 14 15]\n",
      " [16 17 18 19]\n",
      " [20 21 22 23]]\n",
      "1 (4,) \n",
      " [4 5 6 7]\n",
      "1 (6,) \n",
      " [ 2  6 10 14 18 22]\n"
     ]
    }
   ],
   "source": [
    "num_arr = np.arange(0,24)\n",
    "print(num_arr.ndim,num_arr.shape, '\\n', num_arr )\n",
    "\n",
    "re_arr = num_arr.reshape(6,4)\n",
    "print(re_arr.ndim,re_arr.shape, '\\n', re_arr )\n",
    "\n",
    "res = re_arr[1,:]\n",
    "print(res.ndim,res.shape, '\\n', res )\n",
    "\n",
    "res = re_arr[:,2]\n",
    "print(res.ndim,res.shape, '\\n', res )\n"
   ]
  },
  {
   "cell_type": "code",
   "execution_count": 40,
   "id": "fb32dcc6-3f4f-430a-8c0c-4849369b8910",
   "metadata": {
    "tags": []
   },
   "outputs": [
    {
     "name": "stdout",
     "output_type": "stream",
     "text": [
      "1 (24,) \n",
      " [ 0  1  2  3  4  5  6  7  8  9 10 11 12 13 14 15 16 17 18 19 20 21 22 23]\n",
      "3 (2, 3, 4) \n",
      " [[[ 0  1  2  3]\n",
      "  [ 4  5  6  7]\n",
      "  [ 8  9 10 11]]\n",
      "\n",
      " [[12 13 14 15]\n",
      "  [16 17 18 19]\n",
      "  [20 21 22 23]]]\n",
      "2 (3, 4) \n",
      " [[12 13 14 15]\n",
      " [16 17 18 19]\n",
      " [20 21 22 23]]\n",
      "2 (2, 4) \n",
      " [[ 8  9 10 11]\n",
      " [20 21 22 23]]\n"
     ]
    }
   ],
   "source": [
    "num_arr = np.arange(0,24)\n",
    "print(num_arr.ndim,num_arr.shape, '\\n', num_arr )\n",
    "\n",
    "re_arr = num_arr.reshape(2,3,4)\n",
    "print(re_arr.ndim,re_arr.shape, '\\n', re_arr )\n",
    "\n",
    "res = re_arr[1,:]\n",
    "print(res.ndim,res.shape, '\\n', res )\n",
    "\n",
    "res = re_arr[:,2]\n",
    "print(res.ndim,res.shape, '\\n', res )\n"
   ]
  },
  {
   "cell_type": "code",
   "execution_count": 45,
   "id": "a035f715-092f-448b-aee5-68d3a075154d",
   "metadata": {
    "tags": []
   },
   "outputs": [
    {
     "name": "stdout",
     "output_type": "stream",
     "text": [
      "3 (2, 3, 4) \n",
      " [[[ 0  1  2  3]\n",
      "  [ 4  5  6  7]\n",
      "  [ 8  9 10 11]]\n",
      "\n",
      " [[12 13 14 15]\n",
      "  [16 17 18 19]\n",
      "  [20 21 22 23]]]\n",
      "2 (3, 4) \n",
      " [[12 13 14 15]\n",
      " [16 17 18 19]\n",
      " [20 21 22 23]]\n"
     ]
    }
   ],
   "source": [
    "num_arr = np.arange(0,24)\n",
    "re_arr = num_arr.reshape(2,3,4)\n",
    "print(re_arr.ndim,re_arr.shape, '\\n', re_arr )\n",
    "\n",
    "res = re_arr[1,...]\n",
    "print(res.ndim,res.shape, '\\n', res )"
   ]
  },
  {
   "cell_type": "markdown",
   "id": "0ee7bbb6-96c0-4477-bec7-007c44bd09db",
   "metadata": {},
   "source": [
    "## np.squeeze()\n",
    "- 차수 1은 다 없앰"
   ]
  },
  {
   "cell_type": "code",
   "execution_count": 49,
   "id": "46b41d61-02c2-423f-99e0-1b4e825dae24",
   "metadata": {
    "tags": []
   },
   "outputs": [
    {
     "name": "stdout",
     "output_type": "stream",
     "text": [
      "3 (1, 24, 1)\n",
      "1 (24,) \n",
      " [ 0  1  2  3  4  5  6  7  8  9 10 11 12 13 14 15 16 17 18 19 20 21 22 23]\n",
      "5 (1, 6, 1, 4, 1)\n",
      "2 (6, 4) \n",
      " [[ 0  1  2  3]\n",
      " [ 4  5  6  7]\n",
      " [ 8  9 10 11]\n",
      " [12 13 14 15]\n",
      " [16 17 18 19]\n",
      " [20 21 22 23]]\n"
     ]
    }
   ],
   "source": [
    "num_arr = np.arange(0,24)\n",
    "\n",
    "re_arr = num_arr.reshape(1,24,1)\n",
    "print(re_arr.ndim,re_arr.shape)\n",
    "\n",
    "res = np.squeeze(re_arr,axis = None)\n",
    "print(res.ndim,res.shape, '\\n', res )\n",
    "\n",
    "\n",
    "re_arr = num_arr.reshape(1,6,1,4,1)\n",
    "print(re_arr.ndim,re_arr.shape)\n",
    "\n",
    "res = np.squeeze(re_arr,axis = None)\n",
    "print(res.ndim,res.shape, '\\n', res )"
   ]
  },
  {
   "cell_type": "markdown",
   "id": "ffadae37-97b9-42b2-b209-c363e486e2d8",
   "metadata": {
    "tags": []
   },
   "source": [
    "# 축 (axis)"
   ]
  },
  {
   "cell_type": "markdown",
   "id": "af23a60e-3436-4a18-80ba-2e4b382af322",
   "metadata": {},
   "source": [
    "- axis = None : sum all of the elements\n",
    "\n",
    "- np.sum\n",
    "    - axis 0 를 무시\n",
    "    - axis 1 를 무시\n",
    "    - axis 2 를 무시"
   ]
  },
  {
   "cell_type": "code",
   "execution_count": 58,
   "id": "13858663-7f8e-4699-97ba-7549ff12f186",
   "metadata": {
    "tags": []
   },
   "outputs": [
    {
     "name": "stdout",
     "output_type": "stream",
     "text": [
      "[ 0  1  2  3  4  5  6  7  8  9 10 11 12 13 14 15 16 17 18 19 20 21 22 23]\n"
     ]
    },
    {
     "data": {
      "text/plain": [
       "276"
      ]
     },
     "execution_count": 58,
     "metadata": {},
     "output_type": "execute_result"
    }
   ],
   "source": [
    "num_arr = np.arange(0,24)\n",
    "print(num_arr)\n",
    "np.sum(num_arr)"
   ]
  },
  {
   "cell_type": "code",
   "execution_count": 62,
   "id": "9fab1bf6-c8b3-44cd-84e9-70d5dc779a22",
   "metadata": {
    "tags": []
   },
   "outputs": [
    {
     "name": "stdout",
     "output_type": "stream",
     "text": [
      "[[ 0  1  2  3  4  5]\n",
      " [ 6  7  8  9 10 11]\n",
      " [12 13 14 15 16 17]\n",
      " [18 19 20 21 22 23]]\n",
      "axis =0 일때 합 : [36 40 44 48 52 56]\n",
      "axis =1 일때 합 : [ 15  51  87 123]\n"
     ]
    }
   ],
   "source": [
    "re_arr = num_arr.reshape(4,6)\n",
    "print(re_arr)\n",
    "print(f'axis =0 일때 합 : {np.sum(re_arr,axis=0)}')\n",
    "print(f'axis =1 일때 합 : {np.sum(re_arr,axis=1)}')"
   ]
  },
  {
   "cell_type": "code",
   "execution_count": 72,
   "id": "d8f39e02-05ed-4406-bba1-de829145726c",
   "metadata": {
    "tags": []
   },
   "outputs": [
    {
     "name": "stdout",
     "output_type": "stream",
     "text": [
      "(2, 3, 4)\n",
      "[[[ 0  1  2  3]\n",
      "  [ 4  5  6  7]\n",
      "  [ 8  9 10 11]]\n",
      "\n",
      " [[12 13 14 15]\n",
      "  [16 17 18 19]\n",
      "  [20 21 22 23]]] \n",
      "\n",
      "axis =0 일때 합 (3*4):\n",
      " [[12 14 16 18]\n",
      " [20 22 24 26]\n",
      " [28 30 32 34]]\n",
      "\n",
      "axis =1 일때 합 (2*4):\n",
      " [[12 15 18 21]\n",
      " [48 51 54 57]]\n",
      "\n",
      "axis =2 일때 합 (2*3): \n",
      "[[ 6 22 38]\n",
      " [54 70 86]]\n",
      "\n"
     ]
    }
   ],
   "source": [
    "re_arr = num_arr.reshape(2,3,4)\n",
    "print(re_arr.shape)\n",
    "print(re_arr,'\\n')\n",
    "print(f'axis =0 일때 합 (3*4):\\n {np.sum(re_arr,axis=0)}\\n')\n",
    "print(f'axis =1 일때 합 (2*4):\\n {np.sum(re_arr,axis=1)}\\n')\n",
    "print(f'axis =2 일때 합 (2*3): \\n{np.sum(re_arr,axis=2)}\\n')"
   ]
  },
  {
   "cell_type": "code",
   "execution_count": 79,
   "id": "583ec841-c5c2-4a0e-a110-3b43865f6690",
   "metadata": {
    "tags": []
   },
   "outputs": [
    {
     "name": "stdout",
     "output_type": "stream",
     "text": [
      "[ 0  1  2  3  4  5  6  7  8  9 10 11 12 13 14 15 16 17 18 19 20 21 22 23]\n",
      "1\n",
      "[ 0  1  2  3  4  5  6  7  8  9 10 11 12 13 14 15 16 17 18 19 20 21 22 23]\n",
      "1\n"
     ]
    }
   ],
   "source": [
    "print(re_arr.reshape(-1))\n",
    "print(np.ndim(re_arr.reshape(-1)))\n",
    "\n",
    "print(re_arr.flatten())\n",
    "print(np.ndim(re_arr.flatten()))"
   ]
  },
  {
   "cell_type": "markdown",
   "id": "23ea2027-edcf-4e63-a313-6eff9cda7519",
   "metadata": {},
   "source": [
    "# stack\n",
    "- ref : https://rfriend.tistory.com/352\n",
    "\n",
    "<img src = 'https://img1.daumcdn.net/thumb/R1280x0/?scode=mtistory2&fname=https%3A%2F%2Ft1.daumcdn.net%2Fcfile%2Ftistory%2F9909EF345D53F4D916'>"
   ]
  },
  {
   "cell_type": "code",
   "execution_count": 95,
   "id": "ed5ab32a-f24d-4598-9ad8-87498c6c95e0",
   "metadata": {
    "tags": []
   },
   "outputs": [
    {
     "name": "stdout",
     "output_type": "stream",
     "text": [
      "[ 0  1  2 10 11 12]\n",
      "[[ 0  1  2]\n",
      " [10 11 12]]\n",
      "=====\n",
      "[[ 0 10]\n",
      " [ 1 11]\n",
      " [ 2 12]]\n",
      "[[ 0  1  2]\n",
      " [10 11 12]]\n",
      "=====\n",
      "[[ 0 10]\n",
      " [ 1 11]\n",
      " [ 2 12]]\n",
      "[ 0  1  2 10 11 12]\n",
      "[[ 0  1  2]\n",
      " [10 11 12]]\n"
     ]
    }
   ],
   "source": [
    "a = np.arange(3)\n",
    "b = np.arange(10,13)\n",
    "\n",
    "\n",
    "print(np.hstack([a,b]))\n",
    "print(np.vstack([a,b]))\n",
    "# ========================\n",
    "print('=====')\n",
    "print(np.stack([a,b],axis=1))\n",
    "print(np.stack([a,b],axis=0))\n",
    "print('=====')\n",
    "# ========================\n",
    "\n",
    "print(np.column_stack([a.T,b.T]))\n",
    "print(np.hstack([a.T,b.T]))\n",
    "print(np.vstack([a.T,b.T]))"
   ]
  },
  {
   "cell_type": "markdown",
   "id": "a4adf65a-f75f-43cd-bdbd-bae2741b0e25",
   "metadata": {},
   "source": [
    "# scalar , vector\n",
    "<img src='https://art28.github.io/assets/lecture_asset/linear_algebra/1_1.png\n",
    "'>"
   ]
  },
  {
   "cell_type": "markdown",
   "id": "b79fee2f-31a6-4cc4-b2d4-ce4d2e9db528",
   "metadata": {},
   "source": [
    "# 요소 접근"
   ]
  },
  {
   "cell_type": "code",
   "execution_count": 97,
   "id": "f417d205-ea6f-449a-8fdb-8201449728e0",
   "metadata": {
    "tags": []
   },
   "outputs": [
    {
     "data": {
      "text/plain": [
       "(4,)"
      ]
     },
     "execution_count": 97,
     "metadata": {},
     "output_type": "execute_result"
    }
   ],
   "source": [
    "num_arr = np.arange(0,24)\n",
    "re_arr = num_arr.reshape(2,3,4)\n",
    "re_arr[0][0].shape"
   ]
  },
  {
   "cell_type": "markdown",
   "id": "89a35d82-e4da-4fef-affd-bd3c5f3f4fcd",
   "metadata": {},
   "source": [
    "# broadcasting\n",
    "- ref : https://jakevdp.github.io/PythonDataScienceHandbook/02.05-computation-on-arrays-broadcasting.html\n"
   ]
  },
  {
   "cell_type": "markdown",
   "id": "530a0a4a-18d4-4df9-ab8d-502d488efd1f",
   "metadata": {},
   "source": [
    "<img src = 'https://jakevdp.github.io/PythonDataScienceHandbook/figures/02.05-broadcasting.png'>\n",
    "\n",
    "- <b>np에서 broadcasting</b> : \n",
    "    - 규칙 1: 두 배열의 차원 수가 다른 경우 차원이 더 적은 배열의 모양이 차원이 큰 모형과 같은 배열으로 채워집니다.\n",
    "    - 규칙 2: 두 배열의 모양이 차원에서 일치하지 않으면 해당 차원에서 모양이 1인 배열이 다른 모양과 일치하도록 늘어납니다.\n",
    "    - 규칙 3: 차원에서 크기가 일치하지 않고 둘 다 1이 아니면 오류가 발생합니다.\n",
    "    \n",
    "- np에서 사칙연산이 가능한 원리 -> 브로드캐스팅"
   ]
  },
  {
   "cell_type": "code",
   "execution_count": 4,
   "id": "03b131a8-0ea3-49ca-8781-c063682d12ac",
   "metadata": {
    "tags": []
   },
   "outputs": [
    {
     "name": "stdout",
     "output_type": "stream",
     "text": [
      "[1, 2, 3, 1, 2, 3, 1, 2, 3]\n"
     ]
    }
   ],
   "source": [
    "num_list = [1,2,3]\n",
    "# num_list += 3 # 에러\n",
    "num_list *= 3   # 리스트를 반복해라\n",
    "print(num_list)"
   ]
  },
  {
   "cell_type": "markdown",
   "id": "8b8ce2db-5ce3-4e86-bf3b-47ee2ee5d055",
   "metadata": {},
   "source": [
    "- 리스트에서 append와 extend"
   ]
  },
  {
   "cell_type": "code",
   "execution_count": 7,
   "id": "f97afccb-345a-45d8-ba8e-126a82b6781a",
   "metadata": {
    "tags": []
   },
   "outputs": [
    {
     "name": "stdout",
     "output_type": "stream",
     "text": [
      "[1, 2, 3, 1, 2, 3]\n"
     ]
    }
   ],
   "source": [
    "num_list = [1,2,3]\n",
    "l = [1,2,3]\n",
    "# num_list.append(l) # [1, 2, 3, [1, 2, 3]]\n",
    "num_list.extend(l)   # [1, 2, 3, 1, 2, 3]\n",
    "print(num_list)"
   ]
  },
  {
   "cell_type": "markdown",
   "id": "025bf19d-85ec-4c45-b42b-8352428088dc",
   "metadata": {},
   "source": [
    "* np.array 에서 사칙연산"
   ]
  },
  {
   "cell_type": "code",
   "execution_count": 10,
   "id": "84ada667-eb0c-475a-aa37-1c7b15fc06b1",
   "metadata": {
    "tags": []
   },
   "outputs": [
    {
     "name": "stdout",
     "output_type": "stream",
     "text": [
      "[4 5 6]\n",
      "[12 15 18]\n"
     ]
    }
   ],
   "source": [
    "num_arr = np.arange(1,4)  #( 1  2  3 )\n",
    "num_arr += 3 \n",
    "print(num_arr)\n",
    "num_arr *= 3  \n",
    "print(num_arr)"
   ]
  },
  {
   "cell_type": "code",
   "execution_count": 17,
   "id": "be6ac6fc-7172-4590-8479-1fafba1d126e",
   "metadata": {
    "tags": []
   },
   "outputs": [
    {
     "name": "stdout",
     "output_type": "stream",
     "text": [
      "[[1 2 3]\n",
      " [1 2 3]]\n",
      "[1 2 3 1 2 3]\n"
     ]
    }
   ],
   "source": [
    "num_arr = np.arange(1,4)  #( 1  2  3 )\n",
    "l = [1,2,3]\n",
    "v_s = np.vstack([num_arr,l])\n",
    "h_s = np.hstack([num_arr,l])  \n",
    "print(v_s)\n",
    "print(h_s)"
   ]
  }
 ],
 "metadata": {
  "kernelspec": {
   "display_name": "Python 3 (ipykernel)",
   "language": "python",
   "name": "python3"
  },
  "language_info": {
   "codemirror_mode": {
    "name": "ipython",
    "version": 3
   },
   "file_extension": ".py",
   "mimetype": "text/x-python",
   "name": "python",
   "nbconvert_exporter": "python",
   "pygments_lexer": "ipython3",
   "version": "3.8.8"
  }
 },
 "nbformat": 4,
 "nbformat_minor": 5
}
