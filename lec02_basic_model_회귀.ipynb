{
 "cells": [
  {
   "cell_type": "markdown",
   "id": "dee4ff0b-ed59-493b-bc2b-61a5a5c24612",
   "metadata": {},
   "source": [
    "- <font size = 6><b>Lec01. 딥러닝 기초"
   ]
  },
  {
   "cell_type": "code",
   "execution_count": 1,
   "id": "af505ac2-912b-4d3a-b2c9-b188a27a2d02",
   "metadata": {
    "tags": []
   },
   "outputs": [
    {
     "data": {
      "text/html": [
       "<style>.container{width:100% !important;}</style>"
      ],
      "text/plain": [
       "<IPython.core.display.HTML object>"
      ]
     },
     "metadata": {},
     "output_type": "display_data"
    }
   ],
   "source": [
    "import numpy as np\n",
    "import pandas as pd\n",
    "\n",
    "import matplotlib.pyplot as plt\n",
    "import seaborn as sns\n",
    "\n",
    "sns.set()\n",
    "\n",
    "#-------------------- 차트 관련 속성 (한글처리, 그리드) -----------\n",
    "plt.rcParams['font.family']= 'Malgun Gothic'\n",
    "plt.rcParams['axes.unicode_minus'] = False\n",
    "\n",
    "#-------------------- 주피터 , 출력결과 넓이 늘리기 ---------------\n",
    "# from IPython.core.display import display, HTML\n",
    "from IPython.display import display, HTML\n",
    "\n",
    "display(HTML(\"<style>.container{width:100% !important;}</style>\"))\n",
    "pd.set_option('display.max_rows', 100)\n",
    "pd.set_option('display.max_columns', 100)\n",
    "pd.set_option('max_colwidth', None)\n",
    "\n",
    "import warnings\n",
    "warnings.filterwarnings(action='ignore')"
   ]
  },
  {
   "cell_type": "code",
   "execution_count": 2,
   "id": "e78bfb45-2c53-48c8-9d68-de3f8a7a3931",
   "metadata": {
    "tags": []
   },
   "outputs": [],
   "source": [
    "from sklearn.model_selection import train_test_split, cross_val_score, cross_validate, GridSearchCV, KFold, StratifiedKFold\n",
    "from sklearn.metrics import auc, mean_squared_error, mean_squared_log_error, accuracy_score, f1_score, precision_score, recall_score, classification_report, confusion_matrix\n",
    "from sklearn.preprocessing import RobustScaler, MinMaxScaler, StandardScaler, label_binarize\n",
    "from sklearn.linear_model import Ridge\n",
    "\n",
    "from keras import models, layers, Sequential\n",
    "from keras.layers import Dense, Activation\n",
    "from keras.initializers import GlorotNormal"
   ]
  },
  {
   "cell_type": "code",
   "execution_count": 3,
   "id": "33ea783f-a362-4b09-9d96-c0d25d255657",
   "metadata": {
    "tags": []
   },
   "outputs": [
    {
     "data": {
      "text/html": [
       "<div>\n",
       "<style scoped>\n",
       "    .dataframe tbody tr th:only-of-type {\n",
       "        vertical-align: middle;\n",
       "    }\n",
       "\n",
       "    .dataframe tbody tr th {\n",
       "        vertical-align: top;\n",
       "    }\n",
       "\n",
       "    .dataframe thead th {\n",
       "        text-align: right;\n",
       "    }\n",
       "</style>\n",
       "<table border=\"1\" class=\"dataframe\">\n",
       "  <thead>\n",
       "    <tr style=\"text-align: right;\">\n",
       "      <th></th>\n",
       "      <th>CRIM</th>\n",
       "      <th>ZN</th>\n",
       "      <th>INDUS</th>\n",
       "      <th>CHAS</th>\n",
       "      <th>NOX</th>\n",
       "      <th>RM</th>\n",
       "      <th>AGE</th>\n",
       "      <th>DIS</th>\n",
       "      <th>RAD</th>\n",
       "      <th>TAX</th>\n",
       "      <th>PTRATIO</th>\n",
       "      <th>B</th>\n",
       "      <th>LSTAT</th>\n",
       "      <th>MEDV</th>\n",
       "    </tr>\n",
       "  </thead>\n",
       "  <tbody>\n",
       "    <tr>\n",
       "      <th>0</th>\n",
       "      <td>0.00632</td>\n",
       "      <td>18.0</td>\n",
       "      <td>2.31</td>\n",
       "      <td>0.0</td>\n",
       "      <td>0.538</td>\n",
       "      <td>6.575</td>\n",
       "      <td>65.2</td>\n",
       "      <td>4.0900</td>\n",
       "      <td>1.0</td>\n",
       "      <td>296.0</td>\n",
       "      <td>15.3</td>\n",
       "      <td>396.90</td>\n",
       "      <td>4.98</td>\n",
       "      <td>24.0</td>\n",
       "    </tr>\n",
       "    <tr>\n",
       "      <th>1</th>\n",
       "      <td>0.02731</td>\n",
       "      <td>0.0</td>\n",
       "      <td>7.07</td>\n",
       "      <td>0.0</td>\n",
       "      <td>0.469</td>\n",
       "      <td>6.421</td>\n",
       "      <td>78.9</td>\n",
       "      <td>4.9671</td>\n",
       "      <td>2.0</td>\n",
       "      <td>242.0</td>\n",
       "      <td>17.8</td>\n",
       "      <td>396.90</td>\n",
       "      <td>9.14</td>\n",
       "      <td>21.6</td>\n",
       "    </tr>\n",
       "    <tr>\n",
       "      <th>2</th>\n",
       "      <td>0.02729</td>\n",
       "      <td>0.0</td>\n",
       "      <td>7.07</td>\n",
       "      <td>0.0</td>\n",
       "      <td>0.469</td>\n",
       "      <td>7.185</td>\n",
       "      <td>61.1</td>\n",
       "      <td>4.9671</td>\n",
       "      <td>2.0</td>\n",
       "      <td>242.0</td>\n",
       "      <td>17.8</td>\n",
       "      <td>392.83</td>\n",
       "      <td>4.03</td>\n",
       "      <td>34.7</td>\n",
       "    </tr>\n",
       "    <tr>\n",
       "      <th>3</th>\n",
       "      <td>0.03237</td>\n",
       "      <td>0.0</td>\n",
       "      <td>2.18</td>\n",
       "      <td>0.0</td>\n",
       "      <td>0.458</td>\n",
       "      <td>6.998</td>\n",
       "      <td>45.8</td>\n",
       "      <td>6.0622</td>\n",
       "      <td>3.0</td>\n",
       "      <td>222.0</td>\n",
       "      <td>18.7</td>\n",
       "      <td>394.63</td>\n",
       "      <td>2.94</td>\n",
       "      <td>33.4</td>\n",
       "    </tr>\n",
       "    <tr>\n",
       "      <th>4</th>\n",
       "      <td>0.06905</td>\n",
       "      <td>0.0</td>\n",
       "      <td>2.18</td>\n",
       "      <td>0.0</td>\n",
       "      <td>0.458</td>\n",
       "      <td>7.147</td>\n",
       "      <td>54.2</td>\n",
       "      <td>6.0622</td>\n",
       "      <td>3.0</td>\n",
       "      <td>222.0</td>\n",
       "      <td>18.7</td>\n",
       "      <td>396.90</td>\n",
       "      <td>5.33</td>\n",
       "      <td>36.2</td>\n",
       "    </tr>\n",
       "  </tbody>\n",
       "</table>\n",
       "</div>"
      ],
      "text/plain": [
       "      CRIM    ZN  INDUS  CHAS    NOX     RM   AGE     DIS  RAD    TAX  \\\n",
       "0  0.00632  18.0   2.31   0.0  0.538  6.575  65.2  4.0900  1.0  296.0   \n",
       "1  0.02731   0.0   7.07   0.0  0.469  6.421  78.9  4.9671  2.0  242.0   \n",
       "2  0.02729   0.0   7.07   0.0  0.469  7.185  61.1  4.9671  2.0  242.0   \n",
       "3  0.03237   0.0   2.18   0.0  0.458  6.998  45.8  6.0622  3.0  222.0   \n",
       "4  0.06905   0.0   2.18   0.0  0.458  7.147  54.2  6.0622  3.0  222.0   \n",
       "\n",
       "   PTRATIO       B  LSTAT  MEDV  \n",
       "0     15.3  396.90   4.98  24.0  \n",
       "1     17.8  396.90   9.14  21.6  \n",
       "2     17.8  392.83   4.03  34.7  \n",
       "3     18.7  394.63   2.94  33.4  \n",
       "4     18.7  396.90   5.33  36.2  "
      ]
     },
     "execution_count": 3,
     "metadata": {},
     "output_type": "execute_result"
    }
   ],
   "source": [
    "df = pd.read_csv('../ML/datasets/boston.csv')\n",
    "df.head()"
   ]
  },
  {
   "cell_type": "code",
   "execution_count": 4,
   "id": "65fffc62-7400-43ec-bb13-03afb119fd81",
   "metadata": {
    "tags": []
   },
   "outputs": [
    {
     "name": "stdout",
     "output_type": "stream",
     "text": [
      "<class 'pandas.core.frame.DataFrame'>\n",
      "RangeIndex: 506 entries, 0 to 505\n",
      "Data columns (total 14 columns):\n",
      " #   Column   Non-Null Count  Dtype  \n",
      "---  ------   --------------  -----  \n",
      " 0   CRIM     506 non-null    float64\n",
      " 1   ZN       506 non-null    float64\n",
      " 2   INDUS    506 non-null    float64\n",
      " 3   CHAS     506 non-null    float64\n",
      " 4   NOX      506 non-null    float64\n",
      " 5   RM       506 non-null    float64\n",
      " 6   AGE      506 non-null    float64\n",
      " 7   DIS      506 non-null    float64\n",
      " 8   RAD      506 non-null    float64\n",
      " 9   TAX      506 non-null    float64\n",
      " 10  PTRATIO  506 non-null    float64\n",
      " 11  B        506 non-null    float64\n",
      " 12  LSTAT    506 non-null    float64\n",
      " 13  MEDV     506 non-null    float64\n",
      "dtypes: float64(14)\n",
      "memory usage: 55.5 KB\n"
     ]
    }
   ],
   "source": [
    "df.info()"
   ]
  },
  {
   "cell_type": "markdown",
   "id": "e814e32d-e347-4317-baa2-348334f0e851",
   "metadata": {},
   "source": [
    "# ML"
   ]
  },
  {
   "cell_type": "markdown",
   "id": "ee9e3476-fe98-4e70-b54e-e1e47dc1ece5",
   "metadata": {},
   "source": [
    "## 점수 보기  : 4.81322"
   ]
  },
  {
   "cell_type": "code",
   "execution_count": 5,
   "id": "18520a4b-e40d-4b57-889d-99c5cc6e94b7",
   "metadata": {
    "tags": []
   },
   "outputs": [
    {
     "name": "stdout",
     "output_type": "stream",
     "text": [
      "rmse : 4.81322\n"
     ]
    }
   ],
   "source": [
    "X = df.drop('MEDV', axis =1)\n",
    "y = df['MEDV']\n",
    "model = Ridge(alpha = 1.0,random_state=1)\n",
    "X_train,X_test, y_train, y_test = train_test_split(X,y,test_size = 0.2, random_state = 1)\n",
    "\n",
    "model.fit(X_train,y_train)\n",
    "test_pred = model.predict(X_test)\n",
    "rmse = mean_squared_error(y_test, test_pred, squared=False)\n",
    "print(f'rmse : {rmse:.5f}')"
   ]
  },
  {
   "cell_type": "markdown",
   "id": "354c307e-b6af-448e-b345-154766db9a5c",
   "metadata": {},
   "source": [
    "# DL"
   ]
  },
  {
   "cell_type": "code",
   "execution_count": 6,
   "id": "a99860a7-fd83-4b68-9505-1625ac2744e6",
   "metadata": {
    "tags": []
   },
   "outputs": [],
   "source": [
    "from keras.models import Sequential\n",
    "from keras.layers import Dense"
   ]
  },
  {
   "cell_type": "markdown",
   "id": "95c8c77e-6602-48e5-97c1-e54a57561bb9",
   "metadata": {},
   "source": [
    "## seed 고정"
   ]
  },
  {
   "cell_type": "code",
   "execution_count": 7,
   "id": "408946fa-b402-4bcb-b885-c28ca0942ac1",
   "metadata": {
    "tags": []
   },
   "outputs": [],
   "source": [
    "import tensorflow as tf\n",
    "tf.random.set_seed(1234)\n",
    "np.random.seed(1234)"
   ]
  },
  {
   "cell_type": "markdown",
   "id": "abca9336-eb2a-4bee-9f4e-0288555ca5b9",
   "metadata": {},
   "source": [
    "## <b>Activation Function\n",
    "* <b>활성화함수</b> ( ref : https://keras.io/api/layers/activations/)\n",
    "    <pre>\n",
    "    # from tensorflow.keras import activations as act\n",
    "    # act.relu\n",
    "\n",
    "    from keras import activations as act\n",
    "    act.relu()\n",
    "    act.sigmoid()\n",
    "    act.softmax()\n",
    "    act.tanh()</pre>\n",
    "\n",
    "    - ReLu : 기울기 소실 문제 완화(역전파시 w 소실 문제를 완화) \n",
    "    - Sigmoid\n",
    "    - Softmax\n",
    "    - Tanh Function \n",
    "\n",
    "------    \n"
   ]
  },
  {
   "cell_type": "markdown",
   "id": "f716fc6a-97f6-46c7-bec9-7cf82f1f74cf",
   "metadata": {
    "tags": []
   },
   "source": [
    "## <b> Losses (loss function)\n",
    "* ref : https://keras.io/api/losses/\n",
    "    * <font color=blue>binary_crossentropy(원본값 둘중하나) : 0,1\n",
    "    * <font color=blue>sparse_crossentropy(원본값 n중 하나) : 0 ~ 9         \n",
    "    * <font color=blue>categorical_crossentropy(원핫인코딩) : 100000000 ~ 000000001  </font>\n",
    "* <b>Aliases</b>\n",
    "    * bce = BCE = binary_cross_entropy  \n",
    "    * mse = MSE = mean_squared_error  \n",
    "    * mae = MAE = mean_absolute_error  \n",
    "    * mape = MAPE = mean_absolute_percentage_error  \n",
    "    * msle = MSLE = mean_squared_logarithmic_error  \n",
    "    * kld = KLD = kullback_leibler_divergence = kl_divergence  \n",
    "    * logcosh = log_cosh  \n",
    "    * huber_loss = huber\n",
    "* Probabilistic losses\n",
    "    * categorical_cross_entropy\n",
    "    * binary_cross_entropy\n",
    "    * sparse_categorical_cross_entropy\n",
    "* Regression losses\n",
    "    * mse,mae,rmse\n",
    "* Hinge losses for \"maximum-margin\" classification\n",
    "    * Hinge class ...\n",
    "\n",
    "<pre>        \n",
    "    from keras import losses as loss  \n",
    "    loss.binary_crossentropy()  \n",
    "    loss.categorical_crossentropy()  \n",
    "    loss.sparse_categorical_crossentropy()  \n",
    "    loss.cosine_similarity()  \n",
    "    loss.mean_squared_error()  \n",
    "    <font color=blue><b>\n",
    "    loss.MSE  -- V  \n",
    "    loss.mse  -- v  \n",
    "    loss.mean_squared_error() --f  \n",
    "    \n",
    "        model.compile(loss=\"mean_squared_error\")  \n",
    "        model.compile(loss=\"mse\")  \n",
    "        model.compile(loss=\"MSE\")  \n",
    "        model.compile(loss=keras.losses.mean_squared_error())</b></font>\n",
    "    \n",
    "</pre>"
   ]
  },
  {
   "cell_type": "markdown",
   "id": "71b96b69-50dc-440a-b85f-a7b95cd0ca9a",
   "metadata": {
    "tags": []
   },
   "source": [
    "## <b> Optimazer\n",
    "*  https://keras.io/api/optimizers/\n",
    "    * Gradient Descent\n",
    "    * Statistic Gradient Descent\n",
    "    * Momentum\n",
    "    * AdaGrade\n",
    "    * Adam\n",
    "    * RmsProp\n",
    "    \n",
    "<pre>\n",
    "    from keras import optimizers as opt  \n",
    "    opt.Adam()  \n",
    "    opt.Adadelta()  \n",
    "    opt.Adagrad()  \n",
    "    opt.Optimizer()  \n",
    "    opt.RMSprop()  \n",
    "    opt.SGD()  \n",
    "    opt.TFOptimizer()\n",
    "    \n",
    "    from keras.optimizers import Adam  \n",
    "    a = Adam(learning_rate=0.001, ... , name=\"Adam\")  \n",
    "    \n",
    "    <font color=blue><b>\n",
    "    model.compile(optimizer='adam')\n",
    "    model.compile(optimizer=keras.optimizers,Adam(learning_rate=0.001)) \n"
   ]
  },
  {
   "cell_type": "markdown",
   "id": "38e90efb-cc5d-4f23-9bb8-315780310aaf",
   "metadata": {},
   "source": [
    "## <b> metrics\n",
    "* ref : https://keras.io/api/metrics/)\n",
    "    * Probabilistic metrics : Crossentropy ...\n",
    "    * Regression metrics : MeanSquaredError ... \n",
    "    * Hinge metrics for \"maximum-margin\" classification<br><br>\n",
    "    * Accuracy metrics : Accuracy ...\n",
    "    * Classification metrics based on True/False : AUC, Precision ...\n",
    "    * Image segmentation metrics\n",
    "    \n",
    "<pre>\n",
    "    from keras.metrics import Accuracy\n",
    "    acc = Accuracy(name=\"accuracy\", dtype=None)\n",
    "\n",
    "    from keras.metrics import BinaryCrossentropy\n",
    "    cr = BinaryCrossentropy(name=\"binary_crossentropy\", ...)\n",
    "    \n",
    "    <font color=blue><b>\n",
    "    model.compile(metrics=[keras.metrics.Accuracy()])\n",
    "    model.compile(metrics=['accuracy'])"
   ]
  },
  {
   "cell_type": "markdown",
   "id": "ca0ce14a-8107-4d3f-a650-6bc7f67aa410",
   "metadata": {},
   "source": [
    "## 사용자 정의 metrics"
   ]
  },
  {
   "cell_type": "code",
   "execution_count": 8,
   "id": "a707258b-cf4f-40e9-8b73-cc6675c38323",
   "metadata": {},
   "outputs": [],
   "source": [
    "import tensorflow as tf\n",
    "from keras.optimizers import Adam  \n",
    "from keras.losses import MeanSquaredError\n",
    "\n",
    "# Annotation 어노테이션 : 실행할때 특수한 기호라고 알려주는 역할 ==================\n",
    "@tf.function\n",
    "def my_mse_def(y_true, y_pred):\n",
    "    return -1 * keras.losses.MSE(y_true, y_pred)\n",
    "# tf(tensor flow)에서 사용자 정의 함수 사용 가능함 ==============================\n",
    "\n",
    "model = Sequential()\n",
    "model.add(Dense(units=56, input_dim=len(X_train.columns), activation='relu'))\n",
    "model.add(Dense(units=24 , activation='relu'))\n",
    "model.add(Dense(units=26 , activation='relu'))\n",
    "model.add(Dense(units=12 , activation='relu'))\n",
    "model.add(Dense(units=8  , activation='relu'))\n",
    "model.add(Dense(units=4  , activation='relu'))\n",
    "model.add(Dense(units=1  ))\n",
    "\n",
    "model.compile(loss=my_mse_def,\n",
    "              optimizer=Adam(lr=0.001),\n",
    "              metrics=[tf.keras.losses.MeanSquaredError()]) # metrics 여러개 사용 가능\n"
   ]
  },
  {
   "cell_type": "markdown",
   "id": "07806fa1-4caa-4579-8583-d2aab8497d93",
   "metadata": {},
   "source": [
    "## 모델 학습\n",
    "- ref : https://neptune.ai/blog/keras-metrics\n",
    "\n",
    "    \n",
    "- <b><font size = 4> Model.fit( \n",
    " <pre><b>\n",
    "    x=None,  : 문제지\n",
    "    y=None,  : 답안지\n",
    "    batch_size=None,   : 역전파 횟수 (size 풀고 답 확인)\n",
    "    --------------------------------------------------------------------------------------\n",
    "    epochs= 1,               : 학습 반복 횟수 , 기본값 : 1\n",
    "    initial_epoch=0,         : 학습 반복 횟수 시작 -> 거의 손대지 않음\n",
    "    steps_per_epoch=None,    : sample 수 / batch_size -> batch_size의 그룹수(최대한 답을 맞출 수 있는 횟수)  \n",
    "    -------------------------------------------------------------------------------------\n",
    "    callbacks=None,    : ★\n",
    "    \n",
    "    ================================< validation >========================================\n",
    "    -----------------------둘중에  하나 사용-----------------------------------------------\n",
    "    validation_split=0.0,     : 0.2 하면 validation에 사용하는 데이터가 전체데이터*0.2\n",
    "    validation_data=None,     : 미리 train_test_split한 데이터셋 직접 넣기 \n",
    "    </b>\n",
    "    -------------------------------------------------------------------------------------\n",
    "    validation_steps=None,\n",
    "    validation_batch_size=None,\n",
    "    validation_freq=1,\n",
    "    -------------------------------------------------------------------------------------\n",
    "    =====================================================================================\n",
    "\n",
    "\n",
    "    shuffle=True,       : 섞을까 말까\n",
    "    \n",
    "    ---------------------- 가중치 --------------------------------------------------------\n",
    "    class_weight=None,  : 가중치 조정 \n",
    "    sample_weight=None,\n",
    "    -------------------------------------------------------------------------------------\n",
    "    \n",
    "    max_queue_size=10,\n",
    "    workers=1,\n",
    "    use_multiprocessing=False,\n",
    "    verbose=\"auto\",    : 로그 관련\n",
    ")\n",
    "\n",
    "\n",
    "\n",
    "\n",
    "- <b>batch_size</b> : 역전파 횟수 \n",
    "    - 해당 size 만큼 실행하면 중간에 답을 확인해 본 후 w 보정\n",
    "    - batch_size 만큼 역전파가 일어난다\n",
    "    - 장점 : 정답률이 올라간다 (틀렸는지 맞았는지 확인해보고 비슷한 유형이 나오면 정답을 맞출 확률이 올라감)\n",
    "    - 단점 : 시간이 증가한다\n",
    "    \n",
    "- <b>epochs</b> : 이 문제를 몇번 반복해서 풀어볼지\n",
    "    - epochs = 10 이면 같은 문제를 10번 풀어보는 느낌\n",
    "    \n",
    "- <b>step_per_epochs</b> : 클수록 정답률이 높아짐, 클수록 시간이 오래걸림\n",
    "    - <font size = 4> $ \\frac{samples 수}{batch size} $ </font> ->답 맞춰보는 횟수 \n",
    "<br>    \n"
   ]
  },
  {
   "cell_type": "code",
   "execution_count": 9,
   "id": "81d89ccf-3289-40a2-9d9b-bb88e8ec123d",
   "metadata": {
    "tags": []
   },
   "outputs": [],
   "source": [
    "# def recall(y_true, y_pred):\n",
    "#     y_true = K.ones_like(y_true)\n",
    "#     true_positives = K.sum(K.round(K.clip(y_true * y_pred, 0, 1)))\n",
    "#     all_positives = K.sum(K.round(K.clip(y_true, 0, 1)))\n",
    "\n",
    "#     recall = true_positives / (all_positives + K.epsilon())\n",
    "#     return recall\n",
    "\n",
    "# def precision(y_true, y_pred):\n",
    "#     y_true = K.ones_like(y_true)\n",
    "#     true_positives = K.sum(K.round(K.clip(y_true * y_pred, 0, 1)))\n",
    "\n",
    "#     predicted_positives = K.sum(K.round(K.clip(y_pred, 0, 1)))\n",
    "#     precision = true_positives / (predicted_positives + K.epsilon())\n",
    "#     return precision\n",
    "\n",
    "# def f1_score(y_true, y_pred):\n",
    "#     precision = precision_m(y_true, y_pred)\n",
    "#     recall = recall_m(y_true, y_pred)\n",
    "#     return 2*((precision*recall)/(precision+recall+K.epsilon()))\n",
    "\n",
    "\n",
    "# model.compile(loss='categorical_cross_entropy',\n",
    "#               optimizer=Adam(lr=0.001),\n",
    "#               metrics=['accuracy',recall,precision, f1_score ])\n",
    "\n",
    "# fit_history = model.fit(X_train,y_train, \n",
    "#                         validation_data = (X_test,y_test),\n",
    "#                         epochs = 100,\n",
    "#                         batch_size = 32  # batch_size : 기본 32 -> 32 row 하고 중간에 답을 확인해 봄  \n",
    "#                         # step_per_epochs =  # samples수 / batch_size ->답 맞춰보는 횟수\n",
    "#                        )"
   ]
  },
  {
   "cell_type": "markdown",
   "id": "8cd8c5ab-894d-495d-a62f-65caf7998853",
   "metadata": {
    "tags": []
   },
   "source": [
    "## Sequential\n",
    "* from keras.models import Sequential\n",
    "* from keras.layers import Dense"
   ]
  },
  {
   "cell_type": "code",
   "execution_count": 10,
   "id": "a5f07bc2-0939-4f37-bb62-7c2df6684529",
   "metadata": {
    "tags": []
   },
   "outputs": [],
   "source": [
    "model = Sequential()\n",
    "# 입력층 =====================================================================\n",
    "model.add(Dense(units=56, input_dim=len(X_train.columns), activation='relu'))\n",
    "# 은닉층 =====================================================================\n",
    "model.add(Dense(units=24 , activation='relu'))\n",
    "model.add(Dense(units=26 , activation='relu'))\n",
    "model.add(Dense(units=12 , activation='relu'))\n",
    "model.add(Dense(units=8  , activation='relu'))\n",
    "model.add(Dense(units=4  , activation='relu'))\n",
    "# 출력층 =====================================================================\n",
    "model.add(Dense(units=1  ))  #-----------------회귀 : y^ = wx+b\n",
    "model.compile(loss=\"mean_squared_error\", optimizer=\"adam\", metrics=\"mse\") #----------l o m"
   ]
  },
  {
   "cell_type": "code",
   "execution_count": 11,
   "id": "68c274b1-f8f8-4854-842b-711d97abc698",
   "metadata": {
    "tags": []
   },
   "outputs": [
    {
     "name": "stdout",
     "output_type": "stream",
     "text": [
      "Model: \"sequential_1\"\n",
      "_________________________________________________________________\n",
      " Layer (type)                Output Shape              Param #   \n",
      "=================================================================\n",
      " dense_7 (Dense)             (None, 56)                784       \n",
      "                                                                 \n",
      " dense_8 (Dense)             (None, 24)                1368      \n",
      "                                                                 \n",
      " dense_9 (Dense)             (None, 26)                650       \n",
      "                                                                 \n",
      " dense_10 (Dense)            (None, 12)                324       \n",
      "                                                                 \n",
      " dense_11 (Dense)            (None, 8)                 104       \n",
      "                                                                 \n",
      " dense_12 (Dense)            (None, 4)                 36        \n",
      "                                                                 \n",
      " dense_13 (Dense)            (None, 1)                 5         \n",
      "                                                                 \n",
      "=================================================================\n",
      "Total params: 3,271\n",
      "Trainable params: 3,271\n",
      "Non-trainable params: 0\n",
      "_________________________________________________________________\n"
     ]
    }
   ],
   "source": [
    "model.summary()"
   ]
  },
  {
   "cell_type": "markdown",
   "id": "c11e32cd-1f72-4085-be32-982e209106ad",
   "metadata": {},
   "source": [
    "### hidden layer 확인"
   ]
  },
  {
   "cell_type": "markdown",
   "id": "674a76f9-e537-428f-8d5c-839b8fa8efc1",
   "metadata": {},
   "source": [
    "- 인덱스로 확인"
   ]
  },
  {
   "cell_type": "code",
   "execution_count": 12,
   "id": "c893ee86-328b-4629-acb0-f36ec491b0f4",
   "metadata": {
    "tags": []
   },
   "outputs": [
    {
     "data": {
      "text/plain": [
       "<KerasTensor: shape=(None, 56) dtype=float32 (created by layer 'dense_7')>"
      ]
     },
     "execution_count": 12,
     "metadata": {},
     "output_type": "execute_result"
    }
   ],
   "source": [
    "model.layers[0].output"
   ]
  },
  {
   "cell_type": "markdown",
   "id": "8faf5ab8-546c-422c-8d98-548aa38d5fce",
   "metadata": {},
   "source": [
    "- 이름으로 확인"
   ]
  },
  {
   "cell_type": "code",
   "execution_count": 13,
   "id": "2e8e6a20-489a-4f1f-b259-5e9d26003593",
   "metadata": {
    "tags": []
   },
   "outputs": [
    {
     "data": {
      "text/plain": [
       "<KerasTensor: shape=(None, 12) dtype=float32 (created by layer 'dense_10')>"
      ]
     },
     "execution_count": 13,
     "metadata": {},
     "output_type": "execute_result"
    }
   ],
   "source": [
    "model.get_layer('dense_10').output"
   ]
  },
  {
   "cell_type": "markdown",
   "id": "4e31d701-8ecc-4b9b-a899-a2b8fcbb0a83",
   "metadata": {},
   "source": [
    "- 입력층 확인"
   ]
  },
  {
   "cell_type": "code",
   "execution_count": 14,
   "id": "4296acf5-449f-433c-a54b-6ddbddbcce71",
   "metadata": {
    "tags": []
   },
   "outputs": [
    {
     "data": {
      "text/plain": [
       "<KerasTensor: shape=(None, 13) dtype=float32 (created by layer 'dense_7_input')>"
      ]
     },
     "execution_count": 14,
     "metadata": {},
     "output_type": "execute_result"
    }
   ],
   "source": [
    "model.input"
   ]
  },
  {
   "cell_type": "markdown",
   "id": "eb7039e0-44c7-4e95-b822-92c56d136003",
   "metadata": {},
   "source": [
    "- 출력층 확인"
   ]
  },
  {
   "cell_type": "code",
   "execution_count": 15,
   "id": "719ee479-0ef6-479e-b4ba-4675d909299c",
   "metadata": {
    "tags": []
   },
   "outputs": [
    {
     "data": {
      "text/plain": [
       "<KerasTensor: shape=(None, 1) dtype=float32 (created by layer 'dense_13')>"
      ]
     },
     "execution_count": 15,
     "metadata": {},
     "output_type": "execute_result"
    }
   ],
   "source": [
    "model.output"
   ]
  },
  {
   "cell_type": "markdown",
   "id": "2f8b7560-7def-4192-a64c-b05d8012864f",
   "metadata": {},
   "source": [
    "---"
   ]
  },
  {
   "cell_type": "markdown",
   "id": "9ce3a84d-ee8a-4362-bf00-b71b17862f10",
   "metadata": {},
   "source": [
    "- ref : https://keras.io/api/models/model/"
   ]
  },
  {
   "cell_type": "code",
   "execution_count": 16,
   "id": "8934d89f-de96-4437-a7a1-7ce2955e6e95",
   "metadata": {
    "tags": []
   },
   "outputs": [
    {
     "name": "stdout",
     "output_type": "stream",
     "text": [
      "input :       CRIM   ZN  INDUS  CHAS    NOX     RM  AGE     DIS  RAD    TAX  PTRATIO  \\\n",
      "42  0.1415  0.0   6.91   0.0  0.448  6.169  6.6  5.7209  3.0  233.0     17.9   \n",
      "\n",
      "         B  LSTAT  \n",
      "42  383.37   5.81  \n",
      "output : [[ 89.035934  14.681082  67.65521    0.         0.        92.32366\n",
      "   64.533844   0.         0.       127.41639    0.        58.860233\n",
      "   71.52345    0.        21.223928 147.23042   68.11703    0.\n",
      "  120.36875    0.        15.251628  72.487434   0.        56.307774\n",
      "  112.20273    0.        53.10632    0.         8.976669  53.98573\n",
      "    0.         0.         0.         0.        38.669342  41.02069\n",
      "    0.       120.23482  153.13158    0.         0.        17.726324\n",
      "   86.22569   30.936403  33.326317 116.4024     0.        25.723976\n",
      "    0.         0.        94.535545   0.        39.012253  65.14837\n",
      "    0.        45.310287]]\n",
      "hidden_layer1_model weight의 (피쳐갯수,weight갯수) : (13, 56)\n",
      "hidden_layer1_model weight : [array([[-0.03132659, -0.24901633, -0.06651428, -0.17386478, -0.10424101,\n",
      "         0.0416007 ,  0.05713451,  0.06030872, -0.05636325, -0.26335162,\n",
      "         0.22243172, -0.06745897,  0.29258364, -0.03198814, -0.24414998,\n",
      "        -0.19510302, -0.28120592,  0.10828543, -0.17639649, -0.22285336,\n",
      "         0.24262148, -0.24388528,  0.20534885, -0.197588  , -0.08909883,\n",
      "         0.12878266, -0.18196893, -0.04900005,  0.18996081,  0.03792626,\n",
      "         0.26391852,  0.16621494, -0.18134053, -0.18733656, -0.14219482,\n",
      "        -0.04643832,  0.24423659,  0.2617898 , -0.08246027,  0.2150495 ,\n",
      "        -0.07094839,  0.2943192 , -0.27665102, -0.0039182 , -0.16096205,\n",
      "         0.22295052,  0.07910338,  0.05913106,  0.00354567,  0.12614584,\n",
      "        -0.21911737, -0.14145774,  0.23069543,  0.26597434, -0.14132471,\n",
      "         0.09599745],\n",
      "       [-0.21369252,  0.22861254, -0.0964905 , -0.18127719,  0.18175358,\n",
      "         0.21822101,  0.23479009,  0.03349474, -0.1720435 , -0.1415511 ,\n",
      "         0.01332021,  0.19199517, -0.26380348,  0.02717137, -0.07980637,\n",
      "         0.26187587,  0.15772867,  0.15963924,  0.2254405 ,  0.20853525,\n",
      "        -0.157543  , -0.29172927, -0.12327905,  0.13220853, -0.1037114 ,\n",
      "         0.24449939, -0.0891531 , -0.04142806,  0.01351094, -0.08103594,\n",
      "         0.26290637, -0.00222334, -0.2563928 ,  0.08647114, -0.14966552,\n",
      "        -0.25627092,  0.18649274, -0.17378321, -0.19784552, -0.16617768,\n",
      "        -0.13212696,  0.10227364, -0.05666035, -0.04789555,  0.2428953 ,\n",
      "        -0.17406023,  0.22045362,  0.05552652, -0.26403922,  0.21191442,\n",
      "        -0.22499615, -0.09653823, -0.09324862, -0.21578419,  0.23667139,\n",
      "        -0.22155574],\n",
      "       [ 0.13326466,  0.06328344,  0.250255  ,  0.18304637, -0.11121161,\n",
      "        -0.11747797,  0.1157524 , -0.03440681,  0.18880758, -0.02768311,\n",
      "        -0.08125846,  0.0783653 , -0.11072539, -0.29386842,  0.24194169,\n",
      "        -0.18463513,  0.2769879 ,  0.02613676,  0.09568015,  0.01333216,\n",
      "        -0.19500074,  0.15410534,  0.24445671, -0.20422098, -0.03263834,\n",
      "        -0.01663372, -0.27949727,  0.12487751, -0.1709238 ,  0.22064954,\n",
      "        -0.09240256, -0.07180353,  0.03795022,  0.27579892, -0.10979369,\n",
      "         0.07151148, -0.13177972, -0.28966117,  0.12040052, -0.17281905,\n",
      "         0.12162617, -0.01262447, -0.05802879, -0.27346784, -0.17467764,\n",
      "        -0.29232618,  0.07919928, -0.167871  , -0.0974018 , -0.23792005,\n",
      "        -0.1741943 , -0.21459778,  0.28193223,  0.20176458,  0.19030106,\n",
      "         0.15246671],\n",
      "       [ 0.24328929, -0.19810487,  0.16875306,  0.12782776,  0.0806357 ,\n",
      "        -0.2390566 ,  0.00085506,  0.24548823,  0.24439484,  0.05259395,\n",
      "         0.11035994, -0.2632051 , -0.02129021,  0.2638278 , -0.11921374,\n",
      "        -0.26806927,  0.10370287,  0.04635191, -0.01575673, -0.1126311 ,\n",
      "         0.29425257, -0.17222032,  0.17969474, -0.0461947 ,  0.17894247,\n",
      "        -0.19894454, -0.27048612, -0.12286839, -0.01147932, -0.19764276,\n",
      "        -0.07311824, -0.04584916, -0.17759386, -0.2908922 , -0.23612492,\n",
      "        -0.24413992, -0.0256446 , -0.10982926,  0.13956097,  0.11222121,\n",
      "        -0.28962708,  0.14860713, -0.05352345,  0.04341722, -0.19080263,\n",
      "         0.20630342, -0.0388796 ,  0.15387246,  0.18981314, -0.12745479,\n",
      "         0.09505254, -0.08308114, -0.01775509,  0.16002649,  0.20495477,\n",
      "        -0.21141665],\n",
      "       [-0.11652322,  0.08953691,  0.01193526,  0.2077545 ,  0.1542458 ,\n",
      "        -0.21997806, -0.14103872,  0.22117043,  0.15213796, -0.21958745,\n",
      "         0.01371652,  0.16268066,  0.22094816, -0.00067887, -0.11912939,\n",
      "        -0.03690267, -0.01221725, -0.08316782,  0.12383276,  0.24669808,\n",
      "         0.08165118,  0.11206302, -0.04102075,  0.0089336 ,  0.05433372,\n",
      "        -0.1956529 , -0.26747042,  0.24163824,  0.04328138, -0.06988031,\n",
      "        -0.2483736 , -0.01539844, -0.08872254,  0.13672996, -0.1411278 ,\n",
      "        -0.06095639,  0.1590581 , -0.25836757,  0.06842899, -0.1144724 ,\n",
      "        -0.24269886, -0.00839689, -0.10794422,  0.23855281, -0.24733342,\n",
      "        -0.20853242, -0.12585948, -0.2189412 , -0.24438971,  0.19359806,\n",
      "         0.11306831, -0.02914816,  0.00903282, -0.12192686,  0.09045824,\n",
      "        -0.13826936],\n",
      "       [ 0.00189537,  0.06633013,  0.21618813,  0.1486167 , -0.12905699,\n",
      "         0.11104414, -0.01110536,  0.24344069,  0.1592586 , -0.21971238,\n",
      "        -0.02318123, -0.28861973, -0.1149952 , -0.24878271,  0.16255292,\n",
      "        -0.1774607 , -0.08318463,  0.19454607, -0.25683758,  0.2627908 ,\n",
      "         0.09423861, -0.19137576,  0.19469231, -0.09207198, -0.01097924,\n",
      "        -0.17693532, -0.0899993 ,  0.24954712, -0.11697191,  0.02916002,\n",
      "        -0.16029216, -0.03125739,  0.01382178,  0.04073188,  0.28682905,\n",
      "         0.2364254 ,  0.11021045, -0.08226131, -0.15030678,  0.0410704 ,\n",
      "        -0.13417552, -0.23072502, -0.11936505,  0.03254926, -0.16412123,\n",
      "        -0.03469092, -0.06001972,  0.01520559,  0.20570958,  0.1101048 ,\n",
      "        -0.22682866, -0.06925578, -0.06066695, -0.08685741,  0.07855287,\n",
      "         0.15881673],\n",
      "       [ 0.1136139 , -0.13609967, -0.08395757, -0.17236015, -0.02818158,\n",
      "        -0.22954634, -0.2754785 ,  0.01041237, -0.24273556, -0.23132417,\n",
      "         0.22448558, -0.07602905,  0.26393944, -0.043823  , -0.12407351,\n",
      "        -0.14133167,  0.08535069,  0.09496114,  0.20642686, -0.09014687,\n",
      "         0.22174114,  0.26032692, -0.01475522,  0.06056431, -0.19905879,\n",
      "         0.18934894,  0.09802821,  0.26283473, -0.21282677,  0.01123804,\n",
      "         0.17738092,  0.13421294,  0.00579551, -0.09307617, -0.11961858,\n",
      "         0.23482734, -0.1060847 , -0.2864825 ,  0.01340935,  0.22255492,\n",
      "         0.10348099, -0.29380977, -0.28357163,  0.12883046,  0.10841253,\n",
      "         0.12035474,  0.13592798, -0.07340235,  0.03082213, -0.18856889,\n",
      "         0.02635771, -0.2603019 ,  0.04891211,  0.26861858, -0.20452844,\n",
      "         0.13463518],\n",
      "       [ 0.02151948, -0.11174208, -0.2442998 , -0.22438216,  0.11393303,\n",
      "         0.02083352, -0.03201944, -0.06213704,  0.1260488 ,  0.26891547,\n",
      "         0.24216592, -0.15695454, -0.23711306,  0.20438108, -0.16551702,\n",
      "        -0.15943345,  0.16104725, -0.2534427 , -0.13962176, -0.15084033,\n",
      "         0.1799624 , -0.02042279, -0.2368819 , -0.109229  ,  0.29218018,\n",
      "        -0.16874869, -0.06608169,  0.1692982 , -0.18983734,  0.01821673,\n",
      "         0.14800924, -0.0179753 , -0.13976723,  0.05197167, -0.21302658,\n",
      "        -0.15597019,  0.17579094,  0.0614503 , -0.0103808 , -0.17518982,\n",
      "         0.11346456, -0.0916543 , -0.14728123,  0.21014482,  0.14503166,\n",
      "         0.14870831, -0.2555346 , -0.21501827,  0.02649671,  0.06415215,\n",
      "        -0.02963206, -0.11382812, -0.0120883 ,  0.12049478, -0.23408838,\n",
      "        -0.19221522],\n",
      "       [ 0.11138964,  0.12343997, -0.05589381, -0.17217827, -0.17971998,\n",
      "         0.261195  ,  0.04069433,  0.01971093, -0.21484855,  0.24215132,\n",
      "         0.17017794,  0.10743126, -0.0630731 , -0.0282566 ,  0.12074226,\n",
      "        -0.03810763, -0.11968888, -0.09463485,  0.08335766, -0.08790959,\n",
      "        -0.1470391 ,  0.17402837, -0.09540392,  0.11862487,  0.217897  ,\n",
      "         0.13629603, -0.05144881,  0.13251328, -0.01954296,  0.15906197,\n",
      "         0.06708559,  0.15475285,  0.24715805, -0.11119439, -0.24512033,\n",
      "        -0.27986285, -0.07234137, -0.20260459,  0.12560892,  0.18705231,\n",
      "         0.22267646,  0.2759431 ,  0.2529589 , -0.2718347 , -0.14160874,\n",
      "        -0.26203316, -0.21265762,  0.20484284,  0.20629382,  0.23974425,\n",
      "        -0.04817423,  0.01789746, -0.17380431, -0.21182069,  0.20048058,\n",
      "         0.19660264],\n",
      "       [-0.07673034,  0.10697907, -0.12386547, -0.19783372,  0.07145959,\n",
      "         0.06804499, -0.08030498, -0.09448643, -0.22728881,  0.08356836,\n",
      "        -0.18296832,  0.2264157 , -0.01451328,  0.14129132,  0.02241778,\n",
      "         0.15031597, -0.09884343,  0.1373634 ,  0.27800614, -0.1096414 ,\n",
      "        -0.16338949,  0.03626049,  0.1407179 ,  0.02398708,  0.13853034,\n",
      "        -0.12830724,  0.21780103,  0.04697692, -0.16545647,  0.13612327,\n",
      "        -0.24587485, -0.09288058, -0.20129767, -0.08092739, -0.26546818,\n",
      "        -0.13188462, -0.27812728,  0.12216562,  0.27443463, -0.24339762,\n",
      "         0.27878296,  0.22380722,  0.23801559, -0.27084994, -0.07665569,\n",
      "         0.22200996, -0.29167107,  0.21815306, -0.03589702,  0.27458435,\n",
      "         0.01772958, -0.02064875, -0.02769044, -0.05064794, -0.2683468 ,\n",
      "        -0.128313  ],\n",
      "       [-0.2750512 ,  0.15981886, -0.01036146,  0.12929341, -0.2904304 ,\n",
      "        -0.06372792, -0.10875246, -0.2885639 , -0.13094273,  0.18851712,\n",
      "         0.06727794, -0.08845468, -0.04909524,  0.24779576,  0.2551632 ,\n",
      "         0.29017913,  0.13876432,  0.2668717 ,  0.1615673 ,  0.2778741 ,\n",
      "        -0.2556475 ,  0.28472108, -0.2516196 ,  0.1262432 , -0.13356584,\n",
      "        -0.27134004, -0.27405146,  0.22133178,  0.04033247,  0.16404143,\n",
      "        -0.27749425, -0.09647088, -0.29474708, -0.25909036, -0.14463282,\n",
      "         0.00471723,  0.19576097,  0.00676814, -0.22139177, -0.23447034,\n",
      "        -0.00853568,  0.0284422 ,  0.13862363, -0.2669969 , -0.10252984,\n",
      "         0.1925728 , -0.2901332 ,  0.2735697 , -0.28694856,  0.18241376,\n",
      "         0.02761006,  0.17037457,  0.11959362,  0.17819947, -0.15169117,\n",
      "         0.01682937],\n",
      "       [ 0.2829038 , -0.03487694,  0.25400698, -0.02850851, -0.09441859,\n",
      "         0.2009666 ,  0.22695094, -0.0934431 , -0.24553528,  0.2725017 ,\n",
      "        -0.24486983,  0.02182722,  0.20429939, -0.23942958,  0.03077918,\n",
      "         0.2882623 ,  0.22630191, -0.10936595,  0.1381537 , -0.22484042,\n",
      "         0.14638013,  0.1525172 , -0.2379194 ,  0.12803733,  0.21604568,\n",
      "        -0.10062222,  0.0239574 , -0.17710164,  0.1318951 ,  0.04808024,\n",
      "        -0.1466529 , -0.13131577, -0.15792589, -0.06860222,  0.2743091 ,\n",
      "         0.18342572, -0.26268286,  0.24834782,  0.23796344,  0.00084725,\n",
      "        -0.27605855, -0.07879093,  0.08583024,  0.2600854 ,  0.14510155,\n",
      "         0.15938318,  0.11192331, -0.07256451, -0.29414302, -0.19897653,\n",
      "         0.24510485, -0.0306108 ,  0.11148927,  0.18384066, -0.17109627,\n",
      "         0.19311592],\n",
      "       [ 0.22334653,  0.09996903, -0.27827156, -0.23166697, -0.17250308,\n",
      "         0.24044561, -0.10526593, -0.28369874, -0.1910125 ,  0.17998412,\n",
      "        -0.2638232 ,  0.27089316, -0.24105848, -0.18746409, -0.26674294,\n",
      "         0.15067363, -0.09893918,  0.17550635, -0.03161392, -0.09723975,\n",
      "         0.07280341, -0.26706707, -0.09796762,  0.21441692, -0.2133142 ,\n",
      "         0.02700418,  0.10278293,  0.03045332,  0.11139357, -0.2468263 ,\n",
      "        -0.14038353, -0.01119781,  0.2676878 , -0.06161411, -0.04017252,\n",
      "        -0.06735007,  0.06028527,  0.20219654,  0.27427495, -0.24353318,\n",
      "         0.1372183 , -0.27804497, -0.24748929, -0.09289217, -0.2362379 ,\n",
      "         0.2687028 ,  0.2045685 ,  0.01246184,  0.10642591,  0.14027792,\n",
      "        -0.22927433,  0.21235263, -0.13099475,  0.1054104 ,  0.00403133,\n",
      "        -0.25689432]], dtype=float32), array([0., 0., 0., 0., 0., 0., 0., 0., 0., 0., 0., 0., 0., 0., 0., 0., 0.,\n",
      "       0., 0., 0., 0., 0., 0., 0., 0., 0., 0., 0., 0., 0., 0., 0., 0., 0.,\n",
      "       0., 0., 0., 0., 0., 0., 0., 0., 0., 0., 0., 0., 0., 0., 0., 0., 0.,\n",
      "       0., 0., 0., 0., 0.], dtype=float32)]\n"
     ]
    }
   ],
   "source": [
    "from keras import Model\n",
    "hidden_layer1_model = Model(inputs = model.input, outputs =model.layers[0].output)\n",
    "output = hidden_layer1_model(X_train.values)\n",
    "\n",
    "\n",
    "print(f'input : {X_train[:1]}')\n",
    "print(f'output : {output[:1]}')\n",
    "print(f'hidden_layer1_model weight의 (피쳐갯수,weight갯수) : {hidden_layer1_model.get_weights()[0].shape}')\n",
    "print(f'hidden_layer1_model weight : {hidden_layer1_model.get_weights()}')\n"
   ]
  },
  {
   "cell_type": "markdown",
   "id": "f8905c0d-4ceb-41d1-b700-73284df4b904",
   "metadata": {},
   "source": [
    "- weight 맘대로 설정하기"
   ]
  },
  {
   "cell_type": "code",
   "execution_count": 17,
   "id": "fcf9acf3-4527-41ff-b8fc-722bab7c8332",
   "metadata": {
    "tags": []
   },
   "outputs": [],
   "source": [
    "# new_weight = [ 9.99999999e-01, -1.40592277e-01,  1.96293175e-01,\n",
    "#         -1.26547515e-02, -1.11576855e-01, -2.77784705e-01,\n",
    "#         -2.37955391e-01, -2.12220252e-02,  1.73814982e-01,\n",
    "#          4.74910736e-02, -1.74369991e-01, -1.26801014e-01,\n",
    "#         -2.51080930e-01, -3.48809659e-02, -1.90209463e-01,\n",
    "#          1.17227763e-01, -6.88039362e-02, -1.63407564e-01,\n",
    "#         -8.91854465e-02,  4.42517996e-02, -1.00297064e-01,\n",
    "#          9.86557603e-02, -2.09857225e-02,  2.39671826e-01,\n",
    "#         -1.36857837e-01,  3.90099585e-02, -2.09466219e-01,\n",
    "#          1.11805409e-01, -1.01331830e-01, -1.06357485e-01,\n",
    "#         -1.06247038e-01, -1.77567899e-02,  1.99335009e-01,\n",
    "#          1.84968024e-01,  1.70239091e-01, -2.86419392e-02,\n",
    "#          2.84145415e-01,  1.00215375e-02, -2.40780145e-01,\n",
    "#          2.71232545e-01,  1.22726560e-02,  2.25559950e-01,\n",
    "#         -1.57906264e-01, -1.17767558e-01, -2.61305630e-01,\n",
    "#          7.95602798e-03,  1.26511693e-01, -2.27912575e-01,\n",
    "#          1.29556924e-01, -2.38643885e-02,  1.24223232e-02,\n",
    "#          9.45016742e-02, -1.73441947e-01, -8.33374709e-02,\n",
    "#          2.70990312e-01,  2.72698045e-01]\n",
    "# model.set_weights(new_weight)"
   ]
  },
  {
   "cell_type": "markdown",
   "id": "d99445eb-cd96-44f7-a391-3cbc789f9114",
   "metadata": {},
   "source": [
    "- layer[0]의 weight값을 histplot그림"
   ]
  },
  {
   "cell_type": "code",
   "execution_count": 18,
   "id": "98d81995-99de-44f6-bf2d-4bc8ec28f8c3",
   "metadata": {
    "tags": []
   },
   "outputs": [
    {
     "data": {
      "image/png": "[encoded data removed]",
      "text/plain": [
       "<Figure size 640x480 with 1 Axes>"
      ]
     },
     "metadata": {},
     "output_type": "display_data"
    }
   ],
   "source": [
    "sns.histplot([ 2.90980041e-01, -1.40592277e-01,  1.96293175e-01,\n",
    "        -1.26547515e-02, -1.11576855e-01, -2.77784705e-01,\n",
    "        -2.37955391e-01, -2.12220252e-02,  1.73814982e-01,\n",
    "         4.74910736e-02, -1.74369991e-01, -1.26801014e-01,\n",
    "        -2.51080930e-01, -3.48809659e-02, -1.90209463e-01,\n",
    "         1.17227763e-01, -6.88039362e-02, -1.63407564e-01,\n",
    "        -8.91854465e-02,  4.42517996e-02, -1.00297064e-01,\n",
    "         9.86557603e-02, -2.09857225e-02,  2.39671826e-01,\n",
    "        -1.36857837e-01,  3.90099585e-02, -2.09466219e-01,\n",
    "         1.11805409e-01, -1.01331830e-01, -1.06357485e-01,\n",
    "        -1.06247038e-01, -1.77567899e-02,  1.99335009e-01,\n",
    "         1.84968024e-01,  1.70239091e-01, -2.86419392e-02,\n",
    "         2.84145415e-01,  1.00215375e-02, -2.40780145e-01,\n",
    "         2.71232545e-01,  1.22726560e-02,  2.25559950e-01,\n",
    "        -1.57906264e-01, -1.17767558e-01, -2.61305630e-01,\n",
    "         7.95602798e-03,  1.26511693e-01, -2.27912575e-01,\n",
    "         1.29556924e-01, -2.38643885e-02,  1.24223232e-02,\n",
    "         9.45016742e-02, -1.73441947e-01, -8.33374709e-02,\n",
    "         2.70990312e-01,  2.72698045e-01])\n",
    "plt.show()"
   ]
  },
  {
   "cell_type": "code",
   "execution_count": null,
   "id": "a96024aa-12ec-434c-b290-f30d7ea2297f",
   "metadata": {
    "tags": []
   },
   "outputs": [
    {
     "data": {
      "image/png": "[encoded data removed]",
      "text/plain": [
       "<Figure size 640x480 with 1 Axes>"
      ]
     },
     "metadata": {},
     "output_type": "display_data"
    }
   ],
   "source": [
    "mnist = tf.keras.datasets.mnist\n",
    "(x_train, y_train), (x_test, y_test) = mnist.load_data()\n",
    "x_train, x_test = x_train/255.0, x_test/255.0\n",
    "\n",
    "# tf.keras.initializers.RandomNormal 사용하기\n",
    "initializer1 = tf.keras.initializers.RandomNormal(mean=2.0, stddev=0.05, seed=None)\n",
    "initializer2 = tf.keras.initializers.RandomNormal(mean=-2.0, stddev=0.01, seed=None)\n",
    "\n",
    "model = tf.keras.models.Sequential([\n",
    "  tf.keras.layers.Flatten(input_shape=(28, 28)),\n",
    "  tf.keras.layers.Dense(512, activation=tf.nn.relu, use_bias=False, kernel_initializer=initializer1),\n",
    "  tf.keras.layers.Dense(10, activation=tf.nn.softmax, use_bias=False, kernel_initializer=initializer2)\n",
    "])\n",
    "\n",
    "weights = model.get_weights()\n",
    "# print(weights)\n",
    "\n",
    "plt.hist(weights[0], bins=100, alpha=0.7, histtype='step')\n",
    "plt.hist(weights[1], bins=100, alpha=0.7, histtype='step')\n",
    "plt.show()"
   ]
  },
  {
   "cell_type": "markdown",
   "id": "18a4bd89-2876-43eb-b1dc-5bb4b411a9bd",
   "metadata": {},
   "source": [
    "### 배치정규화\n",
    "- ref : https://keras.io/ko/initializers/\n",
    "\n",
    "- model.add(Dense(units=10, input_dim=4, activation='relu',<font color =red><b> kernel_initializer='glorot_normal'</b></font>))"
   ]
  },
  {
   "cell_type": "markdown",
   "id": "b36675ac-4f71-45b8-8176-a6ab45056447",
   "metadata": {},
   "source": [
    "* <b>Xavier 배치 정규화</b>\n",
    "    <pre>\n",
    "    keras.initializers.<b>glorot_normal(seed=None)</b>\n",
    "    stddev = 1 / sqrt(fan_in)\n",
    "    sigmoid\n",
    "\n",
    "* <b>HE 배치 정규화</b>\n",
    "    <pre>\n",
    "    keras.initializers.<b>he_normal(seed=None)</b>\n",
    "    stddev = sqrt(2 / fan_in)\n",
    "    relu"
   ]
  },
  {
   "cell_type": "markdown",
   "id": "b58333d8-db85-440f-bb01-ee2896515889",
   "metadata": {},
   "source": [
    "## tf.keras.initializers.RandomNormal 사용하기\n",
    "* mean=2.0  , stddev=0.05   ,  mean=-2.0, stddev=0.01\n",
    "* mean=-0.05, stddev=0.05 ,  mean=-0.1, stddev=0.1"
   ]
  },
  {
   "cell_type": "code",
   "execution_count": null,
   "id": "b1b32d18-7e06-47fb-9a44-c7e8d6e0758e",
   "metadata": {
    "tags": []
   },
   "outputs": [
    {
     "data": {
      "image/png": "[encoded data removed]",
      "text/plain": [
       "<Figure size 640x480 with 1 Axes>"
      ]
     },
     "metadata": {},
     "output_type": "display_data"
    }
   ],
   "source": [
    "mnist = tf.keras.datasets.mnist\n",
    "(x_train, y_train), (x_test, y_test) = mnist.load_data()\n",
    "x_train, x_test = x_train/255.0, x_test/255.0\n",
    "\n",
    "# tf.keras.initializers.RandomNormal 사용하기\n",
    "initializer1 = tf.keras.initializers.RandomNormal(mean=-0.05, stddev=0.05, seed=None)\n",
    "initializer2 = tf.keras.initializers.RandomNormal(mean=-0.1, stddev=0.1, seed=None)\n",
    "\n",
    "model = tf.keras.models.Sequential([\n",
    "  tf.keras.layers.Flatten(input_shape=(28, 28)),\n",
    "  tf.keras.layers.Dense(512, activation=tf.nn.relu, use_bias=False, kernel_initializer=initializer1),\n",
    "  tf.keras.layers.Dense(10, activation=tf.nn.softmax, use_bias=False, kernel_initializer=initializer2)\n",
    "])\n",
    "\n",
    "weights = model.get_weights()\n",
    "# print(weights)\n",
    "\n",
    "plt.hist(weights[0], bins=100, alpha=0.7, histtype='step')\n",
    "plt.hist(weights[1], bins=100, alpha=0.7, histtype='step')\n",
    "plt.show()"
   ]
  },
  {
   "cell_type": "code",
   "execution_count": null,
   "id": "3ed4d785-3433-49aa-8057-3bfa0fc70c9b",
   "metadata": {},
   "outputs": [],
   "source": [
    "model = Sequential()\n",
    "model.add(Dense(units=56, input_dim=len(X_train.columns), activation='relu'\n",
    "               , kernel_initializer='glorot_normal'  #--  Xavier:1/root(N)\n",
    "               ))\n",
    "model.add(Dense(units=24 , activation='relu'))\n",
    "model.add(Dense(units=26 , activation='relu', kernel_initializer='glorot_normal'))\n",
    "model.add(Dense(units=12 , activation='relu'))\n",
    "model.add(Dense(units=8  , activation='relu'))\n",
    "model.add(Dense(units=4  , activation='relu'))\n",
    "model.add(Dense(units=1  ))  #-----------------회귀 : y^ = wx+b\n",
    "model.compile(loss=\"mean_squared_error\", optimizer=\"adam\", metrics=\"mse\")\n"
   ]
  },
  {
   "cell_type": "markdown",
   "id": "f7577cda-4f86-4e5f-8b8b-a950d9fa4f64",
   "metadata": {
    "tags": []
   },
   "source": [
    "### 모델/가중치 저장&불러오기\n",
    "* save() : 모델구조 + 보정된weights\n",
    "    * 바로사용 가능\n",
    "    * 저장 용량이 크다\n",
    "* save_weights() : 보정된weights\n",
    "    * 저장 용량이 적다\n",
    "    * 모델 구조를 알아야 사용 가능"
   ]
  },
  {
   "cell_type": "markdown",
   "id": "ca0baa47-e8dc-4652-bcdb-2fb2b54789c3",
   "metadata": {
    "tags": []
   },
   "source": [
    "#### 모델\n",
    "* model.save(\"aaa.h5\")\n",
    "* re_model = load_model(\"aaa.h5\")"
   ]
  },
  {
   "cell_type": "code",
   "execution_count": null,
   "id": "ef80f0cf-968a-404a-bae7-077085ef901a",
   "metadata": {
    "tags": []
   },
   "outputs": [
    {
     "data": {
      "text/plain": [
       "((455, 13), (51, 13), (455,), (51,))"
      ]
     },
     "execution_count": 21,
     "metadata": {},
     "output_type": "execute_result"
    }
   ],
   "source": [
    "y = df['MEDV']\n",
    "X = df.drop(['MEDV'], axis=1)\n",
    "X_train, X_test, y_train, y_test = train_test_split(X,y, test_size=0.1, random_state=1234)\n",
    "X_train.shape, X_test.shape, y_train.shape, y_test.shape"
   ]
  },
  {
   "cell_type": "code",
   "execution_count": null,
   "id": "bb65a941-2e4f-4ab2-9a62-b7dc6e04ceed",
   "metadata": {},
   "outputs": [],
   "source": [
    "model = Sequential()\n",
    "model.add(Dense(units=56, input_dim=len(X_train.columns), activation='relu'\n",
    "               , kernel_initializer='glorot_normal'  #--  Xavier:1/root(N)\n",
    "               ))\n",
    "model.add(Dense(units=24 , activation='relu'))\n",
    "model.add(Dense(units=26 , activation='relu', kernel_initializer='glorot_normal'))\n",
    "model.add(Dense(units=12 , activation='relu'))\n",
    "model.add(Dense(units=8  , activation='relu'))\n",
    "model.add(Dense(units=4  , activation='relu'))\n",
    "model.add(Dense(units=1  ))  #-----------------회귀 : y^ = wx+b\n",
    "model.compile(loss=\"mean_squared_error\", optimizer=\"adam\", metrics=\"mse\")"
   ]
  },
  {
   "cell_type": "code",
   "execution_count": null,
   "id": "4ef2f946-17c5-40c4-94ee-4ab2c57b23ca",
   "metadata": {
    "tags": []
   },
   "outputs": [
    {
     "name": "stdout",
     "output_type": "stream",
     "text": [
      "15/15 [==============================] - 2s 2ms/step - loss: 1186.0590 - mse: 1186.0590\n",
      "2/2 [==============================] - 0s 4ms/step - loss: 617.0695 - mse: 617.0695\n"
     ]
    }
   ],
   "source": [
    "from keras.models import load_model\n",
    "model.fit(X_train, y_train)\n",
    "model.evaluate(X_test, y_test) \n",
    "model.save(\"./lec02_my_model.h5\")\n",
    "model.save_weights(\"./lec02_my_weight\")"
   ]
  },
  {
   "cell_type": "code",
   "execution_count": null,
   "id": "ee3ab31a-6fc5-40b2-887a-f33690eca299",
   "metadata": {
    "tags": []
   },
   "outputs": [
    {
     "name": "stdout",
     "output_type": "stream",
     "text": [
      "2/2 [==============================] - 0s 4ms/step - loss: 617.0695 - mse: 617.0695\n"
     ]
    },
    {
     "data": {
      "text/plain": [
       "[617.0694580078125, 617.0694580078125]"
      ]
     },
     "execution_count": 24,
     "metadata": {},
     "output_type": "execute_result"
    }
   ],
   "source": [
    "re_model = load_model(\"./lec02_my_model.h5\")\n",
    "re_model.evaluate(X_test, y_test) "
   ]
  },
  {
   "cell_type": "markdown",
   "id": "77336481-9141-4b71-8e11-f400f60a6ab8",
   "metadata": {},
   "source": [
    "#### 가중치\n",
    "* model.save_weights(\"my_weight\")\n",
    "* re_weights = load_weights(\"my_weight\")\n",
    "* model.set_weights(re_weights)"
   ]
  },
  {
   "cell_type": "code",
   "execution_count": null,
   "id": "b3db391b-515f-4f7c-b5ea-9945857d445d",
   "metadata": {
    "tags": []
   },
   "outputs": [
    {
     "name": "stdout",
     "output_type": "stream",
     "text": [
      "2/2 [==============================] - 0s 3ms/step - loss: 617.0695 - mse: 617.0695\n"
     ]
    },
    {
     "data": {
      "text/plain": [
       "[617.0694580078125, 617.0694580078125]"
      ]
     },
     "execution_count": 25,
     "metadata": {},
     "output_type": "execute_result"
    }
   ],
   "source": [
    "model = Sequential()\n",
    "model.add(Dense(units=56, input_dim=len(X_train.columns), activation='relu'\n",
    "               , kernel_initializer='glorot_normal'  #--  Xavier:1/root(N)\n",
    "               ))\n",
    "model.add(Dense(units=24 , activation='relu'))\n",
    "model.add(Dense(units=26 , activation='relu', kernel_initializer='glorot_normal'))\n",
    "model.add(Dense(units=12 , activation='relu'))\n",
    "model.add(Dense(units=8  , activation='relu'))\n",
    "model.add(Dense(units=4  , activation='relu'))\n",
    "model.add(Dense(units=1  ))  #-----------------회귀 : y^ = wx+b\n",
    "model.compile(loss=\"mean_squared_error\", optimizer=\"adam\", metrics=\"mse\")\n",
    "\n",
    "model.load_weights(\"./lec02_my_weight\")\n",
    "model.evaluate(X_test, y_test) "
   ]
  },
  {
   "cell_type": "markdown",
   "id": "4f1758ff-8098-4809-8558-b8e3178770c7",
   "metadata": {},
   "source": [
    "## fit()"
   ]
  },
  {
   "cell_type": "code",
   "execution_count": 22,
   "id": "03918c7f-beb4-4f3d-9ba0-2dee7ee617f9",
   "metadata": {
    "tags": []
   },
   "outputs": [],
   "source": [
    "y = df['MEDV']\n",
    "X = df.drop('MEDV',axis = 1)"
   ]
  },
  {
   "cell_type": "markdown",
   "id": "0ddaed2e-3f2d-4eee-8956-b2a9f83d7a24",
   "metadata": {},
   "source": [
    "### case 1 전체를 넣은 경우\n",
    "- batch_size = 50(약 9회 : w 보정 횟수가 적음)\n",
    "- epochs =10(반복 학습이 다소 적은 경우)\n",
    "- X,y 통째로 넣고 train 점수만 본 경우\n",
    "- 오버피팅 확인 불가"
   ]
  },
  {
   "cell_type": "code",
   "execution_count": null,
   "id": "9f0cd34c-115d-44be-9c9c-d7b569a5b8fa",
   "metadata": {
    "tags": []
   },
   "outputs": [
    {
     "name": "stdout",
     "output_type": "stream",
     "text": [
      "Epoch 1/10\n",
      "9/9 [==============================] - 1s 2ms/step - loss: 665.7270 - mse: 665.7270\n",
      "Epoch 2/10\n",
      "9/9 [==============================] - 0s 2ms/step - loss: 598.4713 - mse: 598.4713\n",
      "Epoch 3/10\n",
      "9/9 [==============================] - 0s 3ms/step - loss: 608.8033 - mse: 608.8033\n",
      "Epoch 4/10\n",
      "9/9 [==============================] - 0s 2ms/step - loss: 590.8057 - mse: 590.8057\n",
      "Epoch 5/10\n",
      "9/9 [==============================] - 0s 3ms/step - loss: 586.4759 - mse: 586.4759\n",
      "Epoch 6/10\n",
      "9/9 [==============================] - 0s 3ms/step - loss: 601.9960 - mse: 601.9960\n",
      "Epoch 7/10\n",
      "9/9 [==============================] - 0s 2ms/step - loss: 564.2925 - mse: 564.2925\n",
      "Epoch 8/10\n",
      "9/9 [==============================] - 0s 3ms/step - loss: 612.1128 - mse: 612.1127\n",
      "Epoch 9/10\n",
      "9/9 [==============================] - 0s 3ms/step - loss: 598.4468 - mse: 598.4468\n",
      "Epoch 10/10\n",
      "9/9 [==============================] - 0s 2ms/step - loss: 566.0109 - mse: 566.0109\n",
      "2/2 [==============================] - 0s 3ms/step - loss: 492.0579 - mse: 492.0579\n",
      "[492.0578918457031, 492.0578918457031]\n"
     ]
    }
   ],
   "source": [
    "model = load_model(\"./lec02_my_model.h5\")\n",
    "model.fit(x=X,y=y, batch_size=50,epochs=10,steps_per_epoch=455/50)\n",
    "print(model.evaluate(X_test, y_test) )"
   ]
  },
  {
   "cell_type": "markdown",
   "id": "6513afb0-fb06-4b3b-be38-bd6f747fad24",
   "metadata": {
    "tags": []
   },
   "source": [
    "### case 2 train, validation\n",
    "- X,y 통째로 넣고 test_size = 0.1로 주고  test 데이터로 검증\n",
    "- 오버피팅 확인o  -> 어느정도 일반화 학습"
   ]
  },
  {
   "cell_type": "code",
   "execution_count": null,
   "id": "9f91f73c-538e-4628-b65e-639be2a2870f",
   "metadata": {
    "tags": []
   },
   "outputs": [
    {
     "name": "stdout",
     "output_type": "stream",
     "text": [
      "Epoch 1/10\n",
      "1/9 [==>...........................] - ETA: 5s - loss: 720.1155 - mse: 720.1155WARNING:tensorflow:5 out of the last 9 calls to <function Model.make_test_function.<locals>.test_function at 0x0000022E2C8C1280> triggered tf.function retracing. Tracing is expensive and the excessive number of tracings could be due to (1) creating @tf.function repeatedly in a loop, (2) passing tensors with different shapes, (3) passing Python objects instead of tensors. For (1), please define your @tf.function outside of the loop. For (2), @tf.function has reduce_retracing=True option that can avoid unnecessary retracing. For (3), please refer to https://www.tensorflow.org/guide/function#controlling_retracing and https://www.tensorflow.org/api_docs/python/tf/function for  more details.\n",
      "9/9 [==============================] - 1s 25ms/step - loss: 738.4346 - mse: 738.4346 - val_loss: 340.1776 - val_mse: 340.1776\n",
      "Epoch 2/10\n",
      "9/9 [==============================] - 0s 8ms/step - loss: 688.7539 - mse: 688.7539 - val_loss: 302.3004 - val_mse: 302.3004\n",
      "Epoch 3/10\n",
      "9/9 [==============================] - 0s 7ms/step - loss: 679.9000 - mse: 679.9000 - val_loss: 293.8078 - val_mse: 293.8078\n",
      "Epoch 4/10\n",
      "9/9 [==============================] - 0s 7ms/step - loss: 648.5778 - mse: 648.5778 - val_loss: 291.5706 - val_mse: 291.5706\n",
      "Epoch 5/10\n",
      "9/9 [==============================] - 0s 7ms/step - loss: 665.6951 - mse: 665.6951 - val_loss: 290.4109 - val_mse: 290.4109\n",
      "Epoch 6/10\n",
      "9/9 [==============================] - 0s 7ms/step - loss: 667.6456 - mse: 667.6456 - val_loss: 289.5651 - val_mse: 289.5651\n",
      "Epoch 7/10\n",
      "9/9 [==============================] - 0s 10ms/step - loss: 668.3496 - mse: 668.3496 - val_loss: 288.8632 - val_mse: 288.8632\n",
      "Epoch 8/10\n",
      "9/9 [==============================] - 0s 6ms/step - loss: 668.2408 - mse: 668.2408 - val_loss: 288.2626 - val_mse: 288.2626\n",
      "Epoch 9/10\n",
      "9/9 [==============================] - 0s 7ms/step - loss: 663.7843 - mse: 663.7843 - val_loss: 287.7538 - val_mse: 287.7538\n",
      "Epoch 10/10\n",
      "WARNING:tensorflow:Your input ran out of data; interrupting training. Make sure that your dataset or generator can generate at least `steps_per_epoch * epochs` batches (in this case, 91.0 batches). You may need to use the repeat() function when building your dataset.\n",
      "9/9 [==============================] - 2s 181ms/step - loss: 0.0000e+00 - mse: 0.0000e+00 - val_loss: 287.7538 - val_mse: 287.7538\n",
      "2/2 [==============================] - 0s 5ms/step - loss: 493.7819 - mse: 493.7819\n",
      "[493.7818603515625, 493.7818908691406]\n"
     ]
    }
   ],
   "source": [
    "# X_train, X_test, y_train, y_test = train_test_split(X,y, test_size=0.1, random_state=1234)\n",
    "# model.fit(x=X_train,y=y_train\n",
    "#           ,validation_data=(X_test, y_test) \n",
    "#           , batch_size=50,epochs=10,steps_per_epoch=455/50)\n",
    "\n",
    "train_test_split(X,y , test_size = 0.2, random_state=1234)\n",
    "model = load_model(\"./lec02_my_model.h5\")\n",
    "model.fit(x=X,y=y,validation_split=0.2 , batch_size=50,epochs=10,steps_per_epoch=455/50)\n",
    "print(model.evaluate(X_test, y_test) )"
   ]
  },
  {
   "cell_type": "markdown",
   "id": "85b77924-f34a-44e5-a8c8-58907e9bc801",
   "metadata": {},
   "source": [
    "### case 3 train,validation -> batch_size, epochs\n",
    "* X,y 통째로 넣고 train 점수만 보는 경우\n",
    "- batch_size = 5(50보다 작음 == 자주 답을 확인한다 == w보정이 빈번하다 == loss 작아진다)\n",
    "- epochs = 50 (10보다 크다 == 1문제를 5배 더 학습한다)\n",
    "- 오버피팅 발생 우려 o"
   ]
  },
  {
   "cell_type": "code",
   "execution_count": 26,
   "id": "2678e4fe-b059-4da6-9a32-8af6f237b0bf",
   "metadata": {
    "tags": []
   },
   "outputs": [
    {
     "name": "stdout",
     "output_type": "stream",
     "text": [
      "Epoch 1/50\n",
      "91/91 [==============================] - 0s 4ms/step - loss: 73.4676 - mse: 73.4676 - val_loss: 32.4880 - val_mse: 32.4880\n",
      "Epoch 2/50\n",
      "91/91 [==============================] - 0s 2ms/step - loss: 77.3411 - mse: 77.3411 - val_loss: 88.2793 - val_mse: 88.2793\n",
      "Epoch 3/50\n",
      "91/91 [==============================] - 0s 2ms/step - loss: 58.8702 - mse: 58.8702 - val_loss: 16.3167 - val_mse: 16.3167\n",
      "Epoch 4/50\n",
      "91/91 [==============================] - 0s 2ms/step - loss: 62.8278 - mse: 62.8278 - val_loss: 16.8659 - val_mse: 16.8659\n",
      "Epoch 5/50\n",
      "91/91 [==============================] - 0s 2ms/step - loss: 63.7896 - mse: 63.7896 - val_loss: 21.6874 - val_mse: 21.6874\n",
      "Epoch 6/50\n",
      "91/91 [==============================] - 0s 2ms/step - loss: 57.3621 - mse: 57.3621 - val_loss: 32.1007 - val_mse: 32.1007\n",
      "Epoch 7/50\n",
      "91/91 [==============================] - 0s 2ms/step - loss: 47.2361 - mse: 47.2361 - val_loss: 38.8004 - val_mse: 38.8004\n",
      "Epoch 8/50\n",
      "91/91 [==============================] - 0s 2ms/step - loss: 53.0173 - mse: 53.0173 - val_loss: 55.3375 - val_mse: 55.3375\n",
      "Epoch 9/50\n",
      "91/91 [==============================] - 0s 2ms/step - loss: 43.5771 - mse: 43.5771 - val_loss: 44.4274 - val_mse: 44.4274\n",
      "Epoch 10/50\n",
      "91/91 [==============================] - 0s 2ms/step - loss: 44.4883 - mse: 44.4883 - val_loss: 42.8417 - val_mse: 42.8417\n",
      "Epoch 11/50\n",
      "91/91 [==============================] - 0s 2ms/step - loss: 43.1934 - mse: 43.1934 - val_loss: 81.1146 - val_mse: 81.1146\n",
      "Epoch 12/50\n",
      "91/91 [==============================] - 0s 2ms/step - loss: 35.9382 - mse: 35.9382 - val_loss: 61.6750 - val_mse: 61.6750\n",
      "Epoch 13/50\n",
      "91/91 [==============================] - 0s 2ms/step - loss: 42.3883 - mse: 42.3883 - val_loss: 38.5522 - val_mse: 38.5521\n",
      "Epoch 14/50\n",
      "91/91 [==============================] - 0s 2ms/step - loss: 31.5285 - mse: 31.5285 - val_loss: 38.6608 - val_mse: 38.6608\n",
      "Epoch 15/50\n",
      "91/91 [==============================] - 0s 2ms/step - loss: 40.9411 - mse: 40.9411 - val_loss: 69.7923 - val_mse: 69.7923\n",
      "Epoch 16/50\n",
      "91/91 [==============================] - 0s 2ms/step - loss: 46.0361 - mse: 46.0361 - val_loss: 83.3958 - val_mse: 83.3958\n",
      "Epoch 17/50\n",
      "91/91 [==============================] - 0s 2ms/step - loss: 33.0945 - mse: 33.0945 - val_loss: 132.3831 - val_mse: 132.3831\n",
      "Epoch 18/50\n",
      "91/91 [==============================] - 0s 2ms/step - loss: 29.4192 - mse: 29.4192 - val_loss: 55.0648 - val_mse: 55.0648\n",
      "Epoch 19/50\n",
      "91/91 [==============================] - 0s 2ms/step - loss: 32.0568 - mse: 32.0568 - val_loss: 176.0334 - val_mse: 176.0334\n",
      "Epoch 20/50\n",
      "91/91 [==============================] - 0s 2ms/step - loss: 26.9094 - mse: 26.9094 - val_loss: 100.9255 - val_mse: 100.9255\n",
      "Epoch 21/50\n",
      "91/91 [==============================] - 0s 2ms/step - loss: 25.5253 - mse: 25.5253 - val_loss: 53.6732 - val_mse: 53.6732\n",
      "Epoch 22/50\n",
      "91/91 [==============================] - 0s 2ms/step - loss: 27.5213 - mse: 27.5213 - val_loss: 136.5082 - val_mse: 136.5082\n",
      "Epoch 23/50\n",
      "91/91 [==============================] - 0s 2ms/step - loss: 26.4129 - mse: 26.4129 - val_loss: 44.0857 - val_mse: 44.0857\n",
      "Epoch 24/50\n",
      "91/91 [==============================] - 0s 2ms/step - loss: 32.7272 - mse: 32.7272 - val_loss: 143.7563 - val_mse: 143.7564\n",
      "Epoch 25/50\n",
      "91/91 [==============================] - 0s 2ms/step - loss: 25.1322 - mse: 25.1322 - val_loss: 50.6050 - val_mse: 50.6050\n",
      "Epoch 26/50\n",
      "91/91 [==============================] - 0s 2ms/step - loss: 21.3410 - mse: 21.3410 - val_loss: 45.3634 - val_mse: 45.3634\n",
      "Epoch 27/50\n",
      "91/91 [==============================] - 0s 2ms/step - loss: 34.0575 - mse: 34.0575 - val_loss: 59.8829 - val_mse: 59.8829\n",
      "Epoch 28/50\n",
      "91/91 [==============================] - 0s 2ms/step - loss: 24.9138 - mse: 24.9138 - val_loss: 129.5160 - val_mse: 129.5160\n",
      "Epoch 29/50\n",
      "91/91 [==============================] - 0s 2ms/step - loss: 28.5510 - mse: 28.5510 - val_loss: 171.1907 - val_mse: 171.1907\n",
      "Epoch 30/50\n",
      "91/91 [==============================] - 0s 2ms/step - loss: 25.2644 - mse: 25.2644 - val_loss: 53.3557 - val_mse: 53.3557\n",
      "Epoch 31/50\n",
      "91/91 [==============================] - 0s 2ms/step - loss: 23.3479 - mse: 23.3479 - val_loss: 76.6164 - val_mse: 76.6164\n",
      "Epoch 32/50\n",
      "91/91 [==============================] - 0s 2ms/step - loss: 26.2103 - mse: 26.2103 - val_loss: 52.4868 - val_mse: 52.4868\n",
      "Epoch 33/50\n",
      "91/91 [==============================] - 0s 2ms/step - loss: 30.4702 - mse: 30.4702 - val_loss: 66.7763 - val_mse: 66.7763\n",
      "Epoch 34/50\n",
      "91/91 [==============================] - 0s 2ms/step - loss: 22.5908 - mse: 22.5908 - val_loss: 121.8007 - val_mse: 121.8007\n",
      "Epoch 35/50\n",
      "91/91 [==============================] - 0s 2ms/step - loss: 29.5472 - mse: 29.5472 - val_loss: 84.9711 - val_mse: 84.9711\n",
      "Epoch 36/50\n",
      "91/91 [==============================] - 0s 2ms/step - loss: 24.1744 - mse: 24.1744 - val_loss: 61.3298 - val_mse: 61.3298\n",
      "Epoch 37/50\n",
      "91/91 [==============================] - 0s 2ms/step - loss: 24.8252 - mse: 24.8252 - val_loss: 63.1464 - val_mse: 63.1464\n",
      "Epoch 38/50\n",
      "91/91 [==============================] - 0s 2ms/step - loss: 19.7167 - mse: 19.7167 - val_loss: 74.0687 - val_mse: 74.0687\n",
      "Epoch 39/50\n",
      "91/91 [==============================] - 0s 2ms/step - loss: 26.2075 - mse: 26.2075 - val_loss: 76.4187 - val_mse: 76.4187\n",
      "Epoch 40/50\n",
      "91/91 [==============================] - 0s 2ms/step - loss: 21.7668 - mse: 21.7668 - val_loss: 67.8265 - val_mse: 67.8265\n",
      "Epoch 41/50\n",
      "91/91 [==============================] - 0s 2ms/step - loss: 21.1514 - mse: 21.1514 - val_loss: 85.0727 - val_mse: 85.0727\n",
      "Epoch 42/50\n",
      "91/91 [==============================] - 0s 2ms/step - loss: 19.2835 - mse: 19.2835 - val_loss: 107.2630 - val_mse: 107.2630\n",
      "Epoch 43/50\n",
      "91/91 [==============================] - 0s 2ms/step - loss: 22.7141 - mse: 22.7141 - val_loss: 97.7528 - val_mse: 97.7528\n",
      "Epoch 44/50\n",
      "91/91 [==============================] - 0s 2ms/step - loss: 17.6263 - mse: 17.6263 - val_loss: 72.5663 - val_mse: 72.5663\n",
      "Epoch 45/50\n",
      "34/91 [==========>...................] - ETA: 0s - loss: 22.0925 - mse: 22.0925WARNING:tensorflow:Your input ran out of data; interrupting training. Make sure that your dataset or generator can generate at least `steps_per_epoch * epochs` batches (in this case, 4550.0 batches). You may need to use the repeat() function when building your dataset.\n",
      "91/91 [==============================] - 2s 18ms/step - loss: 26.6177 - mse: 26.6177 - val_loss: 64.8223 - val_mse: 64.8223\n"
     ]
    },
    {
     "data": {
      "text/plain": [
       "<keras.callbacks.History at 0x21958bceaf0>"
      ]
     },
     "execution_count": 26,
     "metadata": {},
     "output_type": "execute_result"
    }
   ],
   "source": [
    "model.fit(X,y,validation_split=0.2, epochs=50, batch_size = 5, steps_per_epoch=455/5)"
   ]
  },
  {
   "cell_type": "markdown",
   "id": "5208cd1e-eef9-457a-90e5-67684abe1f96",
   "metadata": {},
   "source": [
    "### case 4 learning_rate \n",
    "- learning_rate -> default : 0.001"
   ]
  },
  {
   "cell_type": "markdown",
   "id": "880377ef-5d93-4264-a4b9-c3b720c87a92",
   "metadata": {
    "tags": []
   },
   "source": [
    "#### learning_rate = 0.1 (증가)\n",
    "- loss : 발산한다"
   ]
  },
  {
   "cell_type": "code",
   "execution_count": 27,
   "id": "664674f6-cc10-4b93-8f45-dcd158705d2e",
   "metadata": {
    "tags": []
   },
   "outputs": [
    {
     "name": "stdout",
     "output_type": "stream",
     "text": [
      "Epoch 1/50\n",
      "91/91 [==============================] - 1s 4ms/step - loss: 807.5339 - mse: 807.5339 - val_loss: 140.0554 - val_mse: 140.0554\n",
      "Epoch 2/50\n",
      "91/91 [==============================] - 0s 2ms/step - loss: 339.4188 - mse: 339.4188 - val_loss: 47.2907 - val_mse: 47.2907\n",
      "Epoch 3/50\n",
      "91/91 [==============================] - 0s 2ms/step - loss: 191.5817 - mse: 191.5817 - val_loss: 27.0186 - val_mse: 27.0186\n",
      "Epoch 4/50\n",
      "91/91 [==============================] - 0s 2ms/step - loss: 117.8473 - mse: 117.8473 - val_loss: 39.2827 - val_mse: 39.2827\n",
      "Epoch 5/50\n",
      "91/91 [==============================] - 0s 2ms/step - loss: 98.3723 - mse: 98.3723 - val_loss: 58.6702 - val_mse: 58.6702\n",
      "Epoch 6/50\n",
      "91/91 [==============================] - 0s 2ms/step - loss: 82.8972 - mse: 82.8972 - val_loss: 76.4256 - val_mse: 76.4256\n",
      "Epoch 7/50\n",
      "91/91 [==============================] - 0s 2ms/step - loss: 88.9649 - mse: 88.9649 - val_loss: 84.8694 - val_mse: 84.8694\n",
      "Epoch 8/50\n",
      "91/91 [==============================] - 0s 2ms/step - loss: 86.7788 - mse: 86.7788 - val_loss: 89.3064 - val_mse: 89.3064\n",
      "Epoch 9/50\n",
      "91/91 [==============================] - 0s 3ms/step - loss: 83.3212 - mse: 83.3212 - val_loss: 91.8521 - val_mse: 91.8521\n",
      "Epoch 10/50\n",
      "91/91 [==============================] - 0s 2ms/step - loss: 87.9929 - mse: 87.9929 - val_loss: 95.4294 - val_mse: 95.4294\n",
      "Epoch 11/50\n",
      "91/91 [==============================] - 0s 2ms/step - loss: 87.4951 - mse: 87.4951 - val_loss: 97.8105 - val_mse: 97.8105\n",
      "Epoch 12/50\n",
      "91/91 [==============================] - 0s 2ms/step - loss: 83.5105 - mse: 83.5105 - val_loss: 90.7569 - val_mse: 90.7569\n",
      "Epoch 13/50\n",
      "91/91 [==============================] - 0s 2ms/step - loss: 87.9555 - mse: 87.9555 - val_loss: 91.5712 - val_mse: 91.5712\n",
      "Epoch 14/50\n",
      "91/91 [==============================] - 0s 2ms/step - loss: 84.2182 - mse: 84.2182 - val_loss: 93.9473 - val_mse: 93.9473\n",
      "Epoch 15/50\n",
      "91/91 [==============================] - 0s 2ms/step - loss: 84.6557 - mse: 84.6557 - val_loss: 95.2170 - val_mse: 95.2170\n",
      "Epoch 16/50\n",
      "91/91 [==============================] - 0s 2ms/step - loss: 87.0550 - mse: 87.0550 - val_loss: 91.8087 - val_mse: 91.8087\n",
      "Epoch 17/50\n",
      "91/91 [==============================] - 0s 2ms/step - loss: 88.6477 - mse: 88.6477 - val_loss: 98.1049 - val_mse: 98.1049\n",
      "Epoch 18/50\n",
      "91/91 [==============================] - 0s 2ms/step - loss: 83.4952 - mse: 83.4952 - val_loss: 90.5385 - val_mse: 90.5385\n",
      "Epoch 19/50\n",
      "91/91 [==============================] - 0s 2ms/step - loss: 81.2047 - mse: 81.2047 - val_loss: 93.9585 - val_mse: 93.9585\n",
      "Epoch 20/50\n",
      "91/91 [==============================] - 0s 2ms/step - loss: 87.4972 - mse: 87.4972 - val_loss: 90.4968 - val_mse: 90.4968\n",
      "Epoch 21/50\n",
      "91/91 [==============================] - 0s 2ms/step - loss: 86.7339 - mse: 86.7339 - val_loss: 90.4055 - val_mse: 90.4055\n",
      "Epoch 22/50\n",
      "91/91 [==============================] - 0s 2ms/step - loss: 85.9379 - mse: 85.9379 - val_loss: 96.1476 - val_mse: 96.1476\n",
      "Epoch 23/50\n",
      "91/91 [==============================] - 0s 2ms/step - loss: 84.1488 - mse: 84.1488 - val_loss: 89.6349 - val_mse: 89.6349\n",
      "Epoch 24/50\n",
      "91/91 [==============================] - 0s 2ms/step - loss: 89.1534 - mse: 89.1534 - val_loss: 94.7428 - val_mse: 94.7428\n",
      "Epoch 25/50\n",
      "91/91 [==============================] - 0s 2ms/step - loss: 83.7784 - mse: 83.7784 - val_loss: 92.6942 - val_mse: 92.6942\n",
      "Epoch 26/50\n",
      "91/91 [==============================] - 0s 2ms/step - loss: 87.6346 - mse: 87.6346 - val_loss: 91.5148 - val_mse: 91.5148\n",
      "Epoch 27/50\n",
      "91/91 [==============================] - 0s 2ms/step - loss: 87.5596 - mse: 87.5596 - val_loss: 90.0704 - val_mse: 90.0704\n",
      "Epoch 28/50\n",
      "91/91 [==============================] - 0s 2ms/step - loss: 79.0548 - mse: 79.0548 - val_loss: 99.7870 - val_mse: 99.7870\n",
      "Epoch 29/50\n",
      "91/91 [==============================] - 0s 2ms/step - loss: 91.1621 - mse: 91.1621 - val_loss: 88.5207 - val_mse: 88.5207\n",
      "Epoch 30/50\n",
      "91/91 [==============================] - 0s 2ms/step - loss: 76.0434 - mse: 76.0434 - val_loss: 89.4754 - val_mse: 89.4754\n",
      "Epoch 31/50\n",
      "91/91 [==============================] - 0s 2ms/step - loss: 90.4817 - mse: 90.4817 - val_loss: 98.6315 - val_mse: 98.6315\n",
      "Epoch 32/50\n",
      "91/91 [==============================] - 0s 2ms/step - loss: 89.7930 - mse: 89.7930 - val_loss: 95.9122 - val_mse: 95.9122\n",
      "Epoch 33/50\n",
      "91/91 [==============================] - 0s 2ms/step - loss: 85.0566 - mse: 85.0566 - val_loss: 94.2414 - val_mse: 94.2414\n",
      "Epoch 34/50\n",
      "91/91 [==============================] - 0s 2ms/step - loss: 89.0535 - mse: 89.0535 - val_loss: 94.5299 - val_mse: 94.5299\n",
      "Epoch 35/50\n",
      "91/91 [==============================] - 0s 2ms/step - loss: 84.9573 - mse: 84.9573 - val_loss: 91.3426 - val_mse: 91.3426\n",
      "Epoch 36/50\n",
      "91/91 [==============================] - 0s 2ms/step - loss: 79.7171 - mse: 79.7172 - val_loss: 91.0533 - val_mse: 91.0533\n",
      "Epoch 37/50\n",
      "91/91 [==============================] - 0s 2ms/step - loss: 89.5311 - mse: 89.5311 - val_loss: 91.0152 - val_mse: 91.0152\n",
      "Epoch 38/50\n",
      "91/91 [==============================] - 0s 2ms/step - loss: 86.8411 - mse: 86.8411 - val_loss: 93.3416 - val_mse: 93.3416\n",
      "Epoch 39/50\n",
      "91/91 [==============================] - 0s 2ms/step - loss: 88.2026 - mse: 88.2026 - val_loss: 98.1241 - val_mse: 98.1241\n",
      "Epoch 40/50\n",
      "91/91 [==============================] - 0s 2ms/step - loss: 83.5948 - mse: 83.5948 - val_loss: 97.0848 - val_mse: 97.0848\n",
      "Epoch 41/50\n",
      "91/91 [==============================] - 0s 2ms/step - loss: 88.7698 - mse: 88.7698 - val_loss: 93.7416 - val_mse: 93.7416\n",
      "Epoch 42/50\n",
      "91/91 [==============================] - 0s 2ms/step - loss: 86.3942 - mse: 86.3942 - val_loss: 86.2262 - val_mse: 86.2262\n",
      "Epoch 43/50\n",
      "91/91 [==============================] - 0s 2ms/step - loss: 82.4800 - mse: 82.4800 - val_loss: 92.7311 - val_mse: 92.7311\n",
      "Epoch 44/50\n",
      "91/91 [==============================] - 0s 2ms/step - loss: 80.1003 - mse: 80.1003 - val_loss: 88.6299 - val_mse: 88.6299\n",
      "Epoch 45/50\n",
      "34/91 [==========>...................] - ETA: 0s - loss: 87.5299 - mse: 87.5299WARNING:tensorflow:Your input ran out of data; interrupting training. Make sure that your dataset or generator can generate at least `steps_per_epoch * epochs` batches (in this case, 4550.0 batches). You may need to use the repeat() function when building your dataset.\n",
      "91/91 [==============================] - 0s 1ms/step - loss: 93.5449 - mse: 93.5449 - val_loss: 99.7529 - val_mse: 99.7529\n"
     ]
    },
    {
     "data": {
      "text/plain": [
       "<keras.callbacks.History at 0x21958b9ad30>"
      ]
     },
     "execution_count": 27,
     "metadata": {},
     "output_type": "execute_result"
    }
   ],
   "source": [
    "from keras.optimizers import Adam\n",
    "\n",
    "model.compile(loss=\"mean_squared_error\", optimizer=Adam(learning_rate=0.1), metrics=\"mse\")\n",
    "model.fit(X,y,validation_split=0.2, epochs=50, batch_size = 5, steps_per_epoch=455/5)"
   ]
  },
  {
   "cell_type": "markdown",
   "id": "0c78d9a2-6c30-46a1-98bf-2421a6f07e0c",
   "metadata": {
    "tags": []
   },
   "source": [
    "#### learning_rate = 0.00001 (감소)\n",
    "- loss : 0에 수렴하지 못함"
   ]
  },
  {
   "cell_type": "code",
   "execution_count": 28,
   "id": "d3cf09a4-08d0-4324-aae5-fd9667c58d0e",
   "metadata": {
    "tags": []
   },
   "outputs": [
    {
     "name": "stdout",
     "output_type": "stream",
     "text": [
      "Epoch 1/50\n",
      "91/91 [==============================] - 1s 4ms/step - loss: 85.4968 - mse: 85.4968 - val_loss: 99.7511 - val_mse: 99.7511\n",
      "Epoch 2/50\n",
      "91/91 [==============================] - 0s 2ms/step - loss: 93.1409 - mse: 93.1409 - val_loss: 99.7494 - val_mse: 99.7494\n",
      "Epoch 3/50\n",
      "91/91 [==============================] - 0s 2ms/step - loss: 81.6161 - mse: 81.6161 - val_loss: 99.7487 - val_mse: 99.7487\n",
      "Epoch 4/50\n",
      "91/91 [==============================] - 0s 2ms/step - loss: 85.0951 - mse: 85.0951 - val_loss: 99.7458 - val_mse: 99.7458\n",
      "Epoch 5/50\n",
      "91/91 [==============================] - 0s 2ms/step - loss: 86.1984 - mse: 86.1984 - val_loss: 99.7440 - val_mse: 99.7440\n",
      "Epoch 6/50\n",
      "91/91 [==============================] - 0s 2ms/step - loss: 79.0452 - mse: 79.0452 - val_loss: 99.7432 - val_mse: 99.7432\n",
      "Epoch 7/50\n",
      "91/91 [==============================] - 0s 2ms/step - loss: 88.4411 - mse: 88.4411 - val_loss: 99.7416 - val_mse: 99.7416\n",
      "Epoch 8/50\n",
      "91/91 [==============================] - 0s 2ms/step - loss: 86.6734 - mse: 86.6734 - val_loss: 99.7400 - val_mse: 99.7400\n",
      "Epoch 9/50\n",
      "91/91 [==============================] - 0s 2ms/step - loss: 83.5998 - mse: 83.5998 - val_loss: 99.7382 - val_mse: 99.7382\n",
      "Epoch 10/50\n",
      "91/91 [==============================] - 0s 2ms/step - loss: 87.7942 - mse: 87.7942 - val_loss: 99.7373 - val_mse: 99.7372\n",
      "Epoch 11/50\n",
      "91/91 [==============================] - 0s 2ms/step - loss: 87.3376 - mse: 87.3376 - val_loss: 99.7367 - val_mse: 99.7367\n",
      "Epoch 12/50\n",
      "91/91 [==============================] - 0s 2ms/step - loss: 83.8207 - mse: 83.8207 - val_loss: 99.7339 - val_mse: 99.7339\n",
      "Epoch 13/50\n",
      "91/91 [==============================] - 0s 2ms/step - loss: 88.1487 - mse: 88.1487 - val_loss: 99.7322 - val_mse: 99.7322\n",
      "Epoch 14/50\n",
      "91/91 [==============================] - 0s 2ms/step - loss: 84.0043 - mse: 84.0043 - val_loss: 99.7308 - val_mse: 99.7308\n",
      "Epoch 15/50\n",
      "91/91 [==============================] - 0s 2ms/step - loss: 84.6548 - mse: 84.6548 - val_loss: 99.7296 - val_mse: 99.7296\n",
      "Epoch 16/50\n",
      "91/91 [==============================] - 0s 2ms/step - loss: 87.0705 - mse: 87.0705 - val_loss: 99.7277 - val_mse: 99.7277\n",
      "Epoch 17/50\n",
      "91/91 [==============================] - 0s 2ms/step - loss: 88.4560 - mse: 88.4560 - val_loss: 99.7265 - val_mse: 99.7265\n",
      "Epoch 18/50\n",
      "91/91 [==============================] - 0s 3ms/step - loss: 83.3705 - mse: 83.3705 - val_loss: 99.7250 - val_mse: 99.7250\n",
      "Epoch 19/50\n",
      "91/91 [==============================] - 0s 2ms/step - loss: 81.2115 - mse: 81.2115 - val_loss: 99.7237 - val_mse: 99.7237\n",
      "Epoch 20/50\n",
      "91/91 [==============================] - 0s 2ms/step - loss: 87.7319 - mse: 87.7319 - val_loss: 99.7217 - val_mse: 99.7217\n",
      "Epoch 21/50\n",
      "91/91 [==============================] - 0s 2ms/step - loss: 86.6336 - mse: 86.6336 - val_loss: 99.7199 - val_mse: 99.7199\n",
      "Epoch 22/50\n",
      "91/91 [==============================] - 0s 2ms/step - loss: 85.6727 - mse: 85.6727 - val_loss: 99.7191 - val_mse: 99.7191\n",
      "Epoch 23/50\n",
      "91/91 [==============================] - 0s 2ms/step - loss: 84.3164 - mse: 84.3164 - val_loss: 99.7170 - val_mse: 99.7170\n",
      "Epoch 24/50\n",
      "91/91 [==============================] - 0s 2ms/step - loss: 88.7215 - mse: 88.7215 - val_loss: 99.7169 - val_mse: 99.7169\n",
      "Epoch 25/50\n",
      "91/91 [==============================] - 0s 2ms/step - loss: 83.7891 - mse: 83.7891 - val_loss: 99.7153 - val_mse: 99.7153\n",
      "Epoch 26/50\n",
      "91/91 [==============================] - 0s 2ms/step - loss: 87.8614 - mse: 87.8614 - val_loss: 99.7135 - val_mse: 99.7135\n",
      "Epoch 27/50\n",
      "91/91 [==============================] - 0s 2ms/step - loss: 87.6686 - mse: 87.6686 - val_loss: 99.7115 - val_mse: 99.7115\n",
      "Epoch 28/50\n",
      "91/91 [==============================] - 0s 2ms/step - loss: 78.7763 - mse: 78.7763 - val_loss: 99.7112 - val_mse: 99.7112\n",
      "Epoch 29/50\n",
      "91/91 [==============================] - 0s 2ms/step - loss: 91.0589 - mse: 91.0589 - val_loss: 99.7085 - val_mse: 99.7085\n",
      "Epoch 30/50\n",
      "91/91 [==============================] - 0s 2ms/step - loss: 76.3931 - mse: 76.3931 - val_loss: 99.7066 - val_mse: 99.7066\n",
      "Epoch 31/50\n",
      "91/91 [==============================] - 0s 2ms/step - loss: 90.1538 - mse: 90.1538 - val_loss: 99.7064 - val_mse: 99.7064\n",
      "Epoch 32/50\n",
      "91/91 [==============================] - 0s 2ms/step - loss: 89.6087 - mse: 89.6087 - val_loss: 99.7052 - val_mse: 99.7052\n",
      "Epoch 33/50\n",
      "91/91 [==============================] - 0s 2ms/step - loss: 84.9256 - mse: 84.9256 - val_loss: 99.7033 - val_mse: 99.7033\n",
      "Epoch 34/50\n",
      "91/91 [==============================] - 0s 2ms/step - loss: 88.9508 - mse: 88.9508 - val_loss: 99.7016 - val_mse: 99.7016\n",
      "Epoch 35/50\n",
      "91/91 [==============================] - 0s 2ms/step - loss: 84.9353 - mse: 84.9353 - val_loss: 99.7002 - val_mse: 99.7002\n",
      "Epoch 36/50\n",
      "91/91 [==============================] - 0s 2ms/step - loss: 79.8067 - mse: 79.8067 - val_loss: 99.6989 - val_mse: 99.6989\n",
      "Epoch 37/50\n",
      "91/91 [==============================] - 0s 2ms/step - loss: 89.4119 - mse: 89.4119 - val_loss: 99.6973 - val_mse: 99.6973\n",
      "Epoch 38/50\n",
      "91/91 [==============================] - 0s 2ms/step - loss: 86.5955 - mse: 86.5955 - val_loss: 99.6962 - val_mse: 99.6962\n",
      "Epoch 39/50\n",
      "91/91 [==============================] - 0s 2ms/step - loss: 88.0156 - mse: 88.0156 - val_loss: 99.6957 - val_mse: 99.6957\n",
      "Epoch 40/50\n",
      "91/91 [==============================] - 0s 2ms/step - loss: 83.4734 - mse: 83.4734 - val_loss: 99.6942 - val_mse: 99.6942\n",
      "Epoch 41/50\n",
      "91/91 [==============================] - 0s 2ms/step - loss: 88.7148 - mse: 88.7148 - val_loss: 99.6924 - val_mse: 99.6924\n",
      "Epoch 42/50\n",
      "91/91 [==============================] - 0s 2ms/step - loss: 86.5931 - mse: 86.5931 - val_loss: 99.6907 - val_mse: 99.6907\n",
      "Epoch 43/50\n",
      "91/91 [==============================] - 0s 2ms/step - loss: 82.1664 - mse: 82.1665 - val_loss: 99.6892 - val_mse: 99.6892\n",
      "Epoch 44/50\n",
      "91/91 [==============================] - 0s 2ms/step - loss: 80.4815 - mse: 80.4815 - val_loss: 99.6872 - val_mse: 99.6872\n",
      "Epoch 45/50\n",
      "32/91 [=========>....................] - ETA: 0s - loss: 88.6744 - mse: 88.6744WARNING:tensorflow:Your input ran out of data; interrupting training. Make sure that your dataset or generator can generate at least `steps_per_epoch * epochs` batches (in this case, 4550.0 batches). You may need to use the repeat() function when building your dataset.\n",
      "91/91 [==============================] - 0s 2ms/step - loss: 92.1415 - mse: 92.1415 - val_loss: 99.6875 - val_mse: 99.6875\n"
     ]
    }
   ],
   "source": [
    "from keras.optimizers import Adam\n",
    "\n",
    "model.compile(loss=\"mean_squared_error\", optimizer=Adam(learning_rate=0.00001), metrics=\"mse\")\n",
    "fit_history = model.fit(X,y,validation_split=0.2, epochs=50, batch_size = 5, steps_per_epoch=455/5)"
   ]
  },
  {
   "cell_type": "markdown",
   "id": "2ce3de69-a9b5-4629-8886-7c69a9058029",
   "metadata": {},
   "source": [
    "## evaluate()"
   ]
  },
  {
   "cell_type": "code",
   "execution_count": 29,
   "id": "0493d752-110c-42c0-be8e-8a5c355be001",
   "metadata": {
    "tags": []
   },
   "outputs": [
    {
     "name": "stdout",
     "output_type": "stream",
     "text": [
      "4/4 [==============================] - 0s 2ms/step - loss: 102.7606 - mse: 102.7606\n"
     ]
    },
    {
     "data": {
      "text/plain": [
       "[102.76055908203125, 102.76055908203125]"
      ]
     },
     "execution_count": 29,
     "metadata": {},
     "output_type": "execute_result"
    }
   ],
   "source": [
    "model.evaluate(X_test,y_test)"
   ]
  },
  {
   "cell_type": "code",
   "execution_count": 30,
   "id": "2b8fe4b3-976e-4b51-a582-de2ac0ba2ec4",
   "metadata": {
    "tags": []
   },
   "outputs": [
    {
     "data": {
      "image/png": "[encoded data removed]",
      "text/plain": [
       "<Figure size 640x480 with 2 Axes>"
      ]
     },
     "metadata": {},
     "output_type": "display_data"
    },
    {
     "data": {
      "text/plain": [
       "<Figure size 640x480 with 0 Axes>"
      ]
     },
     "metadata": {},
     "output_type": "display_data"
    }
   ],
   "source": [
    "ax1 = plt.subplot(1,2,1)\n",
    "ax1.plot(fit_history.history['loss'])\n",
    "ax1.plot(fit_history.history['val_loss'])\n",
    "plt.ylabel('Loss')\n",
    "plt.xlabel('Epoch횟수')\n",
    "plt.legend(['Loss', 'Val_Loss'], loc='upper left')\n",
    "\n",
    "ax2 = plt.subplot(1,2,2)\n",
    "ax2.plot(fit_history.history['mse'])\n",
    "ax2.plot(fit_history.history['val_mse'])\n",
    "plt.ylabel('mse')\n",
    "plt.xlabel('Epoch횟수')\n",
    "plt.legend(['mse', 'Val_mse'], loc='upper left')\n",
    "plt.show()\n",
    "\n",
    "plt.tight_layout()\n",
    "plt.show()"
   ]
  },
  {
   "cell_type": "markdown",
   "id": "ce863651-b8b3-4be2-b8a4-86eed7589844",
   "metadata": {
    "tags": []
   },
   "source": [
    "## predict()"
   ]
  },
  {
   "cell_type": "code",
   "execution_count": 31,
   "id": "bd978b27-e3bd-4294-a6b8-302ccbe49ae6",
   "metadata": {
    "tags": []
   },
   "outputs": [
    {
     "name": "stdout",
     "output_type": "stream",
     "text": [
      "4/4 [==============================] - 0s 2ms/step\n"
     ]
    }
   ],
   "source": [
    "pred = model.predict(X_test)"
   ]
  },
  {
   "cell_type": "code",
   "execution_count": 32,
   "id": "33d16ee8-542c-464f-af1b-44f0cc00dbb7",
   "metadata": {
    "tags": []
   },
   "outputs": [
    {
     "data": {
      "text/plain": [
       "((102,), (102, 1))"
      ]
     },
     "execution_count": 32,
     "metadata": {},
     "output_type": "execute_result"
    }
   ],
   "source": [
    "y_test.shape, pred.shape"
   ]
  },
  {
   "cell_type": "code",
   "execution_count": 33,
   "id": "d8b5abd3-3962-4eb6-9c50-1559915e162f",
   "metadata": {
    "tags": []
   },
   "outputs": [
    {
     "data": {
      "image/png": "[encoded data removed]",
      "text/plain": [
       "<Figure size 640x480 with 1 Axes>"
      ]
     },
     "metadata": {},
     "output_type": "display_data"
    }
   ],
   "source": [
    "\n",
    "plt.plot(y_test)\n",
    "plt.plot(pred)\n",
    "\n",
    "\n",
    "plt.tight_layout()\n",
    "plt.show()"
   ]
  }
 ],
 "metadata": {
  "kernelspec": {
   "display_name": "Python 3 (ipykernel)",
   "language": "python",
   "name": "python3"
  },
  "language_info": {
   "codemirror_mode": {
    "name": "ipython",
    "version": 3
   },
   "file_extension": ".py",
   "mimetype": "text/x-python",
   "name": "python",
   "nbconvert_exporter": "python",
   "pygments_lexer": "ipython3",
   "version": "3.8.8"
  },
  "toc-autonumbering": true
 },
 "nbformat": 4,
 "nbformat_minor": 5
}
