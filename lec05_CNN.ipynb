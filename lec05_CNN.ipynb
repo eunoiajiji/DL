{
 "cells": [
  {
   "cell_type": "markdown",
   "id": "f954c3b0-a025-468c-99d0-e83bb3c09629",
   "metadata": {},
   "source": [
    "<font size=6><b> Lec05. 합성곱신경망 (CNN : convolution NN)"
   ]
  },
  {
   "cell_type": "markdown",
   "id": "dac44c66-e871-4e14-b64b-3266e810d971",
   "metadata": {},
   "source": [
    "* ref : https://www.tensorflow.org/?hl=ko\n",
    "* ref : https://keras.io/ko/\n",
    "* ref : https://keras.io/api/layers/core_layers/dense/"
   ]
  },
  {
   "cell_type": "code",
   "execution_count": 1,
   "id": "6cbfc309-41b2-429e-ab6a-f9111062e8e3",
   "metadata": {},
   "outputs": [
    {
     "data": {
      "text/html": [
       "<style>.container{width:100% !important;}</style>"
      ],
      "text/plain": [
       "<IPython.core.display.HTML object>"
      ]
     },
     "metadata": {},
     "output_type": "display_data"
    }
   ],
   "source": [
    "import numpy as np\n",
    "import pandas as pd\n",
    "\n",
    "import matplotlib.pyplot as plt\n",
    "import seaborn as sns\n",
    "\n",
    "\n",
    "sns.set()\n",
    "\n",
    "#-------------------- 차트 관련 속성 (한글처리, 그리드) -----------\n",
    "plt.rcParams['font.family']= 'Malgun Gothic'\n",
    "plt.rcParams['axes.unicode_minus'] = False\n",
    "\n",
    "#-------------------- 주피터 , 출력결과 넓이 늘리기 ---------------\n",
    "# from IPython.core.display import display, HTML\n",
    "from IPython.display import display, HTML\n",
    "\n",
    "display(HTML(\"<style>.container{width:100% !important;}</style>\"))\n",
    "pd.set_option('display.max_rows', 100)\n",
    "pd.set_option('display.max_columns', 100)\n",
    "pd.set_option('max_colwidth', None)\n",
    "\n",
    "import warnings\n",
    "warnings.filterwarnings(action='ignore')\n",
    "\n",
    "from keras.layers import Dense, Dropout, Conv2D, MaxPool2D, Flatten\n",
    "from keras import Sequential\n",
    "from keras.initializers import GlorotNormal"
   ]
  },
  {
   "cell_type": "code",
   "execution_count": 2,
   "id": "b7bd1d27-9358-425d-b95c-40231b776b88",
   "metadata": {
    "tags": []
   },
   "outputs": [],
   "source": [
    "import tensorflow as tf\n",
    "tf.random.set_seed(1234)\n",
    "np.random.seed(1234)"
   ]
  },
  {
   "cell_type": "markdown",
   "id": "fee45d6d-ca5d-4aae-827e-621257eb6097",
   "metadata": {},
   "source": [
    "# Data Load"
   ]
  },
  {
   "cell_type": "code",
   "execution_count": 3,
   "id": "51b8385d-32a3-4968-9d2d-fc02f6803774",
   "metadata": {
    "tags": []
   },
   "outputs": [],
   "source": [
    "from keras.datasets import mnist"
   ]
  },
  {
   "cell_type": "code",
   "execution_count": 4,
   "id": "bb836aab-a916-4eda-8aa5-efa123c5f67c",
   "metadata": {
    "tags": []
   },
   "outputs": [
    {
     "data": {
      "text/plain": [
       "((60000, 28, 28), (60000,), (10000, 28, 28), (10000,))"
      ]
     },
     "execution_count": 4,
     "metadata": {},
     "output_type": "execute_result"
    }
   ],
   "source": [
    "(X_train,y_train), (X_test,y_test) = mnist.load_data()\n",
    "X_train.shape, y_train.shape, X_test.shape, y_test.shape"
   ]
  },
  {
   "cell_type": "markdown",
   "id": "dba89b2f-1efa-411d-863c-d63dbcaa59ef",
   "metadata": {},
   "source": [
    "# 전처리 & 가공"
   ]
  },
  {
   "cell_type": "markdown",
   "id": "cf6021bc-0188-4aab-a756-d9f3ca1af504",
   "metadata": {},
   "source": [
    "## Flatten\n",
    "* 이미지 픽셀 (28*28) : 행렬(2D) --> arr(1D)"
   ]
  },
  {
   "cell_type": "code",
   "execution_count": 5,
   "id": "68465b8b-e843-4b63-97aa-6a3c1ccc2755",
   "metadata": {
    "tags": []
   },
   "outputs": [
    {
     "data": {
      "text/plain": [
       "(60000, 28, 28)"
      ]
     },
     "execution_count": 5,
     "metadata": {},
     "output_type": "execute_result"
    }
   ],
   "source": [
    "X_train.shape "
   ]
  },
  {
   "cell_type": "code",
   "execution_count": 6,
   "id": "de566fcd-9176-4e86-b8d7-f87a766c126a",
   "metadata": {
    "tags": []
   },
   "outputs": [],
   "source": [
    "X_train = X_train.reshape(60000, -1)\n",
    "X_test  = X_test.reshape(10000, -1)"
   ]
  },
  {
   "cell_type": "markdown",
   "id": "e04ea85c-a79f-48d9-a034-437a1e93d41b",
   "metadata": {},
   "source": [
    "## 정규화(픽셀값 스케일링)\n",
    "* 0 ~ 255 픽셀값을 0 ~1 값으로 변경\n",
    "* MinMaxScaler()"
   ]
  },
  {
   "cell_type": "code",
   "execution_count": 7,
   "id": "fe6a39d1-2ccf-4a92-b80f-cb71256cdd16",
   "metadata": {
    "tags": []
   },
   "outputs": [],
   "source": [
    "X_train_scaler = X_train / 255.0\n",
    "X_test_scaler  = X_test / 255.0"
   ]
  },
  {
   "cell_type": "markdown",
   "id": "3144cfaf-c7d8-4a85-a2ea-aa4c658befc2",
   "metadata": {},
   "source": [
    "# 모델 (Neural Network, FC(fully connected))"
   ]
  },
  {
   "cell_type": "markdown",
   "id": "34b4d5f3-fe9f-45f3-ab08-e14ee1eca70e",
   "metadata": {},
   "source": [
    "## 모델&학습"
   ]
  },
  {
   "cell_type": "code",
   "execution_count": 8,
   "id": "52ba789f-3bfc-492f-b5ff-8a07a66193cf",
   "metadata": {
    "tags": []
   },
   "outputs": [
    {
     "name": "stdout",
     "output_type": "stream",
     "text": [
      "Model: \"sequential\"\n",
      "_________________________________________________________________\n",
      " Layer (type)                Output Shape              Param #   \n",
      "=================================================================\n",
      " dense (Dense)               (None, 300)               235500    \n",
      "                                                                 \n",
      " dense_1 (Dense)             (None, 100)               30100     \n",
      "                                                                 \n",
      " dense_2 (Dense)             (None, 60)                6060      \n",
      "                                                                 \n",
      " dense_3 (Dense)             (None, 10)                610       \n",
      "                                                                 \n",
      "=================================================================\n",
      "Total params: 272,270\n",
      "Trainable params: 272,270\n",
      "Non-trainable params: 0\n",
      "_________________________________________________________________\n"
     ]
    }
   ],
   "source": [
    "model = Sequential()\n",
    "model.add(Dense(units=300, input_dim=28*28, activation='relu', kernel_initializer='glorot_normal')) #입력층\n",
    "model.add(Dense(units=100,  activation='relu'))              #히든레이어\n",
    "model.add(Dense(units=60,  activation='relu'))              #히든레이어\n",
    "model.add(Dense(units=10,  activation='softmax'))           #출력층  #3종이상도 상관없음 (2종은 sigmoid 써도됨)\n",
    "model.compile(loss='sparse_categorical_crossentropy', optimizer='Adam', metrics=['accuracy'])\n",
    "model.summary()"
   ]
  },
  {
   "cell_type": "code",
   "execution_count": 9,
   "id": "1c66354f-30cd-4308-900c-9ce212872bf5",
   "metadata": {
    "tags": []
   },
   "outputs": [
    {
     "name": "stdout",
     "output_type": "stream",
     "text": [
      "Epoch 1/10\n",
      "375/375 [==============================] - 3s 5ms/step - loss: 0.3157 - accuracy: 0.9093 - val_loss: 0.1497 - val_accuracy: 0.9572\n",
      "Epoch 2/10\n",
      "375/375 [==============================] - 2s 4ms/step - loss: 0.1185 - accuracy: 0.9645 - val_loss: 0.1087 - val_accuracy: 0.9669\n",
      "Epoch 3/10\n",
      "375/375 [==============================] - 2s 5ms/step - loss: 0.0752 - accuracy: 0.9773 - val_loss: 0.1114 - val_accuracy: 0.9673\n",
      "Epoch 4/10\n",
      "375/375 [==============================] - 2s 4ms/step - loss: 0.0540 - accuracy: 0.9827 - val_loss: 0.0957 - val_accuracy: 0.9726\n",
      "Epoch 5/10\n",
      "375/375 [==============================] - 2s 4ms/step - loss: 0.0390 - accuracy: 0.9880 - val_loss: 0.0888 - val_accuracy: 0.9755\n",
      "Epoch 6/10\n",
      "375/375 [==============================] - 2s 4ms/step - loss: 0.0302 - accuracy: 0.9905 - val_loss: 0.0942 - val_accuracy: 0.9730\n",
      "Epoch 7/10\n",
      "375/375 [==============================] - 2s 4ms/step - loss: 0.0242 - accuracy: 0.9922 - val_loss: 0.1035 - val_accuracy: 0.9733\n",
      "Epoch 8/10\n",
      "375/375 [==============================] - 2s 4ms/step - loss: 0.0223 - accuracy: 0.9925 - val_loss: 0.0981 - val_accuracy: 0.9753\n",
      "Epoch 9/10\n",
      "375/375 [==============================] - 2s 4ms/step - loss: 0.0173 - accuracy: 0.9941 - val_loss: 0.0951 - val_accuracy: 0.9773\n",
      "Epoch 10/10\n",
      "375/375 [==============================] - 2s 4ms/step - loss: 0.0153 - accuracy: 0.9947 - val_loss: 0.1068 - val_accuracy: 0.9767\n",
      "<keras.callbacks.History object at 0x000002BAD5271E80>\n",
      "313/313 [==============================] - 0s 2ms/step - loss: 0.0936 - accuracy: 0.9778\n",
      "[0.09356394410133362, 0.9778000116348267]\n"
     ]
    }
   ],
   "source": [
    "fit_hisroty = model.fit(X_train_scaler, y_train , batch_size = 128, validation_split=0.2, epochs=10)\n",
    "print(fit_hisroty)\n",
    "print ( model.evaluate(X_test_scaler, y_test)  )"
   ]
  },
  {
   "cell_type": "markdown",
   "id": "33ff147a-9de2-4936-99da-52f038507e48",
   "metadata": {},
   "source": [
    "## 평가 시각화"
   ]
  },
  {
   "cell_type": "code",
   "execution_count": 10,
   "id": "062cb020-e04c-4edb-8f60-bb7542cb8009",
   "metadata": {
    "tags": []
   },
   "outputs": [
    {
     "data": {
      "image/png": "[encoded data removed]",
      "text/plain": [
       "<Figure size 600x300 with 2 Axes>"
      ]
     },
     "metadata": {},
     "output_type": "display_data"
    }
   ],
   "source": [
    "plt.figure(figsize=(6,3))\n",
    "ax1 = plt.subplot(1,2,1)\n",
    "ax1.plot(fit_hisroty.history['loss']    , label='loss')\n",
    "ax1.plot(fit_hisroty.history['val_loss'], label='val_loss')\n",
    "ax1.legend()\n",
    "ax1.set_title(\"loss\")\n",
    "\n",
    "ax2 = plt.subplot(1,2,2)\n",
    "ax2.plot(fit_hisroty.history['accuracy']    , label='accuracy')\n",
    "ax2.plot(fit_hisroty.history['val_accuracy'], label='val_accuracy')\n",
    "ax2.legend()\n",
    "ax2.set_title(\"accuracy\")\n",
    "\n",
    "plt.show()"
   ]
  },
  {
   "cell_type": "markdown",
   "id": "0dbd426e-e8ea-4910-b6a3-5e60cd0d7803",
   "metadata": {},
   "source": [
    "# 합성곱신경망 (CNN : convolution NN)"
   ]
  },
  {
   "cell_type": "markdown",
   "id": "28433bba-e80c-409c-a0ea-2be3e6664e45",
   "metadata": {},
   "source": [
    "<img src=\"https://codetorial.net/tensorflow/_images/convolutional_neural_network_05.png\" width=700>\n",
    "\n",
    "- ref : https://towardsdatascience.com/a-comprehensive-guide-to-convolutional-neural-networks-the-eli5-way-3bd2b1164a53\n",
    "\n",
    "<img src = 'https://miro.medium.com/v2/resize:fit:640/format:webp/1*uAeANQIOQPqWZnnuH-VEyw.jpeg'>"
   ]
  },
  {
   "cell_type": "code",
   "execution_count": 11,
   "id": "62214623-045e-4345-a841-5119b452012c",
   "metadata": {
    "tags": []
   },
   "outputs": [],
   "source": [
    "from keras.layers import Dense, Dropout, Conv2D, MaxPool2D, Flatten\n",
    "from keras.initializers import GlorotNormal,HeNormal  "
   ]
  },
  {
   "cell_type": "markdown",
   "id": "e34e56ed-38b3-42e2-bfbf-2379d1fbcad4",
   "metadata": {
    "tags": []
   },
   "source": [
    "## Conv2D\n",
    "<pre>\n",
    "<b>tf.keras.layers.Conv2D( filters, kernel_size, strides=(1, 1), padding='valid', activation=None, kernel_initializer='glorot_uniform',</b> data_format=None, dilation_rate=(1, 1), groups=1, use_bias=True,  bias_initializer='zeros', kernel_regularizer=None, bias_regularizer=None, activity_regularizer=None, kernel_constraint=None,\n",
    "    bias_constraint=None, **kwargs)\n",
    "\n",
    "<b>tf.keras.layers.MaxPooling2D( pool_size, strides=None, padding='valid',</b> data_format=None,   **kwargs)"
   ]
  },
  {
   "cell_type": "code",
   "execution_count": 37,
   "id": "b6ed85ea-e33d-4787-b397-2c244f09624f",
   "metadata": {
    "tags": []
   },
   "outputs": [
    {
     "name": "stdout",
     "output_type": "stream",
     "text": [
      "Model: \"sequential_2\"\n",
      "_________________________________________________________________\n",
      " Layer (type)                Output Shape              Param #   \n",
      "=================================================================\n",
      " conv2d_2 (Conv2D)           (None, 24, 24, 16)        416       \n",
      "                                                                 \n",
      " max_pooling2d_2 (MaxPooling  (None, 12, 12, 16)       0         \n",
      " 2D)                                                             \n",
      "                                                                 \n",
      " conv2d_3 (Conv2D)           (None, 8, 8, 24)          9624      \n",
      "                                                                 \n",
      " max_pooling2d_3 (MaxPooling  (None, 4, 4, 24)         0         \n",
      " 2D)                                                             \n",
      "                                                                 \n",
      " flatten_1 (Flatten)         (None, 384)               0         \n",
      "                                                                 \n",
      " dense_6 (Dense)             (None, 50)                19250     \n",
      "                                                                 \n",
      " dense_7 (Dense)             (None, 10)                510       \n",
      "                                                                 \n",
      "=================================================================\n",
      "Total params: 29,800\n",
      "Trainable params: 29,800\n",
      "Non-trainable params: 0\n",
      "_________________________________________________________________\n"
     ]
    }
   ],
   "source": [
    "model = Sequential()\n",
    "# ========= CNN ==============\n",
    "model.add(Conv2D( filters = 16 ,input_shape =(28,28,1), kernel_size = (5,5), activation='relu', kernel_initializer='glorot_uniform'))\n",
    "model.add(MaxPool2D( pool_size=(2, 2), padding='valid'))\n",
    "model.add(Conv2D(24 , kernel_size = (5,5), activation='relu'))\n",
    "model.add(MaxPool2D( pool_size=(2, 2)))\n",
    "\n",
    "# ========= Fully Connected ==============\n",
    "model.add(Flatten())\n",
    "model.add(Dense(50, activation='relu'))      # 은닉층 - > 많이 줄 필요 없음, 이미 학습완료\n",
    "model.add(Dense(10,activation='softmax'))   # 출력층 - >  출력 수 맞추기, 회귀는 activation 필요없음\n",
    "model.compile(loss='sparse_categorical_crossentropy', optimizer='Adam', metrics=['accuracy'])\n",
    "\n",
    "model.summary()"
   ]
  },
  {
   "cell_type": "markdown",
   "id": "db23fde3-e32d-42e1-9194-e16d2137960f",
   "metadata": {},
   "source": [
    "- fc 파라미터 : 272,270\n",
    "- CNN 파라미터 : 29,800\n",
    "CNN이 훨씬 축소됨"
   ]
  },
  {
   "cell_type": "code",
   "execution_count": 18,
   "id": "c98cb851-abe9-4df5-8e55-569bf5d39bd2",
   "metadata": {
    "tags": []
   },
   "outputs": [
    {
     "data": {
      "text/plain": [
       "((60000, 28, 28, 1), (10000, 28, 28, 1))"
      ]
     },
     "execution_count": 18,
     "metadata": {},
     "output_type": "execute_result"
    }
   ],
   "source": [
    "X_train_scaler.shape, X_test_scaler.shape"
   ]
  },
  {
   "cell_type": "code",
   "execution_count": 14,
   "id": "289d86f0-6c4d-4d07-aa1a-c36ef3332104",
   "metadata": {
    "tags": []
   },
   "outputs": [],
   "source": [
    "X_train_scaler = X_train_scaler.reshape(-1,28,28,1)\n",
    "\n",
    "X_test_scaler = X_test_scaler.reshape(-1,28,28,1)"
   ]
  },
  {
   "cell_type": "code",
   "execution_count": 15,
   "id": "53dcf010-c976-4ff4-a11a-0c379521a1e6",
   "metadata": {
    "tags": []
   },
   "outputs": [
    {
     "data": {
      "text/plain": [
       "((60000, 28, 28, 1), (10000, 28, 28, 1))"
      ]
     },
     "execution_count": 15,
     "metadata": {},
     "output_type": "execute_result"
    }
   ],
   "source": [
    "X_train_scaler.shape, X_test_scaler.shape"
   ]
  },
  {
   "cell_type": "code",
   "execution_count": 17,
   "id": "168365af-d115-45fa-932c-be4721b2cb71",
   "metadata": {
    "tags": []
   },
   "outputs": [
    {
     "name": "stdout",
     "output_type": "stream",
     "text": [
      "Epoch 1/10\n",
      "375/375 [==============================] - 11s 28ms/step - loss: 0.3534 - accuracy: 0.8943 - val_loss: 0.1248 - val_accuracy: 0.9629\n",
      "Epoch 2/10\n",
      "375/375 [==============================] - 10s 28ms/step - loss: 0.0947 - accuracy: 0.9707 - val_loss: 0.0732 - val_accuracy: 0.9780\n",
      "Epoch 3/10\n",
      "375/375 [==============================] - 10s 28ms/step - loss: 0.0663 - accuracy: 0.9797 - val_loss: 0.0636 - val_accuracy: 0.9808\n",
      "Epoch 4/10\n",
      "375/375 [==============================] - 10s 28ms/step - loss: 0.0512 - accuracy: 0.9848 - val_loss: 0.0611 - val_accuracy: 0.9805\n",
      "Epoch 5/10\n",
      "375/375 [==============================] - 10s 28ms/step - loss: 0.0438 - accuracy: 0.9865 - val_loss: 0.0476 - val_accuracy: 0.9858\n",
      "Epoch 6/10\n",
      "375/375 [==============================] - 10s 28ms/step - loss: 0.0374 - accuracy: 0.9890 - val_loss: 0.0449 - val_accuracy: 0.9864\n",
      "Epoch 7/10\n",
      "375/375 [==============================] - 11s 28ms/step - loss: 0.0331 - accuracy: 0.9894 - val_loss: 0.0466 - val_accuracy: 0.9858\n",
      "Epoch 8/10\n",
      "375/375 [==============================] - 11s 28ms/step - loss: 0.0295 - accuracy: 0.9910 - val_loss: 0.0421 - val_accuracy: 0.9868\n",
      "Epoch 9/10\n",
      "375/375 [==============================] - 11s 28ms/step - loss: 0.0251 - accuracy: 0.9921 - val_loss: 0.0426 - val_accuracy: 0.9867\n",
      "Epoch 10/10\n",
      "375/375 [==============================] - 11s 28ms/step - loss: 0.0228 - accuracy: 0.9929 - val_loss: 0.0450 - val_accuracy: 0.9856\n",
      "<keras.callbacks.History object at 0x000002BAD9A44B80>\n",
      "313/313 [==============================] - 1s 3ms/step - loss: 0.0334 - accuracy: 0.9883\n",
      "[0.03341473639011383, 0.9883000254631042]\n"
     ]
    }
   ],
   "source": [
    "fit_hisroty = model.fit(X_train_scaler, y_train , batch_size = 128, validation_split=0.2, epochs=10)\n",
    "print(fit_hisroty)\n",
    "print ( model.evaluate(X_test_scaler, y_test)  )"
   ]
  },
  {
   "cell_type": "markdown",
   "id": "16745d8b-5662-43d4-8e3f-240c4971a0f0",
   "metadata": {},
   "source": [
    "## 평가 시각화"
   ]
  },
  {
   "cell_type": "code",
   "execution_count": 35,
   "id": "869829fb-3f3e-4a16-846a-fd1878fc5c30",
   "metadata": {
    "tags": []
   },
   "outputs": [
    {
     "data": {
      "image/png": "[encoded data removed]",
      "text/plain": [
       "<Figure size 600x300 with 2 Axes>"
      ]
     },
     "metadata": {},
     "output_type": "display_data"
    }
   ],
   "source": [
    "plt.figure(figsize=(6,3))\n",
    "ax1 = plt.subplot(1,2,1)\n",
    "ax1.plot(fit_hisroty.history['loss']    , label='loss')\n",
    "ax1.plot(fit_hisroty.history['val_loss'], label='val_loss')\n",
    "ax1.legend()\n",
    "ax1.set_title(\"loss\")\n",
    "\n",
    "ax2 = plt.subplot(1,2,2)\n",
    "ax2.plot(fit_hisroty.history['accuracy']    , label='accuracy')\n",
    "ax2.plot(fit_hisroty.history['val_accuracy'], label='val_accuracy')\n",
    "ax2.legend()\n",
    "ax2.set_title(\"accuracy\")\n",
    "\n",
    "plt.show()"
   ]
  },
  {
   "cell_type": "markdown",
   "id": "7ebf890a-c3ce-4c8d-bb49-e1072a44d0ef",
   "metadata": {
    "tags": []
   },
   "source": [
    "## 성능비교 (fc  vs  CNN)\n",
    "- fc : [0.09356394410133362, 0.9778000116348267] -> loss,accuracy\n",
    "- CNN : [0.03341473639011383, 0.9883000254631042] -> loss,accuracy"
   ]
  }
 ],
 "metadata": {
  "kernelspec": {
   "display_name": "Python 3 (ipykernel)",
   "language": "python",
   "name": "python3"
  },
  "language_info": {
   "codemirror_mode": {
    "name": "ipython",
    "version": 3
   },
   "file_extension": ".py",
   "mimetype": "text/x-python",
   "name": "python",
   "nbconvert_exporter": "python",
   "pygments_lexer": "ipython3",
   "version": "3.8.8"
  }
 },
 "nbformat": 4,
 "nbformat_minor": 5
}
