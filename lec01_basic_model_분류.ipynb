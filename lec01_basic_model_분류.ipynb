{
 "cells": [
  {
   "cell_type": "markdown",
   "id": "dee4ff0b-ed59-493b-bc2b-61a5a5c24612",
   "metadata": {},
   "source": [
    "- <font size = 6><b>Lec01. 딥러닝 기초"
   ]
  },
  {
   "cell_type": "markdown",
   "id": "2416d383-ac44-46f8-a1f9-9488df707ca0",
   "metadata": {},
   "source": [
    "# TensorFlow & Keras\n",
    "- TensorFlow : 구글에서 만든 기계학습 라이브러리\n",
    "    - ref : https://www.tensorflow.org/tutorials/quickstart/beginner?hl=ko\n",
    "- Keras : 텐서플로우에서 딥러닝 관련 핵심 구성 요소를 제공하는 라이브러리\n",
    "    - ref : https://keras.io/api/models/model/\n",
    "- PYTORCH : 이미지 분석에 특화됨, TensorFlow보다 간단하게 이루어져있음\n"
   ]
  },
  {
   "cell_type": "code",
   "execution_count": 1,
   "id": "af505ac2-912b-4d3a-b2c9-b188a27a2d02",
   "metadata": {
    "tags": []
   },
   "outputs": [
    {
     "data": {
      "text/html": [
       "<style>.container{width:100% !important;}</style>"
      ],
      "text/plain": [
       "<IPython.core.display.HTML object>"
      ]
     },
     "metadata": {},
     "output_type": "display_data"
    }
   ],
   "source": [
    "import numpy as np\n",
    "import pandas as pd\n",
    "\n",
    "import matplotlib.pyplot as plt\n",
    "import seaborn as sns\n",
    "\n",
    "sns.set()\n",
    "\n",
    "#-------------------- 차트 관련 속성 (한글처리, 그리드) -----------\n",
    "plt.rcParams['font.family']= 'Malgun Gothic'\n",
    "plt.rcParams['axes.unicode_minus'] = False\n",
    "\n",
    "#-------------------- 주피터 , 출력결과 넓이 늘리기 ---------------\n",
    "# from IPython.core.display import display, HTML\n",
    "from IPython.display import display, HTML\n",
    "\n",
    "display(HTML(\"<style>.container{width:100% !important;}</style>\"))\n",
    "pd.set_option('display.max_rows', 100)\n",
    "pd.set_option('display.max_columns', 100)\n",
    "pd.set_option('max_colwidth', None)\n",
    "\n",
    "import warnings\n",
    "warnings.filterwarnings(action='ignore')"
   ]
  },
  {
   "cell_type": "code",
   "execution_count": 2,
   "id": "e78bfb45-2c53-48c8-9d68-de3f8a7a3931",
   "metadata": {
    "tags": []
   },
   "outputs": [],
   "source": [
    "from sklearn.model_selection import train_test_split, cross_val_score, cross_validate, GridSearchCV, KFold, StratifiedKFold\n",
    "from sklearn.metrics import auc, mean_squared_error, mean_squared_log_error, accuracy_score, f1_score, precision_score, recall_score, classification_report, confusion_matrix\n",
    "from sklearn.preprocessing import RobustScaler, MinMaxScaler, StandardScaler, label_binarize\n",
    "\n",
    "from keras import models, layers, Sequential\n",
    "from keras.layers import Dense, Activation\n",
    "from keras.initializers import GlorotNormal"
   ]
  },
  {
   "cell_type": "markdown",
   "id": "d02f40ab-cd6f-4177-8589-9ec21d05331c",
   "metadata": {},
   "source": [
    "- <b>keras.layers.Dense(\n",
    "    units,\n",
    "    activation=None,</b>\n",
    "    use_bias=True,\n",
    "    kernel_initializer=\"glorot_uniform\",\n",
    "    bias_initializer=\"zeros\",\n",
    "    kernel_regularizer=None,\n",
    "    bias_regularizer=None,\n",
    "    activity_regularizer=None,\n",
    "    kernel_constraint=None,\n",
    "    bias_constraint=None,\n",
    "    **kwargs\n",
    ")"
   ]
  },
  {
   "cell_type": "code",
   "execution_count": 3,
   "id": "33ea783f-a362-4b09-9d96-c0d25d255657",
   "metadata": {
    "tags": []
   },
   "outputs": [
    {
     "data": {
      "text/html": [
       "<div>\n",
       "<style scoped>\n",
       "    .dataframe tbody tr th:only-of-type {\n",
       "        vertical-align: middle;\n",
       "    }\n",
       "\n",
       "    .dataframe tbody tr th {\n",
       "        vertical-align: top;\n",
       "    }\n",
       "\n",
       "    .dataframe thead th {\n",
       "        text-align: right;\n",
       "    }\n",
       "</style>\n",
       "<table border=\"1\" class=\"dataframe\">\n",
       "  <thead>\n",
       "    <tr style=\"text-align: right;\">\n",
       "      <th></th>\n",
       "      <th>sl</th>\n",
       "      <th>sw</th>\n",
       "      <th>pl</th>\n",
       "      <th>pw</th>\n",
       "      <th>target</th>\n",
       "    </tr>\n",
       "  </thead>\n",
       "  <tbody>\n",
       "    <tr>\n",
       "      <th>0</th>\n",
       "      <td>5.1</td>\n",
       "      <td>3.5</td>\n",
       "      <td>1.4</td>\n",
       "      <td>0.2</td>\n",
       "      <td>0</td>\n",
       "    </tr>\n",
       "    <tr>\n",
       "      <th>1</th>\n",
       "      <td>4.9</td>\n",
       "      <td>3.0</td>\n",
       "      <td>1.4</td>\n",
       "      <td>0.2</td>\n",
       "      <td>0</td>\n",
       "    </tr>\n",
       "    <tr>\n",
       "      <th>2</th>\n",
       "      <td>4.7</td>\n",
       "      <td>3.2</td>\n",
       "      <td>1.3</td>\n",
       "      <td>0.2</td>\n",
       "      <td>0</td>\n",
       "    </tr>\n",
       "    <tr>\n",
       "      <th>3</th>\n",
       "      <td>4.6</td>\n",
       "      <td>3.1</td>\n",
       "      <td>1.5</td>\n",
       "      <td>0.2</td>\n",
       "      <td>0</td>\n",
       "    </tr>\n",
       "    <tr>\n",
       "      <th>4</th>\n",
       "      <td>5.0</td>\n",
       "      <td>3.6</td>\n",
       "      <td>1.4</td>\n",
       "      <td>0.2</td>\n",
       "      <td>0</td>\n",
       "    </tr>\n",
       "  </tbody>\n",
       "</table>\n",
       "</div>"
      ],
      "text/plain": [
       "    sl   sw   pl   pw  target\n",
       "0  5.1  3.5  1.4  0.2       0\n",
       "1  4.9  3.0  1.4  0.2       0\n",
       "2  4.7  3.2  1.3  0.2       0\n",
       "3  4.6  3.1  1.5  0.2       0\n",
       "4  5.0  3.6  1.4  0.2       0"
      ]
     },
     "execution_count": 3,
     "metadata": {},
     "output_type": "execute_result"
    }
   ],
   "source": [
    "df = pd.read_csv('../ML/datasets/iris.csv')\n",
    "df.head()"
   ]
  },
  {
   "cell_type": "code",
   "execution_count": 4,
   "id": "54393210-817e-4baf-ae4a-fe3b7b799697",
   "metadata": {
    "tags": []
   },
   "outputs": [],
   "source": [
    "from sklearn.model_selection import train_test_split"
   ]
  },
  {
   "cell_type": "code",
   "execution_count": 5,
   "id": "7ff5ef3b-3278-485f-b104-b2893962936c",
   "metadata": {
    "tags": []
   },
   "outputs": [],
   "source": [
    "y = df['target']\n",
    "X = df.drop(['target'], axis=1)"
   ]
  },
  {
   "cell_type": "markdown",
   "id": "d1e05a15-e3e2-4bde-8866-7edcca331be4",
   "metadata": {},
   "source": [
    "## sparse_categorical_crossentropy\n",
    "* target값이 int인 경우 : sparse_categorical_crossentropy\n",
    "- 예 : 0,1,2,3,4,5,6,7,8,9 같은 느낌"
   ]
  },
  {
   "cell_type": "code",
   "execution_count": 6,
   "id": "2606f04c-7ee2-447f-8ee7-7a17acff8e40",
   "metadata": {
    "tags": []
   },
   "outputs": [
    {
     "name": "stdout",
     "output_type": "stream",
     "text": [
      "8      0\n",
      "23     0\n",
      "101    2\n",
      "49     0\n",
      "111    2\n",
      "Name: target, dtype: int64\n"
     ]
    }
   ],
   "source": [
    "X_train,X_test, y_train, y_test = train_test_split(X, y , test_size=0.2, random_state=11, stratify=y)\n",
    "X_train.shape,X_test.shape, y_train.shape, y_test.shape\n",
    "print(y_train[:5])"
   ]
  },
  {
   "cell_type": "markdown",
   "id": "2b61ec92-1d40-4972-836a-82bd74c5229f",
   "metadata": {
    "tags": []
   },
   "source": [
    "## categorical_crossentropy\n",
    "* target값이 categorical(one-hot)인 경우 : categorical_crossentropy\n",
    "- binary : 2종\n",
    "- categorical : 3종 이상"
   ]
  },
  {
   "cell_type": "code",
   "execution_count": 7,
   "id": "18bd5442-f6d4-4111-ae58-12ab5dffa2f6",
   "metadata": {
    "tags": []
   },
   "outputs": [
    {
     "name": "stdout",
     "output_type": "stream",
     "text": [
      "   0  1  2\n",
      "0  1  0  0\n",
      "1  1  0  0\n",
      "2  1  0  0\n",
      "3  1  0  0\n",
      "4  1  0  0\n",
      "[[1 0 0]\n",
      " [1 0 0]\n",
      " [1 0 0]\n",
      " [1 0 0]\n",
      " [1 0 0]]\n"
     ]
    }
   ],
   "source": [
    "yc = pd.get_dummies(y)\n",
    "print(yc[:5])\n",
    "\n",
    "from keras.utils import to_categorical\n",
    "yc2 = to_categorical(y, num_classes=3, dtype='int')\n",
    "print(yc2[:5])\n"
   ]
  },
  {
   "cell_type": "code",
   "execution_count": 8,
   "id": "7054b376-c133-41e2-b281-6039d8f385a3",
   "metadata": {
    "tags": []
   },
   "outputs": [
    {
     "name": "stdout",
     "output_type": "stream",
     "text": [
      "     0  1  2\n",
      "8    1  0  0\n",
      "23   1  0  0\n",
      "101  0  0  1\n",
      "49   1  0  0\n",
      "111  0  0  1\n"
     ]
    },
    {
     "data": {
      "text/plain": [
       "((120, 4), (30, 4), (120, 3), (30, 3))"
      ]
     },
     "execution_count": 8,
     "metadata": {},
     "output_type": "execute_result"
    }
   ],
   "source": [
    "X_train,X_test, y_train, y_test = train_test_split(X, yc , test_size=0.2, random_state=11, stratify=y)\n",
    "X_train.shape,X_test.shape, y_train.shape, y_test.shape\n",
    "print(y_train[:5])\n",
    "X_train.shape,X_test.shape, y_train.shape, y_test.shape"
   ]
  },
  {
   "cell_type": "code",
   "execution_count": 9,
   "id": "f1025188-d768-4959-9b89-3e302b5b66df",
   "metadata": {
    "tags": []
   },
   "outputs": [
    {
     "data": {
      "text/html": [
       "<div>\n",
       "<style scoped>\n",
       "    .dataframe tbody tr th:only-of-type {\n",
       "        vertical-align: middle;\n",
       "    }\n",
       "\n",
       "    .dataframe tbody tr th {\n",
       "        vertical-align: top;\n",
       "    }\n",
       "\n",
       "    .dataframe thead th {\n",
       "        text-align: right;\n",
       "    }\n",
       "</style>\n",
       "<table border=\"1\" class=\"dataframe\">\n",
       "  <thead>\n",
       "    <tr style=\"text-align: right;\">\n",
       "      <th></th>\n",
       "      <th>sl</th>\n",
       "      <th>sw</th>\n",
       "      <th>pl</th>\n",
       "      <th>pw</th>\n",
       "    </tr>\n",
       "  </thead>\n",
       "  <tbody>\n",
       "    <tr>\n",
       "      <th>8</th>\n",
       "      <td>4.4</td>\n",
       "      <td>2.9</td>\n",
       "      <td>1.4</td>\n",
       "      <td>0.2</td>\n",
       "    </tr>\n",
       "    <tr>\n",
       "      <th>23</th>\n",
       "      <td>5.1</td>\n",
       "      <td>3.3</td>\n",
       "      <td>1.7</td>\n",
       "      <td>0.5</td>\n",
       "    </tr>\n",
       "    <tr>\n",
       "      <th>101</th>\n",
       "      <td>5.8</td>\n",
       "      <td>2.7</td>\n",
       "      <td>5.1</td>\n",
       "      <td>1.9</td>\n",
       "    </tr>\n",
       "    <tr>\n",
       "      <th>49</th>\n",
       "      <td>5.0</td>\n",
       "      <td>3.3</td>\n",
       "      <td>1.4</td>\n",
       "      <td>0.2</td>\n",
       "    </tr>\n",
       "    <tr>\n",
       "      <th>111</th>\n",
       "      <td>6.4</td>\n",
       "      <td>2.7</td>\n",
       "      <td>5.3</td>\n",
       "      <td>1.9</td>\n",
       "    </tr>\n",
       "  </tbody>\n",
       "</table>\n",
       "</div>"
      ],
      "text/plain": [
       "      sl   sw   pl   pw\n",
       "8    4.4  2.9  1.4  0.2\n",
       "23   5.1  3.3  1.7  0.5\n",
       "101  5.8  2.7  5.1  1.9\n",
       "49   5.0  3.3  1.4  0.2\n",
       "111  6.4  2.7  5.3  1.9"
      ]
     },
     "execution_count": 9,
     "metadata": {},
     "output_type": "execute_result"
    }
   ],
   "source": [
    "X_train.head()"
   ]
  },
  {
   "cell_type": "code",
   "execution_count": 10,
   "id": "267fb4c3-b0a1-4ae4-9ffc-6d5fe3bd08a9",
   "metadata": {
    "tags": []
   },
   "outputs": [
    {
     "data": {
      "text/html": [
       "<div>\n",
       "<style scoped>\n",
       "    .dataframe tbody tr th:only-of-type {\n",
       "        vertical-align: middle;\n",
       "    }\n",
       "\n",
       "    .dataframe tbody tr th {\n",
       "        vertical-align: top;\n",
       "    }\n",
       "\n",
       "    .dataframe thead th {\n",
       "        text-align: right;\n",
       "    }\n",
       "</style>\n",
       "<table border=\"1\" class=\"dataframe\">\n",
       "  <thead>\n",
       "    <tr style=\"text-align: right;\">\n",
       "      <th></th>\n",
       "      <th>0</th>\n",
       "      <th>1</th>\n",
       "      <th>2</th>\n",
       "    </tr>\n",
       "  </thead>\n",
       "  <tbody>\n",
       "    <tr>\n",
       "      <th>8</th>\n",
       "      <td>1</td>\n",
       "      <td>0</td>\n",
       "      <td>0</td>\n",
       "    </tr>\n",
       "    <tr>\n",
       "      <th>23</th>\n",
       "      <td>1</td>\n",
       "      <td>0</td>\n",
       "      <td>0</td>\n",
       "    </tr>\n",
       "    <tr>\n",
       "      <th>101</th>\n",
       "      <td>0</td>\n",
       "      <td>0</td>\n",
       "      <td>1</td>\n",
       "    </tr>\n",
       "    <tr>\n",
       "      <th>49</th>\n",
       "      <td>1</td>\n",
       "      <td>0</td>\n",
       "      <td>0</td>\n",
       "    </tr>\n",
       "    <tr>\n",
       "      <th>111</th>\n",
       "      <td>0</td>\n",
       "      <td>0</td>\n",
       "      <td>1</td>\n",
       "    </tr>\n",
       "  </tbody>\n",
       "</table>\n",
       "</div>"
      ],
      "text/plain": [
       "     0  1  2\n",
       "8    1  0  0\n",
       "23   1  0  0\n",
       "101  0  0  1\n",
       "49   1  0  0\n",
       "111  0  0  1"
      ]
     },
     "execution_count": 10,
     "metadata": {},
     "output_type": "execute_result"
    }
   ],
   "source": [
    "y_train.head()"
   ]
  },
  {
   "cell_type": "markdown",
   "id": "21eb7688-a5c2-4c4b-85e6-b725bd67015e",
   "metadata": {},
   "source": [
    "-----"
   ]
  },
  {
   "cell_type": "code",
   "execution_count": 11,
   "id": "16601f85-e027-49d8-bccb-2aeb9117f6d5",
   "metadata": {
    "tags": []
   },
   "outputs": [],
   "source": [
    "model = models.Sequential()\n",
    "# 입력층 ====================================================\n",
    "model.add(layers.Dense(units = 10,input_dim = 4, activation = 'relu', kernel_initializer= GlorotNormal()\n",
    "))\n",
    "# 히든 레이어 ===============================================\n",
    "model.add(layers.Dense(units = 6, activation = 'relu'))\n",
    "model.add(layers.Dense(units = 6, activation = 'relu'))\n",
    "# 출력 층 ===================================================\n",
    "model.add(layers.Dense(units = 3, activation = 'softmax')) \n",
    "\n",
    "# target 값이 수치형(int)인 경우 :sparse_categorical_crossentropy 사용\n",
    "model.compile(loss = 'sparse_categorical_crossentropy', optimizer = 'Adam', metrics = ['accuracy'])\n",
    "\n",
    "# target이 범주형인 경우 : y_cat = pd.get_dummies(y)\n",
    "# model.compile(loss = 'categorical_crossentropy', optimizer = 'Adam', metrics = ['accuracy'])\n"
   ]
  },
  {
   "cell_type": "code",
   "execution_count": 12,
   "id": "a50a936e-fdd9-4bc0-a816-0a0a0594084a",
   "metadata": {
    "tags": []
   },
   "outputs": [
    {
     "name": "stdout",
     "output_type": "stream",
     "text": [
      "Model: \"sequential\"\n",
      "_________________________________________________________________\n",
      " Layer (type)                Output Shape              Param #   \n",
      "=================================================================\n",
      " dense (Dense)               (None, 10)                50        \n",
      "                                                                 \n",
      " dense_1 (Dense)             (None, 6)                 66        \n",
      "                                                                 \n",
      " dense_2 (Dense)             (None, 6)                 42        \n",
      "                                                                 \n",
      " dense_3 (Dense)             (None, 3)                 21        \n",
      "                                                                 \n",
      "=================================================================\n",
      "Total params: 179\n",
      "Trainable params: 179\n",
      "Non-trainable params: 0\n",
      "_________________________________________________________________\n"
     ]
    }
   ],
   "source": [
    "model.summary()"
   ]
  },
  {
   "cell_type": "code",
   "execution_count": 13,
   "id": "76c5b08b-f930-4673-92cd-b1952e9abfc0",
   "metadata": {
    "tags": []
   },
   "outputs": [],
   "source": [
    "from sklearn.model_selection import train_test_split\n",
    "X = df.drop('target',axis=1)\n",
    "y = df['target']\n",
    "\n",
    "X_train, X_test, y_train, y_test = train_test_split(X,y,test_size=0.2,random_state=1, stratify=y)"
   ]
  },
  {
   "cell_type": "markdown",
   "id": "ee06f139-862e-4090-9f50-b6bafb8a85df",
   "metadata": {},
   "source": [
    "- <b>epochs</b>=100 -> 가중치 조정을 100번 하겠다"
   ]
  },
  {
   "cell_type": "code",
   "execution_count": 14,
   "id": "51a4139e-0541-472d-8a62-7eb7025ce61a",
   "metadata": {
    "tags": []
   },
   "outputs": [
    {
     "name": "stdout",
     "output_type": "stream",
     "text": [
      "Epoch 1/50\n",
      "4/4 [==============================] - 1s 88ms/step - loss: 1.4277 - accuracy: 0.3333 - val_loss: 1.3692 - val_accuracy: 0.3333\n",
      "Epoch 2/50\n",
      "4/4 [==============================] - 0s 12ms/step - loss: 1.3392 - accuracy: 0.3333 - val_loss: 1.2844 - val_accuracy: 0.3333\n",
      "Epoch 3/50\n",
      "4/4 [==============================] - 0s 12ms/step - loss: 1.2555 - accuracy: 0.3333 - val_loss: 1.2089 - val_accuracy: 0.3333\n",
      "Epoch 4/50\n",
      "4/4 [==============================] - 0s 11ms/step - loss: 1.1843 - accuracy: 0.3333 - val_loss: 1.1419 - val_accuracy: 0.3333\n",
      "Epoch 5/50\n",
      "4/4 [==============================] - 0s 12ms/step - loss: 1.1195 - accuracy: 0.3333 - val_loss: 1.0902 - val_accuracy: 0.3333\n",
      "Epoch 6/50\n",
      "4/4 [==============================] - 0s 11ms/step - loss: 1.0748 - accuracy: 0.3333 - val_loss: 1.0508 - val_accuracy: 0.3333\n",
      "Epoch 7/50\n",
      "4/4 [==============================] - 0s 12ms/step - loss: 1.0367 - accuracy: 0.3333 - val_loss: 1.0240 - val_accuracy: 0.3333\n",
      "Epoch 8/50\n",
      "4/4 [==============================] - 0s 11ms/step - loss: 1.0100 - accuracy: 0.3333 - val_loss: 1.0010 - val_accuracy: 0.3333\n",
      "Epoch 9/50\n",
      "4/4 [==============================] - 0s 11ms/step - loss: 0.9865 - accuracy: 0.3333 - val_loss: 0.9815 - val_accuracy: 0.3333\n",
      "Epoch 10/50\n",
      "4/4 [==============================] - 0s 11ms/step - loss: 0.9705 - accuracy: 0.3333 - val_loss: 0.9669 - val_accuracy: 0.3333\n",
      "Epoch 11/50\n",
      "4/4 [==============================] - 0s 11ms/step - loss: 0.9563 - accuracy: 0.3333 - val_loss: 0.9574 - val_accuracy: 0.3333\n",
      "Epoch 12/50\n",
      "4/4 [==============================] - 0s 11ms/step - loss: 0.9459 - accuracy: 0.3333 - val_loss: 0.9489 - val_accuracy: 0.3333\n",
      "Epoch 13/50\n",
      "4/4 [==============================] - 0s 12ms/step - loss: 0.9380 - accuracy: 0.3333 - val_loss: 0.9405 - val_accuracy: 0.3333\n",
      "Epoch 14/50\n",
      "4/4 [==============================] - 0s 11ms/step - loss: 0.9289 - accuracy: 0.3333 - val_loss: 0.9324 - val_accuracy: 0.3333\n",
      "Epoch 15/50\n",
      "4/4 [==============================] - 0s 11ms/step - loss: 0.9216 - accuracy: 0.3333 - val_loss: 0.9266 - val_accuracy: 0.3333\n",
      "Epoch 16/50\n",
      "4/4 [==============================] - 0s 11ms/step - loss: 0.9157 - accuracy: 0.3333 - val_loss: 0.9217 - val_accuracy: 0.3333\n",
      "Epoch 17/50\n",
      "4/4 [==============================] - 0s 12ms/step - loss: 0.9107 - accuracy: 0.3333 - val_loss: 0.9171 - val_accuracy: 0.3333\n",
      "Epoch 18/50\n",
      "4/4 [==============================] - 0s 11ms/step - loss: 0.9063 - accuracy: 0.3333 - val_loss: 0.9125 - val_accuracy: 0.3333\n",
      "Epoch 19/50\n",
      "4/4 [==============================] - 0s 11ms/step - loss: 0.9014 - accuracy: 0.3333 - val_loss: 0.9077 - val_accuracy: 0.3333\n",
      "Epoch 20/50\n",
      "4/4 [==============================] - 0s 12ms/step - loss: 0.8964 - accuracy: 0.3333 - val_loss: 0.9027 - val_accuracy: 0.3333\n",
      "Epoch 21/50\n",
      "4/4 [==============================] - 0s 12ms/step - loss: 0.8917 - accuracy: 0.3333 - val_loss: 0.8978 - val_accuracy: 0.3333\n",
      "Epoch 22/50\n",
      "4/4 [==============================] - 0s 11ms/step - loss: 0.8863 - accuracy: 0.3333 - val_loss: 0.8927 - val_accuracy: 0.3333\n",
      "Epoch 23/50\n",
      "4/4 [==============================] - 0s 11ms/step - loss: 0.8815 - accuracy: 0.3333 - val_loss: 0.8877 - val_accuracy: 0.3333\n",
      "Epoch 24/50\n",
      "4/4 [==============================] - 0s 20ms/step - loss: 0.8767 - accuracy: 0.3500 - val_loss: 0.8826 - val_accuracy: 0.3667\n",
      "Epoch 25/50\n",
      "4/4 [==============================] - 0s 11ms/step - loss: 0.8721 - accuracy: 0.3750 - val_loss: 0.8774 - val_accuracy: 0.4333\n",
      "Epoch 26/50\n",
      "4/4 [==============================] - 0s 11ms/step - loss: 0.8670 - accuracy: 0.4833 - val_loss: 0.8724 - val_accuracy: 0.4667\n",
      "Epoch 27/50\n",
      "4/4 [==============================] - 0s 11ms/step - loss: 0.8625 - accuracy: 0.5250 - val_loss: 0.8675 - val_accuracy: 0.5333\n",
      "Epoch 28/50\n",
      "4/4 [==============================] - 0s 11ms/step - loss: 0.8581 - accuracy: 0.5500 - val_loss: 0.8628 - val_accuracy: 0.5667\n",
      "Epoch 29/50\n",
      "4/4 [==============================] - 0s 11ms/step - loss: 0.8534 - accuracy: 0.5833 - val_loss: 0.8585 - val_accuracy: 0.5667\n",
      "Epoch 30/50\n",
      "4/4 [==============================] - 0s 11ms/step - loss: 0.8494 - accuracy: 0.5833 - val_loss: 0.8548 - val_accuracy: 0.6000\n",
      "Epoch 31/50\n",
      "4/4 [==============================] - 0s 11ms/step - loss: 0.8457 - accuracy: 0.6000 - val_loss: 0.8515 - val_accuracy: 0.6667\n",
      "Epoch 32/50\n",
      "4/4 [==============================] - 0s 11ms/step - loss: 0.8425 - accuracy: 0.6167 - val_loss: 0.8484 - val_accuracy: 0.6667\n",
      "Epoch 33/50\n",
      "4/4 [==============================] - 0s 11ms/step - loss: 0.8397 - accuracy: 0.6333 - val_loss: 0.8454 - val_accuracy: 0.6667\n",
      "Epoch 34/50\n",
      "4/4 [==============================] - 0s 11ms/step - loss: 0.8372 - accuracy: 0.6333 - val_loss: 0.8426 - val_accuracy: 0.6667\n",
      "Epoch 35/50\n",
      "4/4 [==============================] - 0s 12ms/step - loss: 0.8346 - accuracy: 0.6333 - val_loss: 0.8399 - val_accuracy: 0.6667\n",
      "Epoch 36/50\n",
      "4/4 [==============================] - 0s 11ms/step - loss: 0.8322 - accuracy: 0.6417 - val_loss: 0.8372 - val_accuracy: 0.6667\n",
      "Epoch 37/50\n",
      "4/4 [==============================] - 0s 11ms/step - loss: 0.8298 - accuracy: 0.6500 - val_loss: 0.8346 - val_accuracy: 0.6667\n",
      "Epoch 38/50\n",
      "4/4 [==============================] - 0s 12ms/step - loss: 0.8272 - accuracy: 0.6500 - val_loss: 0.8318 - val_accuracy: 0.6667\n",
      "Epoch 39/50\n",
      "4/4 [==============================] - 0s 11ms/step - loss: 0.8248 - accuracy: 0.6500 - val_loss: 0.8293 - val_accuracy: 0.6667\n",
      "Epoch 40/50\n",
      "4/4 [==============================] - 0s 11ms/step - loss: 0.8223 - accuracy: 0.6500 - val_loss: 0.8268 - val_accuracy: 0.6667\n",
      "Epoch 41/50\n",
      "4/4 [==============================] - 0s 11ms/step - loss: 0.8198 - accuracy: 0.6500 - val_loss: 0.8242 - val_accuracy: 0.6667\n",
      "Epoch 42/50\n",
      "4/4 [==============================] - 0s 11ms/step - loss: 0.8172 - accuracy: 0.6583 - val_loss: 0.8216 - val_accuracy: 0.6667\n",
      "Epoch 43/50\n",
      "4/4 [==============================] - 0s 11ms/step - loss: 0.8146 - accuracy: 0.6667 - val_loss: 0.8186 - val_accuracy: 0.6667\n",
      "Epoch 44/50\n",
      "4/4 [==============================] - 0s 11ms/step - loss: 0.8115 - accuracy: 0.6667 - val_loss: 0.8152 - val_accuracy: 0.6667\n",
      "Epoch 45/50\n",
      "4/4 [==============================] - 0s 11ms/step - loss: 0.8083 - accuracy: 0.6667 - val_loss: 0.8117 - val_accuracy: 0.6667\n",
      "Epoch 46/50\n",
      "4/4 [==============================] - 0s 11ms/step - loss: 0.8048 - accuracy: 0.6667 - val_loss: 0.8081 - val_accuracy: 0.6667\n",
      "Epoch 47/50\n",
      "4/4 [==============================] - 0s 11ms/step - loss: 0.8008 - accuracy: 0.6667 - val_loss: 0.8044 - val_accuracy: 0.6667\n",
      "Epoch 48/50\n",
      "4/4 [==============================] - 0s 11ms/step - loss: 0.7968 - accuracy: 0.6667 - val_loss: 0.8007 - val_accuracy: 0.6667\n",
      "Epoch 49/50\n",
      "4/4 [==============================] - 0s 11ms/step - loss: 0.7929 - accuracy: 0.6667 - val_loss: 0.7969 - val_accuracy: 0.6667\n",
      "Epoch 50/50\n",
      "4/4 [==============================] - 0s 11ms/step - loss: 0.7887 - accuracy: 0.6667 - val_loss: 0.7930 - val_accuracy: 0.6667\n",
      "1/1 [==============================] - 0s 132ms/step\n"
     ]
    }
   ],
   "source": [
    "fit_history = model.fit(X_train,y_train, validation_data=(X_test,y_test), epochs=100)\n",
    "proba = model.predict(X_test)"
   ]
  },
  {
   "cell_type": "code",
   "execution_count": 15,
   "id": "6bc79fb8-23c2-4171-bcd7-50546f7c8e66",
   "metadata": {
    "tags": []
   },
   "outputs": [
    {
     "data": {
      "text/plain": [
       "array([[0.02054258, 0.31206268, 0.66739476],\n",
       "       [0.39719355, 0.34476048, 0.258046  ],\n",
       "       [0.15025592, 0.39392906, 0.45581502],\n",
       "       [0.38806435, 0.351874  , 0.26006162],\n",
       "       [0.38515443, 0.35295603, 0.26188958]], dtype=float32)"
      ]
     },
     "execution_count": 15,
     "metadata": {},
     "output_type": "execute_result"
    }
   ],
   "source": [
    "proba[:5]"
   ]
  },
  {
   "cell_type": "code",
   "execution_count": 22,
   "id": "5b746b07-9290-4d18-9e49-8b0a4920c7fd",
   "metadata": {
    "tags": []
   },
   "outputs": [
    {
     "data": {
      "text/plain": [
       "array([2, 0, 2, 0, 0, 0, 2, 2, 2, 2, 0, 2, 2, 2, 2, 0, 2, 2, 2, 2, 2, 2,\n",
       "       0, 0, 2, 2, 0, 0, 2, 2], dtype=int64)"
      ]
     },
     "execution_count": 22,
     "metadata": {},
     "output_type": "execute_result"
    }
   ],
   "source": [
    "pred = np.argmax(proba,axis=1)\n",
    "pred"
   ]
  },
  {
   "cell_type": "code",
   "execution_count": 17,
   "id": "f07ccdbc-8f02-42ff-8d19-b7f3c10f3e72",
   "metadata": {
    "tags": []
   },
   "outputs": [
    {
     "data": {
      "text/plain": [
       "((30,), (30,))"
      ]
     },
     "execution_count": 17,
     "metadata": {},
     "output_type": "execute_result"
    }
   ],
   "source": [
    "y_test.shape, pred.shape"
   ]
  },
  {
   "cell_type": "code",
   "execution_count": 18,
   "id": "6e9601cd-5abb-4248-8083-bf27f9309946",
   "metadata": {
    "tags": []
   },
   "outputs": [
    {
     "name": "stdout",
     "output_type": "stream",
     "text": [
      "0.5555555555555555\n",
      "[[10  0  0]\n",
      " [ 0  0 10]\n",
      " [ 0  0 10]]\n"
     ]
    }
   ],
   "source": [
    "from sklearn.metrics import f1_score, confusion_matrix\n",
    "print(f1_score(y_test,pred, average='macro'))\n",
    "print(confusion_matrix(y_test,pred))"
   ]
  },
  {
   "cell_type": "code",
   "execution_count": 19,
   "id": "4eecb762-1f5d-4208-8fe1-4e72b35bb21f",
   "metadata": {
    "tags": []
   },
   "outputs": [
    {
     "data": {
      "image/png": "[encoded data removed]",
      "text/plain": [
       "<Figure size 640x480 with 2 Axes>"
      ]
     },
     "metadata": {},
     "output_type": "display_data"
    },
    {
     "data": {
      "text/plain": [
       "<Figure size 640x480 with 0 Axes>"
      ]
     },
     "metadata": {},
     "output_type": "display_data"
    }
   ],
   "source": [
    "ax1 = plt.subplot(1,2,1)\n",
    "ax1.plot(fit_history.history['loss'])\n",
    "ax1.plot(fit_history.history['val_loss'])\n",
    "plt.ylabel('Loss')\n",
    "plt.xlabel('Epoch횟수')\n",
    "plt.legend(['Loss', 'Val_Loss'], loc='upper left')\n",
    "\n",
    "ax2 = plt.subplot(1,2,2)\n",
    "ax2.plot(fit_history.history['accuracy'])\n",
    "ax2.plot(fit_history.history['val_accuracy'])\n",
    "plt.ylabel('Accuracy')\n",
    "plt.xlabel('Epoch횟수')\n",
    "plt.legend(['Accuracy', 'Val_Accuracy'], loc='upper left')\n",
    "plt.show()\n",
    "\n",
    "plt.tight_layout()\n",
    "plt.show()"
   ]
  },
  {
   "cell_type": "code",
   "execution_count": 23,
   "id": "ffed2eba-d156-4924-b47e-b9447f2700c1",
   "metadata": {
    "tags": []
   },
   "outputs": [
    {
     "name": "stdout",
     "output_type": "stream",
     "text": [
      "1/1 [==============================] - 0s 31ms/step - loss: 0.7930 - accuracy: 0.6667\n"
     ]
    },
    {
     "data": {
      "text/plain": [
       "[0.7929853200912476, 0.6666666865348816]"
      ]
     },
     "execution_count": 23,
     "metadata": {},
     "output_type": "execute_result"
    }
   ],
   "source": [
    "model.evaluate(X_test,y_test)\n",
    "# 가장 좋았던 학습 가져옴"
   ]
  },
  {
   "cell_type": "code",
   "execution_count": 24,
   "id": "6dedaf89-1e9e-4fde-8147-7b8f607c4ea1",
   "metadata": {
    "tags": []
   },
   "outputs": [
    {
     "name": "stdout",
     "output_type": "stream",
     "text": [
      "1/1 [==============================] - 0s 23ms/step\n"
     ]
    }
   ],
   "source": [
    "proba = model.predict(X_test)\n",
    "\n",
    "pred = np.argmax(proba, axis = 1)"
   ]
  }
 ],
 "metadata": {
  "kernelspec": {
   "display_name": "Python 3 (ipykernel)",
   "language": "python",
   "name": "python3"
  },
  "language_info": {
   "codemirror_mode": {
    "name": "ipython",
    "version": 3
   },
   "file_extension": ".py",
   "mimetype": "text/x-python",
   "name": "python",
   "nbconvert_exporter": "python",
   "pygments_lexer": "ipython3",
   "version": "3.8.8"
  }
 },
 "nbformat": 4,
 "nbformat_minor": 5
}
